{
 "cells": [
  {
   "cell_type": "markdown",
   "id": "ca1ec177-11ae-4b46-b2ae-a7b7b6f48477",
   "metadata": {},
   "source": [
    "<h1>Notebook para Pseudomonas </h1>"
   ]
  },
  {
   "cell_type": "code",
   "execution_count": 15,
   "id": "85549996-01f6-44d1-8b50-ee0d304725db",
   "metadata": {},
   "outputs": [],
   "source": [
    "import pandas as pd\n",
    "import numpy as np\n",
    "from scipy.spatial.distance import hamming\n",
    "import gudhi as gd\n",
    "import seaborn as sns\n",
    "from statistics import mode\n",
    "import multiprocessing\n",
    "import matplotlib.pyplot as plt\n",
    "from scipy.cluster.hierarchy import dendrogram, linkage\n",
    "import gudhi as gd\n",
    "# from scipy.spatial.distance import hamming\n",
    "import plotly.graph_objs as go\n",
    "import networkx as nx\n",
    "import plotly.graph_objects as go\n",
    "import plotly.io as pio\n",
    "from networkx.utils import not_implemented_for, pairwise\n",
    "from concurrent.futures import ThreadPoolExecutor, as_completed\n",
    "\n",
    "from module_functions import *"
   ]
  },
  {
   "cell_type": "markdown",
   "id": "2c85a322-51a5-4322-a17e-39c61b677c78",
   "metadata": {},
   "source": [
    "<h2>Se extrae la información </h2>"
   ]
  },
  {
   "cell_type": "code",
   "execution_count": 16,
   "id": "b3e41a5c-d551-4c03-9291-9e0a3c9bdbdd",
   "metadata": {},
   "outputs": [],
   "source": [
    "info=pd.read_csv('data/pscpPseudo.blast',sep='\\t',header=None)\n",
    "minimum_score=100\n",
    "info=info[info[11]>=minimum_score]\n",
    "info.reset_index(drop=True,inplace=True)\n",
    "info=info.loc[:,0:1]\n",
    "names=pd.read_csv('data/Pseudomonas.ids',sep='\\t',dtype='object',header=None)"
   ]
  },
  {
   "cell_type": "markdown",
   "id": "f8311f81-3b13-4850-acd7-54093017046e",
   "metadata": {},
   "source": [
    "<h2>Se crean los data frames</h2>"
   ]
  },
  {
   "cell_type": "code",
   "execution_count": 17,
   "id": "300ec802-b446-4317-aa70-0eb51c110938",
   "metadata": {},
   "outputs": [],
   "source": [
    "info_by_pathway_and_genomes_directions=get_info_by_pathway_and_all_genomes_directions(info)\n",
    "df_by_pathway,df_by_pathway_drop_duplicate,representative_genomes=get_df_by_pathway(info_by_pathway_and_genomes_directions)\n"
   ]
  },
  {
   "cell_type": "markdown",
   "id": "8dc8571c-bb97-4f2a-850f-64c91dd7e25e",
   "metadata": {},
   "source": [
    "<h2> Se crea el complejo simplicial</h2>"
   ]
  },
  {
   "cell_type": "code",
   "execution_count": 4,
   "id": "cd2235a7-8dfb-40e1-b318-e5b8c93885f9",
   "metadata": {},
   "outputs": [],
   "source": [
    "complex_pathways=get_complex_by_pathways(df_by_pathway_drop_duplicate)"
   ]
  },
  {
   "cell_type": "code",
   "execution_count": 5,
   "id": "b847b8ba-2d1a-4853-9436-c3fda24abe80",
   "metadata": {},
   "outputs": [],
   "source": [
    "#plot_all_bar_code_pathways(complex_pathways)"
   ]
  },
  {
   "cell_type": "markdown",
   "id": "6ac61865-85e8-410a-8e7e-24c1e025e900",
   "metadata": {},
   "source": [
    "<h2>Se buscan los uno hoyos</h2>"
   ]
  },
  {
   "cell_type": "code",
   "execution_count": 6,
   "id": "e4aa4de4-7832-4e9e-a7cc-13cf82eb845f",
   "metadata": {},
   "outputs": [],
   "source": [
    "holes_by_pathway=change_vertex_to_name_per_path(df_by_pathway_drop_duplicate,holes_pathway_pseudo(),names,representative_genomes)"
   ]
  },
  {
   "cell_type": "code",
   "execution_count": 7,
   "id": "d0975e6c-5f22-4d79-bbf1-3bd29feaf047",
   "metadata": {},
   "outputs": [],
   "source": [
    "holes_by_pathway['calcium-dependent-antibiotic']=[]\n",
    "holes_by_pathway['polyketide']=[]"
   ]
  },
  {
   "cell_type": "code",
   "execution_count": 8,
   "id": "867ddc47-e7f0-4806-b328-4536f1886f50",
   "metadata": {},
   "outputs": [
    {
     "name": "stderr",
     "output_type": "stream",
     "text": [
      "/opt/conda/envs/TDA/lib/python3.7/site-packages/pandas/core/internals/blocks.py:937: VisibleDeprecationWarning: Creating an ndarray from ragged nested sequences (which is a list-or-tuple of lists-or-tuples-or ndarrays with different lengths or shapes) is deprecated. If you meant to do this, you must specify 'dtype=object' when creating the ndarray.\n",
      "  arr_value = np.asarray(value)\n"
     ]
    },
    {
     "data": {
      "text/html": [
       "<div>\n",
       "<style scoped>\n",
       "    .dataframe tbody tr th:only-of-type {\n",
       "        vertical-align: middle;\n",
       "    }\n",
       "\n",
       "    .dataframe tbody tr th {\n",
       "        vertical-align: top;\n",
       "    }\n",
       "\n",
       "    .dataframe thead th {\n",
       "        text-align: right;\n",
       "    }\n",
       "</style>\n",
       "<table border=\"1\" class=\"dataframe\">\n",
       "  <thead>\n",
       "    <tr style=\"text-align: right;\">\n",
       "      <th></th>\n",
       "      <th>num_columnas</th>\n",
       "      <th>num_hoyos</th>\n",
       "      <th>ciclos</th>\n",
       "      <th>ciclos por genero</th>\n",
       "      <th>duración hoyos</th>\n",
       "    </tr>\n",
       "  </thead>\n",
       "  <tbody>\n",
       "    <tr>\n",
       "      <th>calcium-dependent-antibiotic</th>\n",
       "      <td>1</td>\n",
       "      <td>0</td>\n",
       "      <td>[]</td>\n",
       "      <td>[]</td>\n",
       "      <td>[]</td>\n",
       "    </tr>\n",
       "    <tr>\n",
       "      <th>polyketide</th>\n",
       "      <td>1</td>\n",
       "      <td>0</td>\n",
       "      <td>[]</td>\n",
       "      <td>[]</td>\n",
       "      <td>[]</td>\n",
       "    </tr>\n",
       "    <tr>\n",
       "      <th>3PGA_AMINOACIDS</th>\n",
       "      <td>2</td>\n",
       "      <td>9</td>\n",
       "      <td>[[[Pseudomonas aeruginosa str. Stone 130 AQFN0...</td>\n",
       "      <td>[[[Pseudomonas, Pseudomonas, Pseudomonas, Pseu...</td>\n",
       "      <td>[1.0]</td>\n",
       "    </tr>\n",
       "    <tr>\n",
       "      <th>ALPHAKETOGLUTARATE_AMINOACIDS</th>\n",
       "      <td>12</td>\n",
       "      <td>46</td>\n",
       "      <td>[[[Pseudomonas aeruginosa str. Stone 130 AQFN0...</td>\n",
       "      <td>[[[Pseudomonas, Pseudomonas, Pseudomonas], [Ps...</td>\n",
       "      <td>[1.0]</td>\n",
       "    </tr>\n",
       "    <tr>\n",
       "      <th>E4P_AMINO_ACIDS</th>\n",
       "      <td>7</td>\n",
       "      <td>6</td>\n",
       "      <td>[[[Pseudomonas denitrificans ATCC 13867 NC_020...</td>\n",
       "      <td>[[[Pseudomonas, Pseudomonas, Pseudomonas, Pseu...</td>\n",
       "      <td>[1.0]</td>\n",
       "    </tr>\n",
       "    <tr>\n",
       "      <th>Glycolysis</th>\n",
       "      <td>3</td>\n",
       "      <td>2</td>\n",
       "      <td>[[[Pseudomonas denitrificans ATCC 13867 NC_020...</td>\n",
       "      <td>[[[Pseudomonas, Pseudomonas, Pseudomonas, Pseu...</td>\n",
       "      <td>[1.0]</td>\n",
       "    </tr>\n",
       "    <tr>\n",
       "      <th>OXALACETATE_AMINOACIDS</th>\n",
       "      <td>5</td>\n",
       "      <td>54</td>\n",
       "      <td>[[[Pseudomonas deceptionensis JYKX01, Pseudomo...</td>\n",
       "      <td>[[[Pseudomonas, Pseudomonas, Pseudomonas], [Ps...</td>\n",
       "      <td>[1.0]</td>\n",
       "    </tr>\n",
       "    <tr>\n",
       "      <th>PYR_THR_AA</th>\n",
       "      <td>6</td>\n",
       "      <td>51</td>\n",
       "      <td>[[[Pseudomonas monteilii QM AHGZ01, Pseudomona...</td>\n",
       "      <td>[[[Pseudomonas, Pseudomonas, Pseudomonas, Pseu...</td>\n",
       "      <td>[1.0]</td>\n",
       "    </tr>\n",
       "    <tr>\n",
       "      <th>R5P_AMINOACIDS</th>\n",
       "      <td>5</td>\n",
       "      <td>8</td>\n",
       "      <td>[[[Pseudomonas monteilii NBRC 103158 = DSM 141...</td>\n",
       "      <td>[[[Pseudomonas, Pseudomonas, Pseudomonas, Pseu...</td>\n",
       "      <td>[1.0]</td>\n",
       "    </tr>\n",
       "    <tr>\n",
       "      <th>TCA</th>\n",
       "      <td>3</td>\n",
       "      <td>4</td>\n",
       "      <td>[[[Pseudomonas denitrificans ATCC 13867 NC_020...</td>\n",
       "      <td>[[[Pseudomonas, Pseudomonas, Pseudomonas, Pseu...</td>\n",
       "      <td>[1.0]</td>\n",
       "    </tr>\n",
       "  </tbody>\n",
       "</table>\n",
       "</div>"
      ],
      "text/plain": [
       "                              num_columnas num_hoyos  \\\n",
       "calcium-dependent-antibiotic             1         0   \n",
       "polyketide                               1         0   \n",
       "3PGA_AMINOACIDS                          2         9   \n",
       "ALPHAKETOGLUTARATE_AMINOACIDS           12        46   \n",
       "E4P_AMINO_ACIDS                          7         6   \n",
       "Glycolysis                               3         2   \n",
       "OXALACETATE_AMINOACIDS                   5        54   \n",
       "PYR_THR_AA                               6        51   \n",
       "R5P_AMINOACIDS                           5         8   \n",
       "TCA                                      3         4   \n",
       "\n",
       "                                                                          ciclos  \\\n",
       "calcium-dependent-antibiotic                                                  []   \n",
       "polyketide                                                                    []   \n",
       "3PGA_AMINOACIDS                [[[Pseudomonas aeruginosa str. Stone 130 AQFN0...   \n",
       "ALPHAKETOGLUTARATE_AMINOACIDS  [[[Pseudomonas aeruginosa str. Stone 130 AQFN0...   \n",
       "E4P_AMINO_ACIDS                [[[Pseudomonas denitrificans ATCC 13867 NC_020...   \n",
       "Glycolysis                     [[[Pseudomonas denitrificans ATCC 13867 NC_020...   \n",
       "OXALACETATE_AMINOACIDS         [[[Pseudomonas deceptionensis JYKX01, Pseudomo...   \n",
       "PYR_THR_AA                     [[[Pseudomonas monteilii QM AHGZ01, Pseudomona...   \n",
       "R5P_AMINOACIDS                 [[[Pseudomonas monteilii NBRC 103158 = DSM 141...   \n",
       "TCA                            [[[Pseudomonas denitrificans ATCC 13867 NC_020...   \n",
       "\n",
       "                                                               ciclos por genero  \\\n",
       "calcium-dependent-antibiotic                                                  []   \n",
       "polyketide                                                                    []   \n",
       "3PGA_AMINOACIDS                [[[Pseudomonas, Pseudomonas, Pseudomonas, Pseu...   \n",
       "ALPHAKETOGLUTARATE_AMINOACIDS  [[[Pseudomonas, Pseudomonas, Pseudomonas], [Ps...   \n",
       "E4P_AMINO_ACIDS                [[[Pseudomonas, Pseudomonas, Pseudomonas, Pseu...   \n",
       "Glycolysis                     [[[Pseudomonas, Pseudomonas, Pseudomonas, Pseu...   \n",
       "OXALACETATE_AMINOACIDS         [[[Pseudomonas, Pseudomonas, Pseudomonas], [Ps...   \n",
       "PYR_THR_AA                     [[[Pseudomonas, Pseudomonas, Pseudomonas, Pseu...   \n",
       "R5P_AMINOACIDS                 [[[Pseudomonas, Pseudomonas, Pseudomonas, Pseu...   \n",
       "TCA                            [[[Pseudomonas, Pseudomonas, Pseudomonas, Pseu...   \n",
       "\n",
       "                              duración hoyos  \n",
       "calcium-dependent-antibiotic              []  \n",
       "polyketide                                []  \n",
       "3PGA_AMINOACIDS                        [1.0]  \n",
       "ALPHAKETOGLUTARATE_AMINOACIDS          [1.0]  \n",
       "E4P_AMINO_ACIDS                        [1.0]  \n",
       "Glycolysis                             [1.0]  \n",
       "OXALACETATE_AMINOACIDS                 [1.0]  \n",
       "PYR_THR_AA                             [1.0]  \n",
       "R5P_AMINOACIDS                         [1.0]  \n",
       "TCA                                    [1.0]  "
      ]
     },
     "execution_count": 8,
     "metadata": {},
     "output_type": "execute_result"
    }
   ],
   "source": [
    "resum=get_resum_df(df_by_pathway,complex_pathways,holes_by_pathway)\n",
    "resum"
   ]
  },
  {
   "cell_type": "code",
   "execution_count": 10,
   "id": "f8c5c6ad-b0ab-4484-8d2c-f20a62ae87d3",
   "metadata": {},
   "outputs": [
    {
     "data": {
      "text/plain": [
       "['Pseudomonas monteilii NBRC 103158 = DSM 14164 JHYV01',\n",
       " 'Pseudomonas brassicacearum subsp. brassicacearum NFM421 NC_015379.1',\n",
       " 'Pseudomonas alkylphenolia KL28',\n",
       " 'Pseudomonas taeanensis ms-3 AWSQ01']"
      ]
     },
     "execution_count": 10,
     "metadata": {},
     "output_type": "execute_result"
    }
   ],
   "source": [
    "ciclo=resum.loc['R5P_AMINOACIDS','ciclos'][0]\n",
    "elementos_ciclo=[]\n",
    "for i in ciclo:\n",
    "    if type(i)==str:\n",
    "        elementos_ciclo.append(i)\n",
    "    else:\n",
    "        elementos_ciclo.append(i[0])\n",
    "elementos_ciclo"
   ]
  },
  {
   "cell_type": "code",
   "execution_count": 11,
   "id": "658a8750-01f4-48e1-bf05-8c3bc44abc72",
   "metadata": {},
   "outputs": [
    {
     "data": {
      "text/html": [
       "<div>\n",
       "<style scoped>\n",
       "    .dataframe tbody tr th:only-of-type {\n",
       "        vertical-align: middle;\n",
       "    }\n",
       "\n",
       "    .dataframe tbody tr th {\n",
       "        vertical-align: top;\n",
       "    }\n",
       "\n",
       "    .dataframe thead th {\n",
       "        text-align: right;\n",
       "    }\n",
       "</style>\n",
       "<table border=\"1\" class=\"dataframe\">\n",
       "  <thead>\n",
       "    <tr style=\"text-align: right;\">\n",
       "      <th></th>\n",
       "      <th>ribosephosphate_pyrophosphokinase</th>\n",
       "      <th>imidazoleglycerol_phosphate_dehydratase</th>\n",
       "      <th>imidazole_glycerol_phosphate_synthase_H</th>\n",
       "      <th>phosphoribosyl_isomerase_A</th>\n",
       "      <th>histidinol_dehydrogenase</th>\n",
       "    </tr>\n",
       "    <tr>\n",
       "      <th>R5P_AMINOACIDS</th>\n",
       "      <th></th>\n",
       "      <th></th>\n",
       "      <th></th>\n",
       "      <th></th>\n",
       "      <th></th>\n",
       "    </tr>\n",
       "  </thead>\n",
       "  <tbody>\n",
       "    <tr>\n",
       "      <th>Pseudomonas monteilii NBRC 103158 = DSM 14164 JHYV01</th>\n",
       "      <td>2</td>\n",
       "      <td>1</td>\n",
       "      <td>3</td>\n",
       "      <td>2</td>\n",
       "      <td>1</td>\n",
       "    </tr>\n",
       "    <tr>\n",
       "      <th>Pseudomonas brassicacearum subsp. brassicacearum NFM421 NC_015379.1</th>\n",
       "      <td>2</td>\n",
       "      <td>1</td>\n",
       "      <td>5</td>\n",
       "      <td>2</td>\n",
       "      <td>1</td>\n",
       "    </tr>\n",
       "    <tr>\n",
       "      <th>Pseudomonas alkylphenolia KL28</th>\n",
       "      <td>2</td>\n",
       "      <td>1</td>\n",
       "      <td>3</td>\n",
       "      <td>2</td>\n",
       "      <td>2</td>\n",
       "    </tr>\n",
       "    <tr>\n",
       "      <th>Pseudomonas taeanensis ms-3 AWSQ01</th>\n",
       "      <td>2</td>\n",
       "      <td>1</td>\n",
       "      <td>5</td>\n",
       "      <td>2</td>\n",
       "      <td>2</td>\n",
       "    </tr>\n",
       "  </tbody>\n",
       "</table>\n",
       "</div>"
      ],
      "text/plain": [
       "                                                   ribosephosphate_pyrophosphokinase  \\\n",
       "R5P_AMINOACIDS                                                                         \n",
       "Pseudomonas monteilii NBRC 103158 = DSM 14164 J...                                 2   \n",
       "Pseudomonas brassicacearum subsp. brassicacearu...                                 2   \n",
       "Pseudomonas alkylphenolia KL28                                                     2   \n",
       "Pseudomonas taeanensis ms-3 AWSQ01                                                 2   \n",
       "\n",
       "                                                   imidazoleglycerol_phosphate_dehydratase  \\\n",
       "R5P_AMINOACIDS                                                                               \n",
       "Pseudomonas monteilii NBRC 103158 = DSM 14164 J...                                       1   \n",
       "Pseudomonas brassicacearum subsp. brassicacearu...                                       1   \n",
       "Pseudomonas alkylphenolia KL28                                                           1   \n",
       "Pseudomonas taeanensis ms-3 AWSQ01                                                       1   \n",
       "\n",
       "                                                   imidazole_glycerol_phosphate_synthase_H  \\\n",
       "R5P_AMINOACIDS                                                                               \n",
       "Pseudomonas monteilii NBRC 103158 = DSM 14164 J...                                       3   \n",
       "Pseudomonas brassicacearum subsp. brassicacearu...                                       5   \n",
       "Pseudomonas alkylphenolia KL28                                                           3   \n",
       "Pseudomonas taeanensis ms-3 AWSQ01                                                       5   \n",
       "\n",
       "                                                   phosphoribosyl_isomerase_A  \\\n",
       "R5P_AMINOACIDS                                                                  \n",
       "Pseudomonas monteilii NBRC 103158 = DSM 14164 J...                          2   \n",
       "Pseudomonas brassicacearum subsp. brassicacearu...                          2   \n",
       "Pseudomonas alkylphenolia KL28                                              2   \n",
       "Pseudomonas taeanensis ms-3 AWSQ01                                          2   \n",
       "\n",
       "                                                   histidinol_dehydrogenase  \n",
       "R5P_AMINOACIDS                                                               \n",
       "Pseudomonas monteilii NBRC 103158 = DSM 14164 J...                        1  \n",
       "Pseudomonas brassicacearum subsp. brassicacearu...                        1  \n",
       "Pseudomonas alkylphenolia KL28                                            2  \n",
       "Pseudomonas taeanensis ms-3 AWSQ01                                        2  "
      ]
     },
     "execution_count": 11,
     "metadata": {},
     "output_type": "execute_result"
    }
   ],
   "source": [
    "traduced_df(df_by_pathway_drop_duplicate['R5P_AMINOACIDS'],names).loc[elementos_ciclo]"
   ]
  },
  {
   "cell_type": "code",
   "execution_count": 46,
   "id": "0824ff68-9d4a-46f1-8ca9-0ddfc0c758f1",
   "metadata": {},
   "outputs": [
    {
     "data": {
      "text/plain": [
       "<AxesSubplot:title={'center':'Persistence diagram'}, xlabel='Birth', ylabel='Death'>"
      ]
     },
     "execution_count": 46,
     "metadata": {},
     "output_type": "execute_result"
    },
    {
     "data": {
      "image/png": "[encoded data removed]",
      "text/plain": [
       "<Figure size 640x480 with 1 Axes>"
      ]
     },
     "metadata": {},
     "output_type": "display_data"
    },
    {
     "data": {
      "image/png": "[encoded data removed]",
      "text/plain": [
       "<Figure size 640x480 with 1 Axes>"
      ]
     },
     "metadata": {},
     "output_type": "display_data"
    }
   ],
   "source": [
    "gd.plot_persistence_barcode(complex_pathways['R5P_AMINOACIDS'][0])\n",
    "gd.plot_persistence_diagram(complex_pathways['R5P_AMINOACIDS'][0])"
   ]
  },
  {
   "cell_type": "code",
   "execution_count": 12,
   "id": "81bc1190-2d15-48bd-9704-75a718392f28",
   "metadata": {},
   "outputs": [
    {
     "data": {
      "text/plain": [
       "plotly.graph_objs._figure.Figure"
      ]
     },
     "execution_count": 12,
     "metadata": {},
     "output_type": "execute_result"
    }
   ],
   "source": [
    "visualize_simplicial_complex(complex_pathways['R5P_AMINOACIDS'][1],1,'R5P_AMINOACIDS','Pseudomonas')"
   ]
  },
  {
   "cell_type": "markdown",
   "id": "c2893741-3b56-480b-a748-87974e73b60e",
   "metadata": {},
   "source": [
    "<h2>Se buscan uno hoyos pero al separar por genero y ruta metabólica</h2>"
   ]
  },
  {
   "cell_type": "code",
   "execution_count": 13,
   "id": "743117c6-8600-4711-84ab-d8218c42bd92",
   "metadata": {},
   "outputs": [],
   "source": [
    "df_by_genus_pathway,df_by_genus_pathway_drop_duplicate,representative_genomes_genus_pathway=get_df_by_genus_pathway(df_by_pathway,names)\n",
    "complex_genus_pathways=get_complex_by_pathways(df_by_genus_pathway_drop_duplicate)"
   ]
  },
  {
   "cell_type": "code",
   "execution_count": 14,
   "id": "ba907e9d-a635-4c79-9af6-7d2e0c78b374",
   "metadata": {},
   "outputs": [
    {
     "name": "stdout",
     "output_type": "stream",
     "text": [
      "se buscan ciclos en el tiempo 2.0 para Pseudomonas_3PGA_AMINOACIDS\n",
      "se buscan ciclos en el tiempo 2.0 para Pseudomonas_ALPHAKETOGLUTARATE_AMINOACIDS\n",
      "se buscan ciclos en el tiempo 2.0 para Pseudomonas_E4P_AMINO_ACIDS\n",
      "se buscan ciclos en el tiempo 2.0 para Pseudomonas_Glycolysis\n",
      "Se encontró el ciclo [4, 5, 2, 0] en el tiempo 1.0 para Pseudomonas_Glycolysis\n",
      "Se encontró el ciclo [3, 1, 2, 0] en el tiempo 1.0 para Pseudomonas_Glycolysis\n",
      "se buscan ciclos en el tiempo 2.0 para Pseudomonas_OXALACETATE_AMINOACIDS\n",
      "Se encontró el ciclo [8, 7, 6, 0] en el tiempo 1.0 para Pseudomonas_E4P_AMINO_ACIDS\n",
      "Se encontró el ciclo [4, 13, 2, 0] en el tiempo 1.0 para Pseudomonas_E4P_AMINO_ACIDS\n",
      "Se encontró el ciclo [6, 3, 1, 0] en el tiempo 1.0 para Pseudomonas_E4P_AMINO_ACIDS\n",
      "Se encontró el ciclo [13, 14, 10, 2] en el tiempo 1.0 para Pseudomonas_E4P_AMINO_ACIDS\n",
      "Se encontró el ciclo [6, 5, 4, 0] en el tiempo 1.0 para Pseudomonas_E4P_AMINO_ACIDS\n",
      "Se encontró el ciclo [8, 12, 1, 0] en el tiempo 1.0 para Pseudomonas_E4P_AMINO_ACIDS\n",
      "se buscan ciclos en el tiempo 2.0 para Pseudomonas_PYR_THR_AA\n",
      "Se encontró el ciclo [13, 7, 3, 1] en el tiempo 1.0 para Pseudomonas_3PGA_AMINOACIDS\n",
      "Se encontró el ciclo [5, 0, 4, 1] en el tiempo 1.0 para Pseudomonas_3PGA_AMINOACIDS\n",
      "Se encontró el ciclo [18, 16, 6, 2] en el tiempo 1.0 para Pseudomonas_3PGA_AMINOACIDS\n",
      "Se encontró el ciclo [9, 11, 5, 1] en el tiempo 1.0 para Pseudomonas_3PGA_AMINOACIDS\n",
      "Se encontró el ciclo [13, 15, 9, 1] en el tiempo 1.0 para Pseudomonas_3PGA_AMINOACIDS\n",
      "Se encontró el ciclo [14, 8, 3, 1] en el tiempo 1.0 para Pseudomonas_3PGA_AMINOACIDS\n",
      "Se encontró el ciclo [4, 12, 2, 3] en el tiempo 1.0 para Pseudomonas_3PGA_AMINOACIDS\n",
      "Se encontró el ciclo [13, 10, 4, 1] en el tiempo 1.0 para Pseudomonas_3PGA_AMINOACIDS\n",
      "Se encontró el ciclo [5, 6, 3, 1] en el tiempo 1.0 para Pseudomonas_3PGA_AMINOACIDS\n",
      "se buscan ciclos en el tiempo 2.0 para Pseudomonas_R5P_AMINOACIDS\n",
      "se buscan ciclos en el tiempo 2.0 para Pseudomonas_TCA\n",
      "Se encontró el ciclo [8, 3, 5, 0] en el tiempo 1.0 para Pseudomonas_TCA\n",
      "Se encontró el ciclo [9, 15, 2, 0] en el tiempo 1.0 para Pseudomonas_TCA\n",
      "Se encontró el ciclo [5, 13, 2, 0] en el tiempo 1.0 para Pseudomonas_TCA\n",
      "Se encontró el ciclo [5, 11, 1, 0] en el tiempo 1.0 para Pseudomonas_TCA\n",
      "Se encontró el ciclo [9, 12, 7, 2] en el tiempo 1.0 para Pseudomonas_R5P_AMINOACIDS\n",
      "Se encontró el ciclo [5, 14, 2, 0] en el tiempo 1.0 para Pseudomonas_R5P_AMINOACIDS\n",
      "Se encontró el ciclo [24, 15, 3, 0] en el tiempo 1.0 para Pseudomonas_R5P_AMINOACIDS\n",
      "Se encontró el ciclo [24, 23, 8, 0] en el tiempo 1.0 para Pseudomonas_R5P_AMINOACIDS\n",
      "Se encontró el ciclo [8, 25, 3, 0] en el tiempo 1.0 para Pseudomonas_R5P_AMINOACIDS\n",
      "Se encontró el ciclo [2, 10, 1, 0] en el tiempo 1.0 para Pseudomonas_R5P_AMINOACIDS\n",
      "Se encontró el ciclo [4, 9, 2, 0] en el tiempo 1.0 para Pseudomonas_R5P_AMINOACIDS\n",
      "Se encontró el ciclo [5, 6, 3, 0] en el tiempo 1.0 para Pseudomonas_R5P_AMINOACIDS\n",
      "Se encontró el ciclo [81, 15, 14, 6] en el tiempo 1.0 para Pseudomonas_PYR_THR_AA\n",
      "Se encontró el ciclo [11, 81, 6, 0] en el tiempo 1.0 para Pseudomonas_PYR_THR_AA\n",
      "Se encontró el ciclo [86, 53, 19, 8] en el tiempo 1.0 para Pseudomonas_PYR_THR_AA\n",
      "Se encontró el ciclo [45, 64, 37, 30] en el tiempo 1.0 para Pseudomonas_PYR_THR_AA\n",
      "Se encontró el ciclo [86, 53, 49, 12] en el tiempo 1.0 para Pseudomonas_PYR_THR_AA\n",
      "Se encontró el ciclo [36, 52, 40, 37, 30, 25] en el tiempo 1.0 para Pseudomonas_PYR_THR_AA\n",
      "Se encontró el ciclo [58, 26, 31, 12] en el tiempo 1.0 para Pseudomonas_PYR_THR_AA\n",
      "Se encontró el ciclo [75, 24, 30, 21] en el tiempo 1.0 para Pseudomonas_PYR_THR_AA\n",
      "Se encontró el ciclo [105, 46, 51, 16] en el tiempo 1.0 para Pseudomonas_PYR_THR_AA\n",
      "Se encontró el ciclo [82, 61, 76, 56] en el tiempo 1.0 para Pseudomonas_PYR_THR_AA\n",
      "Se encontró el ciclo [86, 56, 33, 12] en el tiempo 1.0 para Pseudomonas_PYR_THR_AA\n",
      "Se encontró el ciclo [43, 30, 24, 10] en el tiempo 1.0 para Pseudomonas_PYR_THR_AA\n",
      "Se encontró el ciclo [86, 82, 22, 12] en el tiempo 1.0 para Pseudomonas_PYR_THR_AA\n",
      "Se encontró el ciclo [85, 78, 39, 38] en el tiempo 1.0 para Pseudomonas_PYR_THR_AA\n",
      "Se encontró el ciclo [39, 78, 32, 1] en el tiempo 1.0 para Pseudomonas_PYR_THR_AA\n",
      "Se encontró el ciclo [85, 50, 60, 38] en el tiempo 1.0 para Pseudomonas_PYR_THR_AA\n",
      "Se encontró el ciclo [93, 80, 89, 100] en el tiempo 1.0 para Pseudomonas_PYR_THR_AA\n",
      "Se encontró el ciclo [95, 80, 23, 72] en el tiempo 1.0 para Pseudomonas_PYR_THR_AA\n",
      "se buscan ciclos en el tiempo 3.0 para Pseudomonas_PYR_THR_AA\n",
      "Se encontró el ciclo [114, 112, 44, 1] en el tiempo 1.0 para Pseudomonas_ALPHAKETOGLUTARATE_AMINOACIDS\n",
      "Se encontró el ciclo [121, 102, 97, 80] en el tiempo 1.0 para Pseudomonas_ALPHAKETOGLUTARATE_AMINOACIDS\n",
      "Se encontró el ciclo [115, 61, 111, 1] en el tiempo 1.0 para Pseudomonas_ALPHAKETOGLUTARATE_AMINOACIDS\n",
      "Se encontró el ciclo [44, 49, 35, 1] en el tiempo 1.0 para Pseudomonas_ALPHAKETOGLUTARATE_AMINOACIDS\n",
      "Se encontró el ciclo [67, 76, 35, 1] en el tiempo 1.0 para Pseudomonas_ALPHAKETOGLUTARATE_AMINOACIDS\n",
      "Se encontró el ciclo [73, 37, 46, 6] en el tiempo 1.0 para Pseudomonas_ALPHAKETOGLUTARATE_AMINOACIDS\n",
      "Se encontró el ciclo [88, 31, 20, 30, 67, 46, 6, 4] en el tiempo 1.0 para Pseudomonas_ALPHAKETOGLUTARATE_AMINOACIDS\n",
      "Se encontró el ciclo [115, 38, 44, 1] en el tiempo 1.0 para Pseudomonas_ALPHAKETOGLUTARATE_AMINOACIDS\n",
      "Se encontró el ciclo [99, 109, 93, 52] en el tiempo 1.0 para Pseudomonas_ALPHAKETOGLUTARATE_AMINOACIDS\n",
      "Se encontró el ciclo [44, 67, 30, 12] en el tiempo 1.0 para Pseudomonas_ALPHAKETOGLUTARATE_AMINOACIDS\n",
      "Se encontró el ciclo [133, 60, 56, 1] en el tiempo 1.0 para Pseudomonas_ALPHAKETOGLUTARATE_AMINOACIDS\n",
      "Se encontró el ciclo [133, 110, 115, 1] en el tiempo 1.0 para Pseudomonas_ALPHAKETOGLUTARATE_AMINOACIDS\n",
      "Se encontró el ciclo [133, 110, 26, 60] en el tiempo 1.0 para Pseudomonas_ALPHAKETOGLUTARATE_AMINOACIDS\n",
      "Se encontró el ciclo [35, 33, 24, 1] en el tiempo 1.0 para Pseudomonas_ALPHAKETOGLUTARATE_AMINOACIDS\n",
      "Se encontró el ciclo [111, 17, 35, 1] en el tiempo 1.0 para Pseudomonas_ALPHAKETOGLUTARATE_AMINOACIDS\n",
      "Se encontró el ciclo [133, 97, 16, 1] en el tiempo 1.0 para Pseudomonas_ALPHAKETOGLUTARATE_AMINOACIDS\n",
      "Se encontró el ciclo [99, 44, 46, 6] en el tiempo 1.0 para Pseudomonas_ALPHAKETOGLUTARATE_AMINOACIDS\n",
      "Se encontró el ciclo [46, 1, 16, 6] en el tiempo 1.0 para Pseudomonas_ALPHAKETOGLUTARATE_AMINOACIDS\n",
      "Se encontró el ciclo [66, 48, 51, 139] en el tiempo 1.0 para Pseudomonas_ALPHAKETOGLUTARATE_AMINOACIDS\n",
      "Se encontró el ciclo [101, 87, 77, 22] en el tiempo 1.0 para Pseudomonas_ALPHAKETOGLUTARATE_AMINOACIDS\n",
      "Se encontró el ciclo [101, 58, 34, 18] en el tiempo 1.0 para Pseudomonas_ALPHAKETOGLUTARATE_AMINOACIDS\n",
      "Se encontró el ciclo [101, 71, 90, 18] en el tiempo 1.0 para Pseudomonas_ALPHAKETOGLUTARATE_AMINOACIDS\n",
      "Se encontró el ciclo [105, 124, 90, 18] en el tiempo 1.0 para Pseudomonas_ALPHAKETOGLUTARATE_AMINOACIDS\n",
      "Se encontró el ciclo [74, 47, 45, 28] en el tiempo 1.0 para Pseudomonas_ALPHAKETOGLUTARATE_AMINOACIDS\n",
      "Se encontró el ciclo [101, 28, 74, 22] en el tiempo 1.0 para Pseudomonas_ALPHAKETOGLUTARATE_AMINOACIDS\n",
      "Se encontró el ciclo [90, 21, 28, 18] en el tiempo 1.0 para Pseudomonas_ALPHAKETOGLUTARATE_AMINOACIDS\n",
      "se buscan ciclos en el tiempo 3.0 para Pseudomonas_ALPHAKETOGLUTARATE_AMINOACIDS\n",
      "Se encontró el ciclo [84, 101, 53, 48] en el tiempo 1.0 para Pseudomonas_OXALACETATE_AMINOACIDS\n",
      "Se encontró el ciclo [98, 101, 53, 43] en el tiempo 1.0 para Pseudomonas_OXALACETATE_AMINOACIDS\n",
      "Se encontró el ciclo [68, 69, 37, 30] en el tiempo 1.0 para Pseudomonas_OXALACETATE_AMINOACIDS\n",
      "Se encontró el ciclo [54, 86, 39, 20] en el tiempo 1.0 para Pseudomonas_OXALACETATE_AMINOACIDS\n",
      "Se encontró el ciclo [48, 80, 42, 14] en el tiempo 1.0 para Pseudomonas_OXALACETATE_AMINOACIDS\n",
      "Se encontró el ciclo [81, 17, 6, 0] en el tiempo 1.0 para Pseudomonas_OXALACETATE_AMINOACIDS\n",
      "Se encontró el ciclo [20, 36, 38, 5, 12, 4] en el tiempo 1.0 para Pseudomonas_OXALACETATE_AMINOACIDS\n",
      "Se encontró el ciclo [81, 74, 39, 4] en el tiempo 1.0 para Pseudomonas_OXALACETATE_AMINOACIDS\n",
      "Se encontró el ciclo [37, 30, 11, 20] en el tiempo 1.0 para Pseudomonas_OXALACETATE_AMINOACIDS\n",
      "Se encontró el ciclo [80, 49, 54, 20] en el tiempo 1.0 para Pseudomonas_OXALACETATE_AMINOACIDS\n",
      "Se encontró el ciclo [27, 24, 50, 82, 46, 30, 11] en el tiempo 1.0 para Pseudomonas_OXALACETATE_AMINOACIDS\n",
      "Se encontró el ciclo [94, 27, 75, 0] en el tiempo 1.0 para Pseudomonas_OXALACETATE_AMINOACIDS\n",
      "Se encontró el ciclo [67, 87, 50, 24] en el tiempo 1.0 para Pseudomonas_OXALACETATE_AMINOACIDS\n",
      "Se encontró el ciclo [80, 42, 36, 20] en el tiempo 1.0 para Pseudomonas_OXALACETATE_AMINOACIDS\n",
      "Se encontró el ciclo [52, 40, 22, 18] en el tiempo 1.0 para Pseudomonas_OXALACETATE_AMINOACIDS\n",
      "Se encontró el ciclo [65, 52, 35, 1] en el tiempo 1.0 para Pseudomonas_OXALACETATE_AMINOACIDS\n",
      "Se encontró el ciclo [94, 0, 92, 1] en el tiempo 1.0 para Pseudomonas_OXALACETATE_AMINOACIDS\n",
      "Se encontró el ciclo [81, 74, 75, 0] en el tiempo 1.0 para Pseudomonas_OXALACETATE_AMINOACIDS\n",
      "Se encontró el ciclo [90, 42, 80, 25] en el tiempo 1.0 para Pseudomonas_OXALACETATE_AMINOACIDS\n",
      "Se encontró el ciclo [43, 80, 35, 10] en el tiempo 1.0 para Pseudomonas_OXALACETATE_AMINOACIDS\n",
      "Se encontró el ciclo [36, 85, 35, 20] en el tiempo 1.0 para Pseudomonas_OXALACETATE_AMINOACIDS\n",
      "Se encontró el ciclo [67, 51, 48, 18] en el tiempo 1.0 para Pseudomonas_OXALACETATE_AMINOACIDS\n",
      "Se encontró el ciclo [90, 45, 43, 25] en el tiempo 1.0 para Pseudomonas_OXALACETATE_AMINOACIDS\n",
      "Se encontró el ciclo [56, 41, 4, 1] en el tiempo 1.0 para Pseudomonas_OXALACETATE_AMINOACIDS\n",
      "Se encontró el ciclo [92, 67, 24, 1] en el tiempo 1.0 para Pseudomonas_OXALACETATE_AMINOACIDS\n",
      "Se encontró el ciclo [81, 21, 20, 4] en el tiempo 1.0 para Pseudomonas_OXALACETATE_AMINOACIDS\n",
      "Se encontró el ciclo [92, 81, 4, 1] en el tiempo 1.0 para Pseudomonas_OXALACETATE_AMINOACIDS\n",
      "Se encontró el ciclo [17, 29, 2, 6] en el tiempo 1.0 para Pseudomonas_OXALACETATE_AMINOACIDS\n",
      "Se encontró el ciclo [39, 89, 7, 24] en el tiempo 1.0 para Pseudomonas_OXALACETATE_AMINOACIDS\n",
      "Se encontró el ciclo [48, 80, 35, 18] en el tiempo 1.0 para Pseudomonas_OXALACETATE_AMINOACIDS\n",
      "Se encontró el ciclo [64, 55, 24, 10] en el tiempo 1.0 para Pseudomonas_OXALACETATE_AMINOACIDS\n",
      "Se encontró el ciclo [51, 53, 43, 25] en el tiempo 1.0 para Pseudomonas_OXALACETATE_AMINOACIDS\n",
      "Se encontró el ciclo [81, 21, 22, 0] en el tiempo 1.0 para Pseudomonas_OXALACETATE_AMINOACIDS\n",
      "Se encontró el ciclo [94, 28, 77, 32, 23, 36, 20, 4] en el tiempo 1.0 para Pseudomonas_OXALACETATE_AMINOACIDS\n",
      "Se encontró el ciclo [24, 39, 4, 1] en el tiempo 1.0 para Pseudomonas_OXALACETATE_AMINOACIDS\n",
      "Se encontró el ciclo [92, 18, 35, 1] en el tiempo 1.0 para Pseudomonas_OXALACETATE_AMINOACIDS\n",
      "Se encontró el ciclo [41, 95, 37, 20] en el tiempo 1.0 para Pseudomonas_OXALACETATE_AMINOACIDS\n",
      "Se encontró el ciclo [94, 11, 35, 1] en el tiempo 1.0 para Pseudomonas_OXALACETATE_AMINOACIDS\n",
      "Se encontró el ciclo [10, 97, 4, 1] en el tiempo 1.0 para Pseudomonas_OXALACETATE_AMINOACIDS\n",
      "Se encontró el ciclo [92, 18, 22, 0] en el tiempo 1.0 para Pseudomonas_OXALACETATE_AMINOACIDS\n",
      "Se encontró el ciclo [94, 11, 22, 0] en el tiempo 1.0 para Pseudomonas_OXALACETATE_AMINOACIDS\n",
      "Se encontró el ciclo [92, 67, 75, 0] en el tiempo 1.0 para Pseudomonas_OXALACETATE_AMINOACIDS\n",
      "Se encontró el ciclo [35, 20, 4, 1] en el tiempo 1.0 para Pseudomonas_OXALACETATE_AMINOACIDS\n",
      "Se encontró el ciclo [43, 25, 24, 10] en el tiempo 1.0 para Pseudomonas_OXALACETATE_AMINOACIDS\n",
      "Se encontró el ciclo [94, 27, 24, 1] en el tiempo 1.0 para Pseudomonas_OXALACETATE_AMINOACIDS\n",
      "Se encontró el ciclo [67, 51, 25, 24] en el tiempo 1.0 para Pseudomonas_OXALACETATE_AMINOACIDS\n",
      "Se encontró el ciclo [65, 7, 24, 1] en el tiempo 1.0 para Pseudomonas_OXALACETATE_AMINOACIDS\n",
      "Se encontró el ciclo [37, 69, 36, 20] en el tiempo 1.0 para Pseudomonas_OXALACETATE_AMINOACIDS\n",
      "se buscan ciclos en el tiempo 3.0 para Pseudomonas_OXALACETATE_AMINOACIDS\n",
      "Se encontró el ciclo [79, 66, 63, 21] en el tiempo 2.0 para Pseudomonas_PYR_THR_AA\n",
      "Se encontró el ciclo [95, 89, 69, 11] en el tiempo 2.0 para Pseudomonas_PYR_THR_AA\n",
      "Se encontró el ciclo [34, 36, 24, 6] en el tiempo 2.0 para Pseudomonas_PYR_THR_AA\n",
      "Se encontró el ciclo [105, 104, 72, 7] en el tiempo 2.0 para Pseudomonas_PYR_THR_AA\n",
      "Se encontró el ciclo [99, 35, 6, 0] en el tiempo 2.0 para Pseudomonas_PYR_THR_AA\n",
      "Se encontró el ciclo [88, 35, 44, 7] en el tiempo 2.0 para Pseudomonas_PYR_THR_AA\n",
      "Se encontró el ciclo [98, 55, 32, 0] en el tiempo 2.0 para Pseudomonas_PYR_THR_AA\n",
      "Se encontró el ciclo [59, 65, 3, 14] en el tiempo 2.0 para Pseudomonas_PYR_THR_AA\n",
      "Se encontró el ciclo [88, 62, 20, 7] en el tiempo 2.0 para Pseudomonas_PYR_THR_AA\n",
      "Se encontró el ciclo [84, 29, 81, 11] en el tiempo 2.0 para Pseudomonas_PYR_THR_AA\n",
      "Se encontró el ciclo [24, 45, 81, 6] en el tiempo 2.0 para Pseudomonas_PYR_THR_AA\n",
      "Se encontró el ciclo [32, 84, 11, 0] en el tiempo 2.0 para Pseudomonas_PYR_THR_AA\n",
      "Se encontró el ciclo [90, 101, 75, 26] en el tiempo 2.0 para Pseudomonas_PYR_THR_AA\n",
      "Se encontró el ciclo [84, 47, 15, 11] en el tiempo 2.0 para Pseudomonas_PYR_THR_AA\n",
      "Se encontró el ciclo [44, 3, 14, 6] en el tiempo 2.0 para Pseudomonas_PYR_THR_AA\n",
      "Se encontró el ciclo [41, 71, 39, 6] en el tiempo 2.0 para Pseudomonas_PYR_THR_AA\n",
      "Se encontró el ciclo [31, 28, 34, 0] en el tiempo 2.0 para Pseudomonas_PYR_THR_AA\n",
      "Se encontró el ciclo [93, 80, 81, 6] en el tiempo 2.0 para Pseudomonas_PYR_THR_AA\n",
      "Se encontró el ciclo [93, 23, 73, 6] en el tiempo 2.0 para Pseudomonas_PYR_THR_AA\n",
      "Se encontró el ciclo [101, 91, 73, 6] en el tiempo 2.0 para Pseudomonas_PYR_THR_AA\n",
      "Se encontró el ciclo [84, 103, 59, 11] en el tiempo 2.0 para Pseudomonas_PYR_THR_AA\n",
      "Se encontró el ciclo [1, 29, 81, 6] en el tiempo 2.0 para Pseudomonas_PYR_THR_AA\n",
      "Se encontró el ciclo [97, 101, 24, 10] en el tiempo 2.0 para Pseudomonas_PYR_THR_AA\n",
      "Se encontró el ciclo [93, 92, 14, 6] en el tiempo 2.0 para Pseudomonas_PYR_THR_AA\n",
      "Se encontró el ciclo [24, 64, 15, 6] en el tiempo 2.0 para Pseudomonas_PYR_THR_AA\n",
      "Se encontró el ciclo [95, 67, 59, 11] en el tiempo 2.0 para Pseudomonas_PYR_THR_AA\n",
      "Se encontró el ciclo [100, 23, 30, 10] en el tiempo 2.0 para Pseudomonas_PYR_THR_AA\n",
      "Se encontró el ciclo [72, 23, 51, 7] en el tiempo 2.0 para Pseudomonas_PYR_THR_AA\n",
      "Se encontró el ciclo [93, 95, 11, 6] en el tiempo 2.0 para Pseudomonas_PYR_THR_AA\n",
      "Se encontró el ciclo [31, 75, 6, 0] en el tiempo 2.0 para Pseudomonas_PYR_THR_AA\n",
      "Se encontró el ciclo [32, 1, 6, 0] en el tiempo 2.0 para Pseudomonas_PYR_THR_AA\n",
      "Se encontró el ciclo [73, 2, 1, 6] en el tiempo 2.0 para Pseudomonas_PYR_THR_AA\n",
      "Se encontró el ciclo [47, 27, 41, 15] en el tiempo 2.0 para Pseudomonas_PYR_THR_AA\n",
      "Se encontró el ciclo [104, 73, 75, 0] en el tiempo 2.0 para Pseudomonas_OXALACETATE_AMINOACIDS\n",
      "Se encontró el ciclo [47, 93, 31, 6] en el tiempo 2.0 para Pseudomonas_OXALACETATE_AMINOACIDS\n",
      "Se encontró el ciclo [66, 58, 34, 6] en el tiempo 2.0 para Pseudomonas_OXALACETATE_AMINOACIDS\n",
      "Se encontró el ciclo [93, 79, 40, 31] en el tiempo 2.0 para Pseudomonas_OXALACETATE_AMINOACIDS\n",
      "Se encontró el ciclo [102, 13, 68, 28] en el tiempo 2.0 para Pseudomonas_OXALACETATE_AMINOACIDS\n",
      "Se encontró el ciclo [58, 13, 60, 34] en el tiempo 2.0 para Pseudomonas_OXALACETATE_AMINOACIDS\n",
      "Se encontró el ciclo [89, 64, 59, 136, 96] en el tiempo 2.0 para Pseudomonas_ALPHAKETOGLUTARATE_AMINOACIDS\n",
      "Se encontró el ciclo [98, 81, 139, 66] en el tiempo 2.0 para Pseudomonas_ALPHAKETOGLUTARATE_AMINOACIDS\n",
      "Se encontró el ciclo [107, 120, 59, 39] en el tiempo 2.0 para Pseudomonas_ALPHAKETOGLUTARATE_AMINOACIDS\n",
      "Se encontró el ciclo [77, 117, 39, 28] en el tiempo 2.0 para Pseudomonas_ALPHAKETOGLUTARATE_AMINOACIDS\n",
      "Se encontró el ciclo [143, 122, 66, 25] en el tiempo 2.0 para Pseudomonas_ALPHAKETOGLUTARATE_AMINOACIDS\n",
      "Se encontró el ciclo [106, 93, 0, 143, 18] en el tiempo 2.0 para Pseudomonas_ALPHAKETOGLUTARATE_AMINOACIDS\n",
      "Se encontró el ciclo [86, 81, 98, 122, 0, 44] en el tiempo 2.0 para Pseudomonas_ALPHAKETOGLUTARATE_AMINOACIDS\n",
      "Se encontró el ciclo [116, 30, 20, 11] en el tiempo 2.0 para Pseudomonas_ALPHAKETOGLUTARATE_AMINOACIDS\n",
      "Se encontró el ciclo [117, 36, 38, 12] en el tiempo 2.0 para Pseudomonas_ALPHAKETOGLUTARATE_AMINOACIDS\n",
      "Se encontró el ciclo [59, 26, 36, 39] en el tiempo 2.0 para Pseudomonas_ALPHAKETOGLUTARATE_AMINOACIDS\n",
      "Se encontró el ciclo [122, 7, 41, 0] en el tiempo 2.0 para Pseudomonas_ALPHAKETOGLUTARATE_AMINOACIDS\n",
      "Se encontró el ciclo [64, 97, 7, 68] en el tiempo 2.0 para Pseudomonas_ALPHAKETOGLUTARATE_AMINOACIDS\n",
      "Se encontró el ciclo [10, 17, 67, 4] en el tiempo 2.0 para Pseudomonas_ALPHAKETOGLUTARATE_AMINOACIDS\n",
      "Se encontró el ciclo [23, 64, 97, 9] en el tiempo 2.0 para Pseudomonas_ALPHAKETOGLUTARATE_AMINOACIDS\n",
      "Se encontró el ciclo [107, 98, 122, 143, 18] en el tiempo 2.0 para Pseudomonas_ALPHAKETOGLUTARATE_AMINOACIDS\n",
      "Se encontró el ciclo [20, 31, 15, 11] en el tiempo 2.0 para Pseudomonas_ALPHAKETOGLUTARATE_AMINOACIDS\n",
      "Se encontró el ciclo [121, 133, 35, 2] en el tiempo 2.0 para Pseudomonas_ALPHAKETOGLUTARATE_AMINOACIDS\n",
      "Se encontró el ciclo [126, 59, 39, 21] en el tiempo 2.0 para Pseudomonas_ALPHAKETOGLUTARATE_AMINOACIDS\n",
      "se buscan ciclos en el tiempo 4.0 para Pseudomonas_ALPHAKETOGLUTARATE_AMINOACIDS\n"
     ]
    },
    {
     "name": "stderr",
     "output_type": "stream",
     "text": [
      "ERROR:root:Internal Python error in the inspect module.\n",
      "Below is the traceback from this internal error.\n",
      "\n",
      "\n",
      "KeyboardInterrupt\n",
      "\n"
     ]
    }
   ],
   "source": [
    "holes_by_genus_pathway=get_holes_by_pathways(complex_genus_pathways,df_by_genus_pathway_drop_duplicate,names,representative_genomes_genus_pathway)"
   ]
  },
  {
   "cell_type": "code",
   "execution_count": null,
   "id": "91760a67-cad1-45d1-8528-38ba7f19bfe2",
   "metadata": {},
   "outputs": [
    {
     "name": "stdout",
     "output_type": "stream",
     "text": [
      "Se encontró el ciclo [106, 91, 36, 4] en el tiempo 3.0 para Pseudomonas_ALPHAKETOGLUTARATE_AMINOACIDS\n",
      "Se encontró el ciclo [75, 83, 6, 4] en el tiempo 3.0 para Pseudomonas_ALPHAKETOGLUTARATE_AMINOACIDS\n"
     ]
    }
   ],
   "source": [
    "resum_genus=get_resum_df(df_by_genus_pathway,complex_genus_pathways,holes_by_genus_pathway)\n",
    "resum_genus"
   ]
  }
 ],
 "metadata": {
  "kernelspec": {
   "display_name": "TDA",
   "language": "python",
   "name": "tda"
  },
  "language_info": {
   "codemirror_mode": {
    "name": "ipython",
    "version": 3
   },
   "file_extension": ".py",
   "mimetype": "text/x-python",
   "name": "python",
   "nbconvert_exporter": "python",
   "pygments_lexer": "ipython3",
   "version": "3.7.12"
  }
 },
 "nbformat": 4,
 "nbformat_minor": 5
}
