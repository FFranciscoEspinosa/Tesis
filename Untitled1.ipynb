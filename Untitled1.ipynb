{
 "cells": [
  {
   "cell_type": "code",
   "execution_count": 37,
   "id": "df708943",
   "metadata": {},
   "outputs": [],
   "source": [
    "from gtda.homology import VietorisRipsPersistence\n",
    "from gtda.plotting import plot_diagram\n",
    "import pandas as pd\n",
    "import numpy as np\n",
    "from scipy.spatial.distance import hamming"
   ]
  },
  {
   "cell_type": "code",
   "execution_count": 38,
   "id": "8266eaf0",
   "metadata": {},
   "outputs": [],
   "source": [
    "pseudo_csv=pd.read_csv('/files/francisco_esp/Pseudomonas/Pseudomonas44.Central_MiBIG_DB.faa_Pseudo219/blast/BBH/Pseudo219/aux_files/vueltaPseudo219.blast.bbh', sep='\\t', header=None)\n",
    "pseudo_info=pseudo_csv[1]\n",
    "actino_csv=pd.read_csv('/files/francisco_esp/Actinobacteria/Actinos44.Central_MiBIG_DB.faa_los1246/blast/BBH/los1246/aux_files/vueltalos1246.blast.bbh', sep='\\t', header=None)\n",
    "actino_info=actino_csv[1]"
   ]
  },
  {
   "cell_type": "code",
   "execution_count": 39,
   "id": "c06f9216",
   "metadata": {},
   "outputs": [],
   "source": [
    "def get_presence(info):\n",
    "    genomes=set()\n",
    "    functions=set()\n",
    "    for name in info:\n",
    "        split=name.split('|')\n",
    "        genomes.add(split[-1])\n",
    "        functions.add(split[4])\n",
    "    presence=pd.DataFrame(index=list(genomes),columns=list(functions))\n",
    "    presence=full_presence(info,presence)\n",
    "    return presence.fillna(0)"
   ]
  },
  {
   "cell_type": "code",
   "execution_count": 40,
   "id": "e9da3a92",
   "metadata": {},
   "outputs": [],
   "source": [
    "def full_presence(info,presence):\n",
    "    for name in info:\n",
    "        split=name.split('|')\n",
    "        presence.loc[split[-1],split[4]]=1\n",
    "    return presence"
   ]
  },
  {
   "cell_type": "code",
   "execution_count": 47,
   "id": "8970ac3d",
   "metadata": {},
   "outputs": [
    {
     "data": {
      "text/html": [
       "<div>\n",
       "<style scoped>\n",
       "    .dataframe tbody tr th:only-of-type {\n",
       "        vertical-align: middle;\n",
       "    }\n",
       "\n",
       "    .dataframe tbody tr th {\n",
       "        vertical-align: top;\n",
       "    }\n",
       "\n",
       "    .dataframe thead th {\n",
       "        text-align: right;\n",
       "    }\n",
       "</style>\n",
       "<table border=\"1\" class=\"dataframe\">\n",
       "  <thead>\n",
       "    <tr style=\"text-align: right;\">\n",
       "      <th></th>\n",
       "      <th>Tryptophan_synthase_beta_chain_EC_4.2.1.20</th>\n",
       "      <th>Omegaamino_acidpyruvate_aminotransferase_EC_2.6.1.18</th>\n",
       "      <th>Phosphoribosylformimino5aminoimidazole_carboxamide_ribotide_isomerase_EC_5.3.1.16</th>\n",
       "      <th>Indole3glycerol_phosphate_synthase_EC_4.1.1.48</th>\n",
       "      <th>4hydroxytetrahydrodipicolinate_synthase_EC_4.3.3.7</th>\n",
       "      <th>3dehydroquinate_synthase_EC_4.2.3.4</th>\n",
       "      <th>Anthranilate_synthase_amidotransferase_component_EC_4.1.3.27</th>\n",
       "      <th>Pyridine_nucleotidedisulphide_oxidoreductase_associated_with_reductive_pyrimidine_catabolism</th>\n",
       "      <th>5Enolpyruvylshikimate3phosphate_synthase_EC_2.5.1.19</th>\n",
       "      <th>Glutamine_synthetase_type_I_EC_6.3.1.2</th>\n",
       "      <th>...</th>\n",
       "      <th>Acetylornithine_aminotransferase_EC_2.6.1.11</th>\n",
       "      <th>Diaminopimelate_decarboxylase_EC_4.1.1.20</th>\n",
       "      <th>Argininosuccinate_lyase_EC_4.3.2.1</th>\n",
       "      <th>Glyoxylate_carboligase_EC_4.1.1.47</th>\n",
       "      <th>Carbamoylphosphate_synthase_small_chain_EC_6.3.5.5</th>\n",
       "      <th>Ketolacid_reductoisomerase_EC_1.1.1.86</th>\n",
       "      <th>Nacetylornithine_carbamoyltransferase_EC_2.1.3.9</th>\n",
       "      <th>Pyruvate_oxidase_EC_1.2.3.3</th>\n",
       "      <th>Glutamate_synthase_NADPH_large_chain_EC_1.4.1.13</th>\n",
       "      <th>Imidazole_glycerol_phosphate_synthase_amidotransferase_subunit_EC_2.4.2.</th>\n",
       "    </tr>\n",
       "  </thead>\n",
       "  <tbody>\n",
       "    <tr>\n",
       "      <th>PseudomonasmandeliiJR1AJFM01</th>\n",
       "      <td>1</td>\n",
       "      <td>0</td>\n",
       "      <td>1</td>\n",
       "      <td>1</td>\n",
       "      <td>1</td>\n",
       "      <td>1</td>\n",
       "      <td>0</td>\n",
       "      <td>0</td>\n",
       "      <td>0</td>\n",
       "      <td>1</td>\n",
       "      <td>...</td>\n",
       "      <td>1</td>\n",
       "      <td>1</td>\n",
       "      <td>1</td>\n",
       "      <td>0</td>\n",
       "      <td>0</td>\n",
       "      <td>1</td>\n",
       "      <td>0</td>\n",
       "      <td>0</td>\n",
       "      <td>1</td>\n",
       "      <td>1</td>\n",
       "    </tr>\n",
       "    <tr>\n",
       "      <th>PseudomonasflexibilisATCC29606</th>\n",
       "      <td>1</td>\n",
       "      <td>0</td>\n",
       "      <td>1</td>\n",
       "      <td>1</td>\n",
       "      <td>1</td>\n",
       "      <td>1</td>\n",
       "      <td>0</td>\n",
       "      <td>0</td>\n",
       "      <td>0</td>\n",
       "      <td>0</td>\n",
       "      <td>...</td>\n",
       "      <td>1</td>\n",
       "      <td>1</td>\n",
       "      <td>1</td>\n",
       "      <td>0</td>\n",
       "      <td>0</td>\n",
       "      <td>1</td>\n",
       "      <td>0</td>\n",
       "      <td>0</td>\n",
       "      <td>1</td>\n",
       "      <td>1</td>\n",
       "    </tr>\n",
       "    <tr>\n",
       "      <th>PseudomonassyringaepvPisistrPp1AUZR02</th>\n",
       "      <td>1</td>\n",
       "      <td>0</td>\n",
       "      <td>1</td>\n",
       "      <td>1</td>\n",
       "      <td>1</td>\n",
       "      <td>1</td>\n",
       "      <td>0</td>\n",
       "      <td>0</td>\n",
       "      <td>1</td>\n",
       "      <td>1</td>\n",
       "      <td>...</td>\n",
       "      <td>1</td>\n",
       "      <td>1</td>\n",
       "      <td>1</td>\n",
       "      <td>0</td>\n",
       "      <td>0</td>\n",
       "      <td>1</td>\n",
       "      <td>0</td>\n",
       "      <td>0</td>\n",
       "      <td>1</td>\n",
       "      <td>1</td>\n",
       "    </tr>\n",
       "    <tr>\n",
       "      <th>PseudomonasspB1</th>\n",
       "      <td>1</td>\n",
       "      <td>0</td>\n",
       "      <td>1</td>\n",
       "      <td>1</td>\n",
       "      <td>1</td>\n",
       "      <td>1</td>\n",
       "      <td>0</td>\n",
       "      <td>0</td>\n",
       "      <td>0</td>\n",
       "      <td>1</td>\n",
       "      <td>...</td>\n",
       "      <td>1</td>\n",
       "      <td>1</td>\n",
       "      <td>1</td>\n",
       "      <td>0</td>\n",
       "      <td>0</td>\n",
       "      <td>1</td>\n",
       "      <td>0</td>\n",
       "      <td>0</td>\n",
       "      <td>1</td>\n",
       "      <td>1</td>\n",
       "    </tr>\n",
       "    <tr>\n",
       "      <th>PseudomonasformosensisJCM18415</th>\n",
       "      <td>1</td>\n",
       "      <td>0</td>\n",
       "      <td>1</td>\n",
       "      <td>1</td>\n",
       "      <td>1</td>\n",
       "      <td>1</td>\n",
       "      <td>0</td>\n",
       "      <td>0</td>\n",
       "      <td>0</td>\n",
       "      <td>1</td>\n",
       "      <td>...</td>\n",
       "      <td>0</td>\n",
       "      <td>1</td>\n",
       "      <td>1</td>\n",
       "      <td>0</td>\n",
       "      <td>0</td>\n",
       "      <td>1</td>\n",
       "      <td>0</td>\n",
       "      <td>0</td>\n",
       "      <td>1</td>\n",
       "      <td>1</td>\n",
       "    </tr>\n",
       "    <tr>\n",
       "      <th>...</th>\n",
       "      <td>...</td>\n",
       "      <td>...</td>\n",
       "      <td>...</td>\n",
       "      <td>...</td>\n",
       "      <td>...</td>\n",
       "      <td>...</td>\n",
       "      <td>...</td>\n",
       "      <td>...</td>\n",
       "      <td>...</td>\n",
       "      <td>...</td>\n",
       "      <td>...</td>\n",
       "      <td>...</td>\n",
       "      <td>...</td>\n",
       "      <td>...</td>\n",
       "      <td>...</td>\n",
       "      <td>...</td>\n",
       "      <td>...</td>\n",
       "      <td>...</td>\n",
       "      <td>...</td>\n",
       "      <td>...</td>\n",
       "      <td>...</td>\n",
       "    </tr>\n",
       "    <tr>\n",
       "      <th>Pseudomonasviridiflavauasws0038AMQP01</th>\n",
       "      <td>1</td>\n",
       "      <td>0</td>\n",
       "      <td>1</td>\n",
       "      <td>1</td>\n",
       "      <td>1</td>\n",
       "      <td>1</td>\n",
       "      <td>0</td>\n",
       "      <td>0</td>\n",
       "      <td>1</td>\n",
       "      <td>1</td>\n",
       "      <td>...</td>\n",
       "      <td>1</td>\n",
       "      <td>1</td>\n",
       "      <td>1</td>\n",
       "      <td>0</td>\n",
       "      <td>0</td>\n",
       "      <td>1</td>\n",
       "      <td>0</td>\n",
       "      <td>0</td>\n",
       "      <td>1</td>\n",
       "      <td>1</td>\n",
       "    </tr>\n",
       "    <tr>\n",
       "      <th>PseudomonasxinjiangensisNRRLB51270</th>\n",
       "      <td>1</td>\n",
       "      <td>0</td>\n",
       "      <td>1</td>\n",
       "      <td>1</td>\n",
       "      <td>1</td>\n",
       "      <td>1</td>\n",
       "      <td>0</td>\n",
       "      <td>0</td>\n",
       "      <td>0</td>\n",
       "      <td>1</td>\n",
       "      <td>...</td>\n",
       "      <td>0</td>\n",
       "      <td>1</td>\n",
       "      <td>1</td>\n",
       "      <td>0</td>\n",
       "      <td>0</td>\n",
       "      <td>1</td>\n",
       "      <td>0</td>\n",
       "      <td>1</td>\n",
       "      <td>1</td>\n",
       "      <td>1</td>\n",
       "    </tr>\n",
       "    <tr>\n",
       "      <th>PseudomonasmendocinaympNC0094391</th>\n",
       "      <td>1</td>\n",
       "      <td>0</td>\n",
       "      <td>1</td>\n",
       "      <td>1</td>\n",
       "      <td>1</td>\n",
       "      <td>1</td>\n",
       "      <td>0</td>\n",
       "      <td>0</td>\n",
       "      <td>0</td>\n",
       "      <td>1</td>\n",
       "      <td>...</td>\n",
       "      <td>1</td>\n",
       "      <td>1</td>\n",
       "      <td>1</td>\n",
       "      <td>0</td>\n",
       "      <td>0</td>\n",
       "      <td>1</td>\n",
       "      <td>0</td>\n",
       "      <td>0</td>\n",
       "      <td>1</td>\n",
       "      <td>1</td>\n",
       "    </tr>\n",
       "    <tr>\n",
       "      <th>Pseudomonascaenidsm24390ATXQ01</th>\n",
       "      <td>1</td>\n",
       "      <td>0</td>\n",
       "      <td>1</td>\n",
       "      <td>1</td>\n",
       "      <td>1</td>\n",
       "      <td>1</td>\n",
       "      <td>0</td>\n",
       "      <td>0</td>\n",
       "      <td>0</td>\n",
       "      <td>1</td>\n",
       "      <td>...</td>\n",
       "      <td>0</td>\n",
       "      <td>1</td>\n",
       "      <td>1</td>\n",
       "      <td>0</td>\n",
       "      <td>0</td>\n",
       "      <td>1</td>\n",
       "      <td>0</td>\n",
       "      <td>0</td>\n",
       "      <td>1</td>\n",
       "      <td>1</td>\n",
       "    </tr>\n",
       "    <tr>\n",
       "      <th>PseudomonasmonteiliiSB3078NC0230751</th>\n",
       "      <td>1</td>\n",
       "      <td>0</td>\n",
       "      <td>1</td>\n",
       "      <td>1</td>\n",
       "      <td>1</td>\n",
       "      <td>1</td>\n",
       "      <td>0</td>\n",
       "      <td>0</td>\n",
       "      <td>0</td>\n",
       "      <td>1</td>\n",
       "      <td>...</td>\n",
       "      <td>0</td>\n",
       "      <td>1</td>\n",
       "      <td>1</td>\n",
       "      <td>0</td>\n",
       "      <td>0</td>\n",
       "      <td>1</td>\n",
       "      <td>0</td>\n",
       "      <td>0</td>\n",
       "      <td>1</td>\n",
       "      <td>1</td>\n",
       "    </tr>\n",
       "  </tbody>\n",
       "</table>\n",
       "<p>216 rows × 84 columns</p>\n",
       "</div>"
      ],
      "text/plain": [
       "                                       Tryptophan_synthase_beta_chain_EC_4.2.1.20  \\\n",
       "PseudomonasmandeliiJR1AJFM01                                                    1   \n",
       "PseudomonasflexibilisATCC29606                                                  1   \n",
       "PseudomonassyringaepvPisistrPp1AUZR02                                           1   \n",
       "PseudomonasspB1                                                                 1   \n",
       "PseudomonasformosensisJCM18415                                                  1   \n",
       "...                                                                           ...   \n",
       "Pseudomonasviridiflavauasws0038AMQP01                                           1   \n",
       "PseudomonasxinjiangensisNRRLB51270                                              1   \n",
       "PseudomonasmendocinaympNC0094391                                                1   \n",
       "Pseudomonascaenidsm24390ATXQ01                                                  1   \n",
       "PseudomonasmonteiliiSB3078NC0230751                                             1   \n",
       "\n",
       "                                       Omegaamino_acidpyruvate_aminotransferase_EC_2.6.1.18  \\\n",
       "PseudomonasmandeliiJR1AJFM01                                                           0      \n",
       "PseudomonasflexibilisATCC29606                                                         0      \n",
       "PseudomonassyringaepvPisistrPp1AUZR02                                                  0      \n",
       "PseudomonasspB1                                                                        0      \n",
       "PseudomonasformosensisJCM18415                                                         0      \n",
       "...                                                                                  ...      \n",
       "Pseudomonasviridiflavauasws0038AMQP01                                                  0      \n",
       "PseudomonasxinjiangensisNRRLB51270                                                     0      \n",
       "PseudomonasmendocinaympNC0094391                                                       0      \n",
       "Pseudomonascaenidsm24390ATXQ01                                                         0      \n",
       "PseudomonasmonteiliiSB3078NC0230751                                                    0      \n",
       "\n",
       "                                       Phosphoribosylformimino5aminoimidazole_carboxamide_ribotide_isomerase_EC_5.3.1.16  \\\n",
       "PseudomonasmandeliiJR1AJFM01                                                           1                                   \n",
       "PseudomonasflexibilisATCC29606                                                         1                                   \n",
       "PseudomonassyringaepvPisistrPp1AUZR02                                                  1                                   \n",
       "PseudomonasspB1                                                                        1                                   \n",
       "PseudomonasformosensisJCM18415                                                         1                                   \n",
       "...                                                                                  ...                                   \n",
       "Pseudomonasviridiflavauasws0038AMQP01                                                  1                                   \n",
       "PseudomonasxinjiangensisNRRLB51270                                                     1                                   \n",
       "PseudomonasmendocinaympNC0094391                                                       1                                   \n",
       "Pseudomonascaenidsm24390ATXQ01                                                         1                                   \n",
       "PseudomonasmonteiliiSB3078NC0230751                                                    1                                   \n",
       "\n",
       "                                       Indole3glycerol_phosphate_synthase_EC_4.1.1.48  \\\n",
       "PseudomonasmandeliiJR1AJFM01                                                        1   \n",
       "PseudomonasflexibilisATCC29606                                                      1   \n",
       "PseudomonassyringaepvPisistrPp1AUZR02                                               1   \n",
       "PseudomonasspB1                                                                     1   \n",
       "PseudomonasformosensisJCM18415                                                      1   \n",
       "...                                                                               ...   \n",
       "Pseudomonasviridiflavauasws0038AMQP01                                               1   \n",
       "PseudomonasxinjiangensisNRRLB51270                                                  1   \n",
       "PseudomonasmendocinaympNC0094391                                                    1   \n",
       "Pseudomonascaenidsm24390ATXQ01                                                      1   \n",
       "PseudomonasmonteiliiSB3078NC0230751                                                 1   \n",
       "\n",
       "                                       4hydroxytetrahydrodipicolinate_synthase_EC_4.3.3.7  \\\n",
       "PseudomonasmandeliiJR1AJFM01                                                           1    \n",
       "PseudomonasflexibilisATCC29606                                                         1    \n",
       "PseudomonassyringaepvPisistrPp1AUZR02                                                  1    \n",
       "PseudomonasspB1                                                                        1    \n",
       "PseudomonasformosensisJCM18415                                                         1    \n",
       "...                                                                                  ...    \n",
       "Pseudomonasviridiflavauasws0038AMQP01                                                  1    \n",
       "PseudomonasxinjiangensisNRRLB51270                                                     1    \n",
       "PseudomonasmendocinaympNC0094391                                                       1    \n",
       "Pseudomonascaenidsm24390ATXQ01                                                         1    \n",
       "PseudomonasmonteiliiSB3078NC0230751                                                    1    \n",
       "\n",
       "                                       3dehydroquinate_synthase_EC_4.2.3.4  \\\n",
       "PseudomonasmandeliiJR1AJFM01                                             1   \n",
       "PseudomonasflexibilisATCC29606                                           1   \n",
       "PseudomonassyringaepvPisistrPp1AUZR02                                    1   \n",
       "PseudomonasspB1                                                          1   \n",
       "PseudomonasformosensisJCM18415                                           1   \n",
       "...                                                                    ...   \n",
       "Pseudomonasviridiflavauasws0038AMQP01                                    1   \n",
       "PseudomonasxinjiangensisNRRLB51270                                       1   \n",
       "PseudomonasmendocinaympNC0094391                                         1   \n",
       "Pseudomonascaenidsm24390ATXQ01                                           1   \n",
       "PseudomonasmonteiliiSB3078NC0230751                                      1   \n",
       "\n",
       "                                       Anthranilate_synthase_amidotransferase_component_EC_4.1.3.27  \\\n",
       "PseudomonasmandeliiJR1AJFM01                                                           0              \n",
       "PseudomonasflexibilisATCC29606                                                         0              \n",
       "PseudomonassyringaepvPisistrPp1AUZR02                                                  0              \n",
       "PseudomonasspB1                                                                        0              \n",
       "PseudomonasformosensisJCM18415                                                         0              \n",
       "...                                                                                  ...              \n",
       "Pseudomonasviridiflavauasws0038AMQP01                                                  0              \n",
       "PseudomonasxinjiangensisNRRLB51270                                                     0              \n",
       "PseudomonasmendocinaympNC0094391                                                       0              \n",
       "Pseudomonascaenidsm24390ATXQ01                                                         0              \n",
       "PseudomonasmonteiliiSB3078NC0230751                                                    0              \n",
       "\n",
       "                                       Pyridine_nucleotidedisulphide_oxidoreductase_associated_with_reductive_pyrimidine_catabolism  \\\n",
       "PseudomonasmandeliiJR1AJFM01                                                           0                                              \n",
       "PseudomonasflexibilisATCC29606                                                         0                                              \n",
       "PseudomonassyringaepvPisistrPp1AUZR02                                                  0                                              \n",
       "PseudomonasspB1                                                                        0                                              \n",
       "PseudomonasformosensisJCM18415                                                         0                                              \n",
       "...                                                                                  ...                                              \n",
       "Pseudomonasviridiflavauasws0038AMQP01                                                  0                                              \n",
       "PseudomonasxinjiangensisNRRLB51270                                                     0                                              \n",
       "PseudomonasmendocinaympNC0094391                                                       0                                              \n",
       "Pseudomonascaenidsm24390ATXQ01                                                         0                                              \n",
       "PseudomonasmonteiliiSB3078NC0230751                                                    0                                              \n",
       "\n",
       "                                       5Enolpyruvylshikimate3phosphate_synthase_EC_2.5.1.19  \\\n",
       "PseudomonasmandeliiJR1AJFM01                                                           0      \n",
       "PseudomonasflexibilisATCC29606                                                         0      \n",
       "PseudomonassyringaepvPisistrPp1AUZR02                                                  1      \n",
       "PseudomonasspB1                                                                        0      \n",
       "PseudomonasformosensisJCM18415                                                         0      \n",
       "...                                                                                  ...      \n",
       "Pseudomonasviridiflavauasws0038AMQP01                                                  1      \n",
       "PseudomonasxinjiangensisNRRLB51270                                                     0      \n",
       "PseudomonasmendocinaympNC0094391                                                       0      \n",
       "Pseudomonascaenidsm24390ATXQ01                                                         0      \n",
       "PseudomonasmonteiliiSB3078NC0230751                                                    0      \n",
       "\n",
       "                                       Glutamine_synthetase_type_I_EC_6.3.1.2  \\\n",
       "PseudomonasmandeliiJR1AJFM01                                                1   \n",
       "PseudomonasflexibilisATCC29606                                              0   \n",
       "PseudomonassyringaepvPisistrPp1AUZR02                                       1   \n",
       "PseudomonasspB1                                                             1   \n",
       "PseudomonasformosensisJCM18415                                              1   \n",
       "...                                                                       ...   \n",
       "Pseudomonasviridiflavauasws0038AMQP01                                       1   \n",
       "PseudomonasxinjiangensisNRRLB51270                                          1   \n",
       "PseudomonasmendocinaympNC0094391                                            1   \n",
       "Pseudomonascaenidsm24390ATXQ01                                              1   \n",
       "PseudomonasmonteiliiSB3078NC0230751                                         1   \n",
       "\n",
       "                                       ...  \\\n",
       "PseudomonasmandeliiJR1AJFM01           ...   \n",
       "PseudomonasflexibilisATCC29606         ...   \n",
       "PseudomonassyringaepvPisistrPp1AUZR02  ...   \n",
       "PseudomonasspB1                        ...   \n",
       "PseudomonasformosensisJCM18415         ...   \n",
       "...                                    ...   \n",
       "Pseudomonasviridiflavauasws0038AMQP01  ...   \n",
       "PseudomonasxinjiangensisNRRLB51270     ...   \n",
       "PseudomonasmendocinaympNC0094391       ...   \n",
       "Pseudomonascaenidsm24390ATXQ01         ...   \n",
       "PseudomonasmonteiliiSB3078NC0230751    ...   \n",
       "\n",
       "                                       Acetylornithine_aminotransferase_EC_2.6.1.11  \\\n",
       "PseudomonasmandeliiJR1AJFM01                                                      1   \n",
       "PseudomonasflexibilisATCC29606                                                    1   \n",
       "PseudomonassyringaepvPisistrPp1AUZR02                                             1   \n",
       "PseudomonasspB1                                                                   1   \n",
       "PseudomonasformosensisJCM18415                                                    0   \n",
       "...                                                                             ...   \n",
       "Pseudomonasviridiflavauasws0038AMQP01                                             1   \n",
       "PseudomonasxinjiangensisNRRLB51270                                                0   \n",
       "PseudomonasmendocinaympNC0094391                                                  1   \n",
       "Pseudomonascaenidsm24390ATXQ01                                                    0   \n",
       "PseudomonasmonteiliiSB3078NC0230751                                               0   \n",
       "\n",
       "                                       Diaminopimelate_decarboxylase_EC_4.1.1.20  \\\n",
       "PseudomonasmandeliiJR1AJFM01                                                   1   \n",
       "PseudomonasflexibilisATCC29606                                                 1   \n",
       "PseudomonassyringaepvPisistrPp1AUZR02                                          1   \n",
       "PseudomonasspB1                                                                1   \n",
       "PseudomonasformosensisJCM18415                                                 1   \n",
       "...                                                                          ...   \n",
       "Pseudomonasviridiflavauasws0038AMQP01                                          1   \n",
       "PseudomonasxinjiangensisNRRLB51270                                             1   \n",
       "PseudomonasmendocinaympNC0094391                                               1   \n",
       "Pseudomonascaenidsm24390ATXQ01                                                 1   \n",
       "PseudomonasmonteiliiSB3078NC0230751                                            1   \n",
       "\n",
       "                                       Argininosuccinate_lyase_EC_4.3.2.1  \\\n",
       "PseudomonasmandeliiJR1AJFM01                                            1   \n",
       "PseudomonasflexibilisATCC29606                                          1   \n",
       "PseudomonassyringaepvPisistrPp1AUZR02                                   1   \n",
       "PseudomonasspB1                                                         1   \n",
       "PseudomonasformosensisJCM18415                                          1   \n",
       "...                                                                   ...   \n",
       "Pseudomonasviridiflavauasws0038AMQP01                                   1   \n",
       "PseudomonasxinjiangensisNRRLB51270                                      1   \n",
       "PseudomonasmendocinaympNC0094391                                        1   \n",
       "Pseudomonascaenidsm24390ATXQ01                                          1   \n",
       "PseudomonasmonteiliiSB3078NC0230751                                     1   \n",
       "\n",
       "                                       Glyoxylate_carboligase_EC_4.1.1.47  \\\n",
       "PseudomonasmandeliiJR1AJFM01                                            0   \n",
       "PseudomonasflexibilisATCC29606                                          0   \n",
       "PseudomonassyringaepvPisistrPp1AUZR02                                   0   \n",
       "PseudomonasspB1                                                         0   \n",
       "PseudomonasformosensisJCM18415                                          0   \n",
       "...                                                                   ...   \n",
       "Pseudomonasviridiflavauasws0038AMQP01                                   0   \n",
       "PseudomonasxinjiangensisNRRLB51270                                      0   \n",
       "PseudomonasmendocinaympNC0094391                                        0   \n",
       "Pseudomonascaenidsm24390ATXQ01                                          0   \n",
       "PseudomonasmonteiliiSB3078NC0230751                                     0   \n",
       "\n",
       "                                       Carbamoylphosphate_synthase_small_chain_EC_6.3.5.5  \\\n",
       "PseudomonasmandeliiJR1AJFM01                                                           0    \n",
       "PseudomonasflexibilisATCC29606                                                         0    \n",
       "PseudomonassyringaepvPisistrPp1AUZR02                                                  0    \n",
       "PseudomonasspB1                                                                        0    \n",
       "PseudomonasformosensisJCM18415                                                         0    \n",
       "...                                                                                  ...    \n",
       "Pseudomonasviridiflavauasws0038AMQP01                                                  0    \n",
       "PseudomonasxinjiangensisNRRLB51270                                                     0    \n",
       "PseudomonasmendocinaympNC0094391                                                       0    \n",
       "Pseudomonascaenidsm24390ATXQ01                                                         0    \n",
       "PseudomonasmonteiliiSB3078NC0230751                                                    0    \n",
       "\n",
       "                                       Ketolacid_reductoisomerase_EC_1.1.1.86  \\\n",
       "PseudomonasmandeliiJR1AJFM01                                                1   \n",
       "PseudomonasflexibilisATCC29606                                              1   \n",
       "PseudomonassyringaepvPisistrPp1AUZR02                                       1   \n",
       "PseudomonasspB1                                                             1   \n",
       "PseudomonasformosensisJCM18415                                              1   \n",
       "...                                                                       ...   \n",
       "Pseudomonasviridiflavauasws0038AMQP01                                       1   \n",
       "PseudomonasxinjiangensisNRRLB51270                                          1   \n",
       "PseudomonasmendocinaympNC0094391                                            1   \n",
       "Pseudomonascaenidsm24390ATXQ01                                              1   \n",
       "PseudomonasmonteiliiSB3078NC0230751                                         1   \n",
       "\n",
       "                                       Nacetylornithine_carbamoyltransferase_EC_2.1.3.9  \\\n",
       "PseudomonasmandeliiJR1AJFM01                                                          0   \n",
       "PseudomonasflexibilisATCC29606                                                        0   \n",
       "PseudomonassyringaepvPisistrPp1AUZR02                                                 0   \n",
       "PseudomonasspB1                                                                       0   \n",
       "PseudomonasformosensisJCM18415                                                        0   \n",
       "...                                                                                 ...   \n",
       "Pseudomonasviridiflavauasws0038AMQP01                                                 0   \n",
       "PseudomonasxinjiangensisNRRLB51270                                                    0   \n",
       "PseudomonasmendocinaympNC0094391                                                      0   \n",
       "Pseudomonascaenidsm24390ATXQ01                                                        0   \n",
       "PseudomonasmonteiliiSB3078NC0230751                                                   0   \n",
       "\n",
       "                                       Pyruvate_oxidase_EC_1.2.3.3  \\\n",
       "PseudomonasmandeliiJR1AJFM01                                     0   \n",
       "PseudomonasflexibilisATCC29606                                   0   \n",
       "PseudomonassyringaepvPisistrPp1AUZR02                            0   \n",
       "PseudomonasspB1                                                  0   \n",
       "PseudomonasformosensisJCM18415                                   0   \n",
       "...                                                            ...   \n",
       "Pseudomonasviridiflavauasws0038AMQP01                            0   \n",
       "PseudomonasxinjiangensisNRRLB51270                               1   \n",
       "PseudomonasmendocinaympNC0094391                                 0   \n",
       "Pseudomonascaenidsm24390ATXQ01                                   0   \n",
       "PseudomonasmonteiliiSB3078NC0230751                              0   \n",
       "\n",
       "                                       Glutamate_synthase_NADPH_large_chain_EC_1.4.1.13  \\\n",
       "PseudomonasmandeliiJR1AJFM01                                                          1   \n",
       "PseudomonasflexibilisATCC29606                                                        1   \n",
       "PseudomonassyringaepvPisistrPp1AUZR02                                                 1   \n",
       "PseudomonasspB1                                                                       1   \n",
       "PseudomonasformosensisJCM18415                                                        1   \n",
       "...                                                                                 ...   \n",
       "Pseudomonasviridiflavauasws0038AMQP01                                                 1   \n",
       "PseudomonasxinjiangensisNRRLB51270                                                    1   \n",
       "PseudomonasmendocinaympNC0094391                                                      1   \n",
       "Pseudomonascaenidsm24390ATXQ01                                                        1   \n",
       "PseudomonasmonteiliiSB3078NC0230751                                                   1   \n",
       "\n",
       "                                       Imidazole_glycerol_phosphate_synthase_amidotransferase_subunit_EC_2.4.2.  \n",
       "PseudomonasmandeliiJR1AJFM01                                                           1                         \n",
       "PseudomonasflexibilisATCC29606                                                         1                         \n",
       "PseudomonassyringaepvPisistrPp1AUZR02                                                  1                         \n",
       "PseudomonasspB1                                                                        1                         \n",
       "PseudomonasformosensisJCM18415                                                         1                         \n",
       "...                                                                                  ...                         \n",
       "Pseudomonasviridiflavauasws0038AMQP01                                                  1                         \n",
       "PseudomonasxinjiangensisNRRLB51270                                                     1                         \n",
       "PseudomonasmendocinaympNC0094391                                                       1                         \n",
       "Pseudomonascaenidsm24390ATXQ01                                                         1                         \n",
       "PseudomonasmonteiliiSB3078NC0230751                                                    1                         \n",
       "\n",
       "[216 rows x 84 columns]"
      ]
     },
     "execution_count": 47,
     "metadata": {},
     "output_type": "execute_result"
    }
   ],
   "source": [
    "pseudo_presence.drop"
   ]
  },
  {
   "cell_type": "code",
   "execution_count": 41,
   "id": "fc64f627",
   "metadata": {},
   "outputs": [],
   "source": [
    "# Let's assume that \"population\" is a numpy ndarray with your genomes as rows.\n",
    "def calculate_hamming_matrix(population):\n",
    "    # Number of genomes\n",
    "    num_genomes = population.shape[0]\n",
    "    # Create an empty matrix for Hamming distances\n",
    "    hamming_matrix = np.zeros((num_genomes, num_genomes), dtype=int)\n",
    "   # Calculate the Hamming distance between each pair of genomes\n",
    "    for i in range(num_genomes):\n",
    "        for j in range(i+1, num_genomes):  # j=i+1 to avoid calculating the same distance twice\n",
    "            # The Hamming distance is multiplied by the number of genes to convert it into an absolute distance\n",
    "            distance = hamming(population[i], population[j]) * len(population[i])\n",
    "            hamming_matrix[i, j] = distance\n",
    "            hamming_matrix[j, i] = distance  # The matrix is symmetric\n",
    "    \n",
    "    return hamming_matrix"
   ]
  },
  {
   "cell_type": "code",
   "execution_count": 44,
   "id": "bdff58da",
   "metadata": {},
   "outputs": [],
   "source": [
    "pseudo_presence=get_presence(pseudo_info)"
   ]
  },
  {
   "cell_type": "code",
   "execution_count": 45,
   "id": "4f1d9765",
   "metadata": {},
   "outputs": [],
   "source": [
    "matriz_pseudo=calculate_hamming_matrix(pseudo_presence.values)"
   ]
  },
  {
   "cell_type": "code",
   "execution_count": 46,
   "id": "0b61dcdb",
   "metadata": {},
   "outputs": [
    {
     "data": {
      "text/plain": [
       "array([[ 0,  8, 10, ...,  9,  9,  4],\n",
       "       [ 8,  0, 10, ...,  7,  7,  6],\n",
       "       [10, 10,  0, ...,  7, 11, 10],\n",
       "       ...,\n",
       "       [ 9,  7,  7, ...,  0,  8,  7],\n",
       "       [ 9,  7, 11, ...,  8,  0,  5],\n",
       "       [ 4,  6, 10, ...,  7,  5,  0]])"
      ]
     },
     "execution_count": 46,
     "metadata": {},
     "output_type": "execute_result"
    }
   ],
   "source": [
    "matriz_pseudo."
   ]
  },
  {
   "cell_type": "code",
   "execution_count": 12,
   "id": "0a09b431",
   "metadata": {},
   "outputs": [],
   "source": [
    "VR = VietorisRipsPersistence(homology_dimensions=[0, 1])  # Parameter explained in the text"
   ]
  },
  {
   "cell_type": "code",
   "execution_count": 48,
   "id": "fd292e79",
   "metadata": {},
   "outputs": [
    {
     "name": "stderr",
     "output_type": "stream",
     "text": [
      "/opt/tljh/user/lib/python3.9/site-packages/gtda/homology/simplicial.py:232: DataDimensionalityWarning:\n",
      "\n",
      "Input array X has X.shape[1] == X.shape[2]. This is consistent with a collection of distance/adjacency matrices, but the input is being treated as a collection of vectors in Euclidean space.\n",
      "\n",
      "/opt/tljh/user/lib/python3.9/site-packages/gtda/homology/simplicial.py:299: DataDimensionalityWarning:\n",
      "\n",
      "Input array X has X.shape[1] == X.shape[2]. This is consistent with a collection of distance/adjacency matrices, but the input is being treated as a collection of vectors in Euclidean space.\n",
      "\n"
     ]
    },
    {
     "data": {
      "application/vnd.plotly.v1+json": {
       "config": {
        "plotlyServerURL": "https://plot.ly"
       },
       "data": [
        {
         "hoverinfo": "none",
         "line": {
          "color": "black",
          "dash": "dash",
          "width": 1
         },
         "mode": "lines",
         "showlegend": false,
         "type": "scatter",
         "x": [
          -8.65001708984375,
          441.15087158203124
         ],
         "y": [
          -8.65001708984375,
          441.15087158203124
         ]
        },
        {
         "hoverinfo": "text",
         "hovertext": [
          "(0.0, 6.633249759674072)",
          "(0.0, 7.211102485656738)",
          "(0.0, 7.745966911315918)",
          "(0.0, 8.0)",
          "(0.0, 8.246211051940918)",
          "(0.0, 8.485280990600586)",
          "(0.0, 9.165151596069336)",
          "(0.0, 9.797959327697754)",
          "(0.0, 10.0)",
          "(0.0, 10.392304420471191)",
          "(0.0, 10.954451560974121)",
          "(0.0, 11.135528564453125)",
          "(0.0, 11.832159996032715)",
          "(0.0, 12.0)",
          "(0.0, 12.489995956420898)",
          "(0.0, 12.649110794067383), multiplicity: 2",
          "(0.0, 12.649110794067383), multiplicity: 2",
          "(0.0, 14.0)",
          "(0.0, 14.282856941223145)",
          "(0.0, 14.422204971313477), multiplicity: 2",
          "(0.0, 14.422204971313477), multiplicity: 2",
          "(0.0, 14.560219764709473)",
          "(0.0, 14.696938514709473), multiplicity: 51",
          "(0.0, 14.696938514709473), multiplicity: 51",
          "(0.0, 14.696938514709473), multiplicity: 51",
          "(0.0, 14.696938514709473), multiplicity: 51",
          "(0.0, 14.696938514709473), multiplicity: 51",
          "(0.0, 14.696938514709473), multiplicity: 51",
          "(0.0, 14.696938514709473), multiplicity: 51",
          "(0.0, 14.696938514709473), multiplicity: 51",
          "(0.0, 14.696938514709473), multiplicity: 51",
          "(0.0, 14.696938514709473), multiplicity: 51",
          "(0.0, 14.696938514709473), multiplicity: 51",
          "(0.0, 14.696938514709473), multiplicity: 51",
          "(0.0, 14.696938514709473), multiplicity: 51",
          "(0.0, 14.696938514709473), multiplicity: 51",
          "(0.0, 14.696938514709473), multiplicity: 51",
          "(0.0, 14.696938514709473), multiplicity: 51",
          "(0.0, 14.696938514709473), multiplicity: 51",
          "(0.0, 14.696938514709473), multiplicity: 51",
          "(0.0, 14.696938514709473), multiplicity: 51",
          "(0.0, 14.696938514709473), multiplicity: 51",
          "(0.0, 14.696938514709473), multiplicity: 51",
          "(0.0, 14.696938514709473), multiplicity: 51",
          "(0.0, 14.696938514709473), multiplicity: 51",
          "(0.0, 14.696938514709473), multiplicity: 51",
          "(0.0, 14.696938514709473), multiplicity: 51",
          "(0.0, 14.696938514709473), multiplicity: 51",
          "(0.0, 14.696938514709473), multiplicity: 51",
          "(0.0, 14.696938514709473), multiplicity: 51",
          "(0.0, 14.696938514709473), multiplicity: 51",
          "(0.0, 14.696938514709473), multiplicity: 51",
          "(0.0, 14.696938514709473), multiplicity: 51",
          "(0.0, 14.696938514709473), multiplicity: 51",
          "(0.0, 14.696938514709473), multiplicity: 51",
          "(0.0, 14.696938514709473), multiplicity: 51",
          "(0.0, 14.696938514709473), multiplicity: 51",
          "(0.0, 14.696938514709473), multiplicity: 51",
          "(0.0, 14.696938514709473), multiplicity: 51",
          "(0.0, 14.696938514709473), multiplicity: 51",
          "(0.0, 14.696938514709473), multiplicity: 51",
          "(0.0, 14.696938514709473), multiplicity: 51",
          "(0.0, 14.696938514709473), multiplicity: 51",
          "(0.0, 14.696938514709473), multiplicity: 51",
          "(0.0, 14.696938514709473), multiplicity: 51",
          "(0.0, 14.696938514709473), multiplicity: 51",
          "(0.0, 14.696938514709473), multiplicity: 51",
          "(0.0, 14.696938514709473), multiplicity: 51",
          "(0.0, 14.696938514709473), multiplicity: 51",
          "(0.0, 14.696938514709473), multiplicity: 51",
          "(0.0, 14.696938514709473), multiplicity: 51",
          "(0.0, 14.696938514709473), multiplicity: 51",
          "(0.0, 14.696938514709473), multiplicity: 51",
          "(0.0, 15.491933822631836)",
          "(0.0, 15.620499610900879)",
          "(0.0, 15.748015403747559)",
          "(0.0, 15.874507904052734)",
          "(0.0, 16.0)",
          "(0.0, 16.248077392578125)",
          "(0.0, 16.492422103881836)",
          "(0.0, 16.733200073242188)",
          "(0.0, 17.435596466064453)",
          "(0.0, 17.66352081298828)",
          "(0.0, 17.8885440826416)",
          "(0.0, 18.11077117919922)",
          "(0.0, 18.330303192138672)",
          "(0.0, 18.439088821411133)",
          "(0.0, 19.287302017211914)",
          "(0.0, 19.39072036743164), multiplicity: 5",
          "(0.0, 19.39072036743164), multiplicity: 5",
          "(0.0, 19.39072036743164), multiplicity: 5",
          "(0.0, 19.39072036743164), multiplicity: 5",
          "(0.0, 19.39072036743164), multiplicity: 5",
          "(0.0, 19.79899024963379)",
          "(0.0, 20.19900894165039)",
          "(0.0, 20.976177215576172)",
          "(0.0, 21.1660099029541)",
          "(0.0, 21.354156494140625)",
          "(0.0, 21.908903121948242)",
          "(0.0, 22.956480026245117)",
          "(0.0, 23.151674270629883)",
          "(0.0, 23.494680404663086)",
          "(0.0, 23.74868392944336)",
          "(0.0, 24.24871063232422)",
          "(0.0, 24.331050872802734)",
          "(0.0, 24.95996856689453)",
          "(0.0, 26.981475830078125)",
          "(0.0, 28.354894638061523)",
          "(0.0, 35.2136344909668)",
          "(0.0, 44.40720748901367)",
          "(0.0, 46.56178665161133)",
          "(0.0, 58.24087905883789)",
          "(0.0, 62.67375946044922)",
          "(0.0, 432.5008544921875)"
         ],
         "mode": "markers",
         "name": "H0",
         "type": "scatter",
         "x": [
          0,
          0,
          0,
          0,
          0,
          0,
          0,
          0,
          0,
          0,
          0,
          0,
          0,
          0,
          0,
          0,
          0,
          0,
          0,
          0,
          0,
          0,
          0,
          0,
          0,
          0,
          0,
          0,
          0,
          0,
          0,
          0,
          0,
          0,
          0,
          0,
          0,
          0,
          0,
          0,
          0,
          0,
          0,
          0,
          0,
          0,
          0,
          0,
          0,
          0,
          0,
          0,
          0,
          0,
          0,
          0,
          0,
          0,
          0,
          0,
          0,
          0,
          0,
          0,
          0,
          0,
          0,
          0,
          0,
          0,
          0,
          0,
          0,
          0,
          0,
          0,
          0,
          0,
          0,
          0,
          0,
          0,
          0,
          0,
          0,
          0,
          0,
          0,
          0,
          0,
          0,
          0,
          0,
          0,
          0,
          0,
          0,
          0,
          0,
          0,
          0,
          0,
          0,
          0,
          0,
          0,
          0,
          0,
          0,
          0,
          0,
          0,
          0,
          0
         ],
         "y": [
          6.633249759674072,
          7.211102485656738,
          7.745966911315918,
          8,
          8.246211051940918,
          8.485280990600586,
          9.165151596069336,
          9.797959327697754,
          10,
          10.392304420471191,
          10.954451560974121,
          11.135528564453125,
          11.832159996032715,
          12,
          12.489995956420898,
          12.649110794067383,
          12.649110794067383,
          14,
          14.282856941223145,
          14.422204971313477,
          14.422204971313477,
          14.560219764709473,
          14.696938514709473,
          14.696938514709473,
          14.696938514709473,
          14.696938514709473,
          14.696938514709473,
          14.696938514709473,
          14.696938514709473,
          14.696938514709473,
          14.696938514709473,
          14.696938514709473,
          14.696938514709473,
          14.696938514709473,
          14.696938514709473,
          14.696938514709473,
          14.696938514709473,
          14.696938514709473,
          14.696938514709473,
          14.696938514709473,
          14.696938514709473,
          14.696938514709473,
          14.696938514709473,
          14.696938514709473,
          14.696938514709473,
          14.696938514709473,
          14.696938514709473,
          14.696938514709473,
          14.696938514709473,
          14.696938514709473,
          14.696938514709473,
          14.696938514709473,
          14.696938514709473,
          14.696938514709473,
          14.696938514709473,
          14.696938514709473,
          14.696938514709473,
          14.696938514709473,
          14.696938514709473,
          14.696938514709473,
          14.696938514709473,
          14.696938514709473,
          14.696938514709473,
          14.696938514709473,
          14.696938514709473,
          14.696938514709473,
          14.696938514709473,
          14.696938514709473,
          14.696938514709473,
          14.696938514709473,
          14.696938514709473,
          14.696938514709473,
          14.696938514709473,
          15.491933822631836,
          15.620499610900879,
          15.748015403747559,
          15.874507904052734,
          16,
          16.248077392578125,
          16.492422103881836,
          16.733200073242188,
          17.435596466064453,
          17.66352081298828,
          17.8885440826416,
          18.11077117919922,
          18.330303192138672,
          18.439088821411133,
          19.287302017211914,
          19.39072036743164,
          19.39072036743164,
          19.39072036743164,
          19.39072036743164,
          19.39072036743164,
          19.79899024963379,
          20.19900894165039,
          20.976177215576172,
          21.1660099029541,
          21.354156494140625,
          21.908903121948242,
          22.956480026245117,
          23.151674270629883,
          23.494680404663086,
          23.74868392944336,
          24.24871063232422,
          24.331050872802734,
          24.95996856689453,
          26.981475830078125,
          28.354894638061523,
          35.2136344909668,
          44.40720748901367,
          46.56178665161133,
          58.24087905883789,
          62.67375946044922,
          432.5008544921875
         ]
        },
        {
         "hoverinfo": "text",
         "hovertext": [
          "(37.93415451049805, 38.820098876953125)",
          "(37.41657257080078, 38.41874694824219)",
          "(34.75629425048828, 35.83294677734375)",
          "(31.74901580810547, 31.874753952026367)",
          "(30.331501007080078, 30.463092803955078)",
          "(29.664793014526367, 29.79932975769043)",
          "(28.635643005371094, 28.705400466918945)",
          "(28.56571388244629, 33.82307052612305)",
          "(26.229753494262695, 27.12932014465332)",
          "(26.153392791748047, 30.659420013427734)",
          "(26.057628631591797, 31.74901580810547)",
          "(25.768198013305664, 28.142494201660156)",
          "(25.377155303955078, 32.24903106689453)",
          "(24.331050872802734, 26.07680892944336)",
          "(23.916521072387695, 24.494897842407227)",
          "(23.151674270629883, 24.657655715942383)",
          "(22.97825050354004, 24.979991912841797)",
          "(22.803508758544922, 24.166091918945312)",
          "(22.090721130371094, 24.657655715942383)",
          "(21.908903121948242, 26.90724754333496)",
          "(21.908903121948242, 22.97825050354004)",
          "(21.817424774169922, 22.44994354248047)",
          "(21.725561141967773, 25.45584487915039)",
          "(21.540658950805664, 24.819347381591797)",
          "(21.354156494140625, 24.576412200927734)",
          "(21.354156494140625, 21.908903121948242)",
          "(21.1660099029541, 21.63330841064453)",
          "(20.976177215576172, 23.151674270629883)",
          "(20.976177215576172, 22.803508758544922), multiplicity: 2",
          "(20.976177215576172, 22.803508758544922), multiplicity: 2",
          "(20.880613327026367, 21.540658950805664)",
          "(20.880613327026367, 21.1660099029541)",
          "(20.880613327026367, 20.976177215576172)",
          "(20.784608840942383, 23.74868392944336)",
          "(20.099750518798828, 22.803508758544922)",
          "(20.0, 20.784608840942383)",
          "(19.79899024963379, 20.59126091003418)",
          "(19.79899024963379, 20.39607810974121)",
          "(19.595918655395508, 20.59126091003418)",
          "(19.595918655395508, 20.19900894165039)",
          "(19.39072036743164, 22.97825050354004)",
          "(19.287302017211914, 24.331050872802734)",
          "(19.183326721191406, 19.287302017211914)",
          "(18.973665237426758, 23.66431999206543)",
          "(18.330303192138672, 18.973665237426758)",
          "(17.8885440826416, 19.595918655395508)",
          "(17.66352081298828, 20.59126091003418)",
          "(17.435596466064453, 22.97825050354004)",
          "(16.492422103881836, 18.76166343688965)",
          "(16.0, 18.547237396240234)",
          "(14.696938514709473, 20.688159942626953)",
          "(14.696938514709473, 20.59126091003418)",
          "(14.696938514709473, 19.595918655395508)",
          "(14.696938514709473, 18.547237396240234)",
          "(14.696938514709473, 17.66352081298828)"
         ],
         "mode": "markers",
         "name": "H1",
         "type": "scatter",
         "x": [
          37.93415451049805,
          37.41657257080078,
          34.75629425048828,
          31.74901580810547,
          30.331501007080078,
          29.664793014526367,
          28.635643005371094,
          28.56571388244629,
          26.229753494262695,
          26.153392791748047,
          26.057628631591797,
          25.768198013305664,
          25.377155303955078,
          24.331050872802734,
          23.916521072387695,
          23.151674270629883,
          22.97825050354004,
          22.803508758544922,
          22.090721130371094,
          21.908903121948242,
          21.908903121948242,
          21.817424774169922,
          21.725561141967773,
          21.540658950805664,
          21.354156494140625,
          21.354156494140625,
          21.1660099029541,
          20.976177215576172,
          20.976177215576172,
          20.976177215576172,
          20.880613327026367,
          20.880613327026367,
          20.880613327026367,
          20.784608840942383,
          20.099750518798828,
          20,
          19.79899024963379,
          19.79899024963379,
          19.595918655395508,
          19.595918655395508,
          19.39072036743164,
          19.287302017211914,
          19.183326721191406,
          18.973665237426758,
          18.330303192138672,
          17.8885440826416,
          17.66352081298828,
          17.435596466064453,
          16.492422103881836,
          16,
          14.696938514709473,
          14.696938514709473,
          14.696938514709473,
          14.696938514709473,
          14.696938514709473
         ],
         "y": [
          38.820098876953125,
          38.41874694824219,
          35.83294677734375,
          31.874753952026367,
          30.463092803955078,
          29.79932975769043,
          28.705400466918945,
          33.82307052612305,
          27.12932014465332,
          30.659420013427734,
          31.74901580810547,
          28.142494201660156,
          32.24903106689453,
          26.07680892944336,
          24.494897842407227,
          24.657655715942383,
          24.979991912841797,
          24.166091918945312,
          24.657655715942383,
          26.90724754333496,
          22.97825050354004,
          22.44994354248047,
          25.45584487915039,
          24.819347381591797,
          24.576412200927734,
          21.908903121948242,
          21.63330841064453,
          23.151674270629883,
          22.803508758544922,
          22.803508758544922,
          21.540658950805664,
          21.1660099029541,
          20.976177215576172,
          23.74868392944336,
          22.803508758544922,
          20.784608840942383,
          20.59126091003418,
          20.39607810974121,
          20.59126091003418,
          20.19900894165039,
          22.97825050354004,
          24.331050872802734,
          19.287302017211914,
          23.66431999206543,
          18.973665237426758,
          19.595918655395508,
          20.59126091003418,
          22.97825050354004,
          18.76166343688965,
          18.547237396240234,
          20.688159942626953,
          20.59126091003418,
          19.595918655395508,
          18.547237396240234,
          17.66352081298828
         ]
        }
       ],
       "layout": {
        "height": 500,
        "plot_bgcolor": "white",
        "template": {
         "data": {
          "bar": [
           {
            "error_x": {
             "color": "#2a3f5f"
            },
            "error_y": {
             "color": "#2a3f5f"
            },
            "marker": {
             "line": {
              "color": "#E5ECF6",
              "width": 0.5
             },
             "pattern": {
              "fillmode": "overlay",
              "size": 10,
              "solidity": 0.2
             }
            },
            "type": "bar"
           }
          ],
          "barpolar": [
           {
            "marker": {
             "line": {
              "color": "#E5ECF6",
              "width": 0.5
             },
             "pattern": {
              "fillmode": "overlay",
              "size": 10,
              "solidity": 0.2
             }
            },
            "type": "barpolar"
           }
          ],
          "carpet": [
           {
            "aaxis": {
             "endlinecolor": "#2a3f5f",
             "gridcolor": "white",
             "linecolor": "white",
             "minorgridcolor": "white",
             "startlinecolor": "#2a3f5f"
            },
            "baxis": {
             "endlinecolor": "#2a3f5f",
             "gridcolor": "white",
             "linecolor": "white",
             "minorgridcolor": "white",
             "startlinecolor": "#2a3f5f"
            },
            "type": "carpet"
           }
          ],
          "choropleth": [
           {
            "colorbar": {
             "outlinewidth": 0,
             "ticks": ""
            },
            "type": "choropleth"
           }
          ],
          "contour": [
           {
            "colorbar": {
             "outlinewidth": 0,
             "ticks": ""
            },
            "colorscale": [
             [
              0,
              "#0d0887"
             ],
             [
              0.1111111111111111,
              "#46039f"
             ],
             [
              0.2222222222222222,
              "#7201a8"
             ],
             [
              0.3333333333333333,
              "#9c179e"
             ],
             [
              0.4444444444444444,
              "#bd3786"
             ],
             [
              0.5555555555555556,
              "#d8576b"
             ],
             [
              0.6666666666666666,
              "#ed7953"
             ],
             [
              0.7777777777777778,
              "#fb9f3a"
             ],
             [
              0.8888888888888888,
              "#fdca26"
             ],
             [
              1,
              "#f0f921"
             ]
            ],
            "type": "contour"
           }
          ],
          "contourcarpet": [
           {
            "colorbar": {
             "outlinewidth": 0,
             "ticks": ""
            },
            "type": "contourcarpet"
           }
          ],
          "heatmap": [
           {
            "colorbar": {
             "outlinewidth": 0,
             "ticks": ""
            },
            "colorscale": [
             [
              0,
              "#0d0887"
             ],
             [
              0.1111111111111111,
              "#46039f"
             ],
             [
              0.2222222222222222,
              "#7201a8"
             ],
             [
              0.3333333333333333,
              "#9c179e"
             ],
             [
              0.4444444444444444,
              "#bd3786"
             ],
             [
              0.5555555555555556,
              "#d8576b"
             ],
             [
              0.6666666666666666,
              "#ed7953"
             ],
             [
              0.7777777777777778,
              "#fb9f3a"
             ],
             [
              0.8888888888888888,
              "#fdca26"
             ],
             [
              1,
              "#f0f921"
             ]
            ],
            "type": "heatmap"
           }
          ],
          "heatmapgl": [
           {
            "colorbar": {
             "outlinewidth": 0,
             "ticks": ""
            },
            "colorscale": [
             [
              0,
              "#0d0887"
             ],
             [
              0.1111111111111111,
              "#46039f"
             ],
             [
              0.2222222222222222,
              "#7201a8"
             ],
             [
              0.3333333333333333,
              "#9c179e"
             ],
             [
              0.4444444444444444,
              "#bd3786"
             ],
             [
              0.5555555555555556,
              "#d8576b"
             ],
             [
              0.6666666666666666,
              "#ed7953"
             ],
             [
              0.7777777777777778,
              "#fb9f3a"
             ],
             [
              0.8888888888888888,
              "#fdca26"
             ],
             [
              1,
              "#f0f921"
             ]
            ],
            "type": "heatmapgl"
           }
          ],
          "histogram": [
           {
            "marker": {
             "pattern": {
              "fillmode": "overlay",
              "size": 10,
              "solidity": 0.2
             }
            },
            "type": "histogram"
           }
          ],
          "histogram2d": [
           {
            "colorbar": {
             "outlinewidth": 0,
             "ticks": ""
            },
            "colorscale": [
             [
              0,
              "#0d0887"
             ],
             [
              0.1111111111111111,
              "#46039f"
             ],
             [
              0.2222222222222222,
              "#7201a8"
             ],
             [
              0.3333333333333333,
              "#9c179e"
             ],
             [
              0.4444444444444444,
              "#bd3786"
             ],
             [
              0.5555555555555556,
              "#d8576b"
             ],
             [
              0.6666666666666666,
              "#ed7953"
             ],
             [
              0.7777777777777778,
              "#fb9f3a"
             ],
             [
              0.8888888888888888,
              "#fdca26"
             ],
             [
              1,
              "#f0f921"
             ]
            ],
            "type": "histogram2d"
           }
          ],
          "histogram2dcontour": [
           {
            "colorbar": {
             "outlinewidth": 0,
             "ticks": ""
            },
            "colorscale": [
             [
              0,
              "#0d0887"
             ],
             [
              0.1111111111111111,
              "#46039f"
             ],
             [
              0.2222222222222222,
              "#7201a8"
             ],
             [
              0.3333333333333333,
              "#9c179e"
             ],
             [
              0.4444444444444444,
              "#bd3786"
             ],
             [
              0.5555555555555556,
              "#d8576b"
             ],
             [
              0.6666666666666666,
              "#ed7953"
             ],
             [
              0.7777777777777778,
              "#fb9f3a"
             ],
             [
              0.8888888888888888,
              "#fdca26"
             ],
             [
              1,
              "#f0f921"
             ]
            ],
            "type": "histogram2dcontour"
           }
          ],
          "mesh3d": [
           {
            "colorbar": {
             "outlinewidth": 0,
             "ticks": ""
            },
            "type": "mesh3d"
           }
          ],
          "parcoords": [
           {
            "line": {
             "colorbar": {
              "outlinewidth": 0,
              "ticks": ""
             }
            },
            "type": "parcoords"
           }
          ],
          "pie": [
           {
            "automargin": true,
            "type": "pie"
           }
          ],
          "scatter": [
           {
            "fillpattern": {
             "fillmode": "overlay",
             "size": 10,
             "solidity": 0.2
            },
            "type": "scatter"
           }
          ],
          "scatter3d": [
           {
            "line": {
             "colorbar": {
              "outlinewidth": 0,
              "ticks": ""
             }
            },
            "marker": {
             "colorbar": {
              "outlinewidth": 0,
              "ticks": ""
             }
            },
            "type": "scatter3d"
           }
          ],
          "scattercarpet": [
           {
            "marker": {
             "colorbar": {
              "outlinewidth": 0,
              "ticks": ""
             }
            },
            "type": "scattercarpet"
           }
          ],
          "scattergeo": [
           {
            "marker": {
             "colorbar": {
              "outlinewidth": 0,
              "ticks": ""
             }
            },
            "type": "scattergeo"
           }
          ],
          "scattergl": [
           {
            "marker": {
             "colorbar": {
              "outlinewidth": 0,
              "ticks": ""
             }
            },
            "type": "scattergl"
           }
          ],
          "scattermapbox": [
           {
            "marker": {
             "colorbar": {
              "outlinewidth": 0,
              "ticks": ""
             }
            },
            "type": "scattermapbox"
           }
          ],
          "scatterpolar": [
           {
            "marker": {
             "colorbar": {
              "outlinewidth": 0,
              "ticks": ""
             }
            },
            "type": "scatterpolar"
           }
          ],
          "scatterpolargl": [
           {
            "marker": {
             "colorbar": {
              "outlinewidth": 0,
              "ticks": ""
             }
            },
            "type": "scatterpolargl"
           }
          ],
          "scatterternary": [
           {
            "marker": {
             "colorbar": {
              "outlinewidth": 0,
              "ticks": ""
             }
            },
            "type": "scatterternary"
           }
          ],
          "surface": [
           {
            "colorbar": {
             "outlinewidth": 0,
             "ticks": ""
            },
            "colorscale": [
             [
              0,
              "#0d0887"
             ],
             [
              0.1111111111111111,
              "#46039f"
             ],
             [
              0.2222222222222222,
              "#7201a8"
             ],
             [
              0.3333333333333333,
              "#9c179e"
             ],
             [
              0.4444444444444444,
              "#bd3786"
             ],
             [
              0.5555555555555556,
              "#d8576b"
             ],
             [
              0.6666666666666666,
              "#ed7953"
             ],
             [
              0.7777777777777778,
              "#fb9f3a"
             ],
             [
              0.8888888888888888,
              "#fdca26"
             ],
             [
              1,
              "#f0f921"
             ]
            ],
            "type": "surface"
           }
          ],
          "table": [
           {
            "cells": {
             "fill": {
              "color": "#EBF0F8"
             },
             "line": {
              "color": "white"
             }
            },
            "header": {
             "fill": {
              "color": "#C8D4E3"
             },
             "line": {
              "color": "white"
             }
            },
            "type": "table"
           }
          ]
         },
         "layout": {
          "annotationdefaults": {
           "arrowcolor": "#2a3f5f",
           "arrowhead": 0,
           "arrowwidth": 1
          },
          "autotypenumbers": "strict",
          "coloraxis": {
           "colorbar": {
            "outlinewidth": 0,
            "ticks": ""
           }
          },
          "colorscale": {
           "diverging": [
            [
             0,
             "#8e0152"
            ],
            [
             0.1,
             "#c51b7d"
            ],
            [
             0.2,
             "#de77ae"
            ],
            [
             0.3,
             "#f1b6da"
            ],
            [
             0.4,
             "#fde0ef"
            ],
            [
             0.5,
             "#f7f7f7"
            ],
            [
             0.6,
             "#e6f5d0"
            ],
            [
             0.7,
             "#b8e186"
            ],
            [
             0.8,
             "#7fbc41"
            ],
            [
             0.9,
             "#4d9221"
            ],
            [
             1,
             "#276419"
            ]
           ],
           "sequential": [
            [
             0,
             "#0d0887"
            ],
            [
             0.1111111111111111,
             "#46039f"
            ],
            [
             0.2222222222222222,
             "#7201a8"
            ],
            [
             0.3333333333333333,
             "#9c179e"
            ],
            [
             0.4444444444444444,
             "#bd3786"
            ],
            [
             0.5555555555555556,
             "#d8576b"
            ],
            [
             0.6666666666666666,
             "#ed7953"
            ],
            [
             0.7777777777777778,
             "#fb9f3a"
            ],
            [
             0.8888888888888888,
             "#fdca26"
            ],
            [
             1,
             "#f0f921"
            ]
           ],
           "sequentialminus": [
            [
             0,
             "#0d0887"
            ],
            [
             0.1111111111111111,
             "#46039f"
            ],
            [
             0.2222222222222222,
             "#7201a8"
            ],
            [
             0.3333333333333333,
             "#9c179e"
            ],
            [
             0.4444444444444444,
             "#bd3786"
            ],
            [
             0.5555555555555556,
             "#d8576b"
            ],
            [
             0.6666666666666666,
             "#ed7953"
            ],
            [
             0.7777777777777778,
             "#fb9f3a"
            ],
            [
             0.8888888888888888,
             "#fdca26"
            ],
            [
             1,
             "#f0f921"
            ]
           ]
          },
          "colorway": [
           "#636efa",
           "#EF553B",
           "#00cc96",
           "#ab63fa",
           "#FFA15A",
           "#19d3f3",
           "#FF6692",
           "#B6E880",
           "#FF97FF",
           "#FECB52"
          ],
          "font": {
           "color": "#2a3f5f"
          },
          "geo": {
           "bgcolor": "white",
           "lakecolor": "white",
           "landcolor": "#E5ECF6",
           "showlakes": true,
           "showland": true,
           "subunitcolor": "white"
          },
          "hoverlabel": {
           "align": "left"
          },
          "hovermode": "closest",
          "mapbox": {
           "style": "light"
          },
          "paper_bgcolor": "white",
          "plot_bgcolor": "#E5ECF6",
          "polar": {
           "angularaxis": {
            "gridcolor": "white",
            "linecolor": "white",
            "ticks": ""
           },
           "bgcolor": "#E5ECF6",
           "radialaxis": {
            "gridcolor": "white",
            "linecolor": "white",
            "ticks": ""
           }
          },
          "scene": {
           "xaxis": {
            "backgroundcolor": "#E5ECF6",
            "gridcolor": "white",
            "gridwidth": 2,
            "linecolor": "white",
            "showbackground": true,
            "ticks": "",
            "zerolinecolor": "white"
           },
           "yaxis": {
            "backgroundcolor": "#E5ECF6",
            "gridcolor": "white",
            "gridwidth": 2,
            "linecolor": "white",
            "showbackground": true,
            "ticks": "",
            "zerolinecolor": "white"
           },
           "zaxis": {
            "backgroundcolor": "#E5ECF6",
            "gridcolor": "white",
            "gridwidth": 2,
            "linecolor": "white",
            "showbackground": true,
            "ticks": "",
            "zerolinecolor": "white"
           }
          },
          "shapedefaults": {
           "line": {
            "color": "#2a3f5f"
           }
          },
          "ternary": {
           "aaxis": {
            "gridcolor": "white",
            "linecolor": "white",
            "ticks": ""
           },
           "baxis": {
            "gridcolor": "white",
            "linecolor": "white",
            "ticks": ""
           },
           "bgcolor": "#E5ECF6",
           "caxis": {
            "gridcolor": "white",
            "linecolor": "white",
            "ticks": ""
           }
          },
          "title": {
           "x": 0.05
          },
          "xaxis": {
           "automargin": true,
           "gridcolor": "white",
           "linecolor": "white",
           "ticks": "",
           "title": {
            "standoff": 15
           },
           "zerolinecolor": "white",
           "zerolinewidth": 2
          },
          "yaxis": {
           "automargin": true,
           "gridcolor": "white",
           "linecolor": "white",
           "ticks": "",
           "title": {
            "standoff": 15
           },
           "zerolinecolor": "white",
           "zerolinewidth": 2
          }
         }
        },
        "width": 500,
        "xaxis": {
         "autorange": false,
         "exponentformat": "e",
         "linecolor": "black",
         "linewidth": 1,
         "mirror": false,
         "range": [
          -8.65001708984375,
          441.15087158203124
         ],
         "showexponent": "all",
         "showline": true,
         "side": "bottom",
         "ticks": "outside",
         "title": {
          "text": "Birth"
         },
         "type": "linear",
         "zeroline": true
        },
        "yaxis": {
         "autorange": false,
         "exponentformat": "e",
         "linecolor": "black",
         "linewidth": 1,
         "mirror": false,
         "range": [
          -8.65001708984375,
          441.15087158203124
         ],
         "scaleanchor": "x",
         "scaleratio": 1,
         "showexponent": "all",
         "showline": true,
         "side": "left",
         "ticks": "outside",
         "title": {
          "text": "Death"
         },
         "type": "linear",
         "zeroline": true
        }
       }
      },
      "text/html": [
       "<div>                            <div id=\"182b0f02-9520-4684-a168-281b9eee990f\" class=\"plotly-graph-div\" style=\"height:500px; width:500px;\"></div>            <script type=\"text/javascript\">                require([\"plotly\"], function(Plotly) {                    window.PLOTLYENV=window.PLOTLYENV || {};                                    if (document.getElementById(\"182b0f02-9520-4684-a168-281b9eee990f\")) {                    Plotly.newPlot(                        \"182b0f02-9520-4684-a168-281b9eee990f\",                        [{\"hoverinfo\":\"none\",\"line\":{\"color\":\"black\",\"dash\":\"dash\",\"width\":1},\"mode\":\"lines\",\"showlegend\":false,\"x\":[-8.65001708984375,441.15087158203124],\"y\":[-8.65001708984375,441.15087158203124],\"type\":\"scatter\"},{\"hoverinfo\":\"text\",\"hovertext\":[\"(0.0, 6.633249759674072)\",\"(0.0, 7.211102485656738)\",\"(0.0, 7.745966911315918)\",\"(0.0, 8.0)\",\"(0.0, 8.246211051940918)\",\"(0.0, 8.485280990600586)\",\"(0.0, 9.165151596069336)\",\"(0.0, 9.797959327697754)\",\"(0.0, 10.0)\",\"(0.0, 10.392304420471191)\",\"(0.0, 10.954451560974121)\",\"(0.0, 11.135528564453125)\",\"(0.0, 11.832159996032715)\",\"(0.0, 12.0)\",\"(0.0, 12.489995956420898)\",\"(0.0, 12.649110794067383), multiplicity: 2\",\"(0.0, 12.649110794067383), multiplicity: 2\",\"(0.0, 14.0)\",\"(0.0, 14.282856941223145)\",\"(0.0, 14.422204971313477), multiplicity: 2\",\"(0.0, 14.422204971313477), multiplicity: 2\",\"(0.0, 14.560219764709473)\",\"(0.0, 14.696938514709473), multiplicity: 51\",\"(0.0, 14.696938514709473), multiplicity: 51\",\"(0.0, 14.696938514709473), multiplicity: 51\",\"(0.0, 14.696938514709473), multiplicity: 51\",\"(0.0, 14.696938514709473), multiplicity: 51\",\"(0.0, 14.696938514709473), multiplicity: 51\",\"(0.0, 14.696938514709473), multiplicity: 51\",\"(0.0, 14.696938514709473), multiplicity: 51\",\"(0.0, 14.696938514709473), multiplicity: 51\",\"(0.0, 14.696938514709473), multiplicity: 51\",\"(0.0, 14.696938514709473), multiplicity: 51\",\"(0.0, 14.696938514709473), multiplicity: 51\",\"(0.0, 14.696938514709473), multiplicity: 51\",\"(0.0, 14.696938514709473), multiplicity: 51\",\"(0.0, 14.696938514709473), multiplicity: 51\",\"(0.0, 14.696938514709473), multiplicity: 51\",\"(0.0, 14.696938514709473), multiplicity: 51\",\"(0.0, 14.696938514709473), multiplicity: 51\",\"(0.0, 14.696938514709473), multiplicity: 51\",\"(0.0, 14.696938514709473), multiplicity: 51\",\"(0.0, 14.696938514709473), multiplicity: 51\",\"(0.0, 14.696938514709473), multiplicity: 51\",\"(0.0, 14.696938514709473), multiplicity: 51\",\"(0.0, 14.696938514709473), multiplicity: 51\",\"(0.0, 14.696938514709473), multiplicity: 51\",\"(0.0, 14.696938514709473), multiplicity: 51\",\"(0.0, 14.696938514709473), multiplicity: 51\",\"(0.0, 14.696938514709473), multiplicity: 51\",\"(0.0, 14.696938514709473), multiplicity: 51\",\"(0.0, 14.696938514709473), multiplicity: 51\",\"(0.0, 14.696938514709473), multiplicity: 51\",\"(0.0, 14.696938514709473), multiplicity: 51\",\"(0.0, 14.696938514709473), multiplicity: 51\",\"(0.0, 14.696938514709473), multiplicity: 51\",\"(0.0, 14.696938514709473), multiplicity: 51\",\"(0.0, 14.696938514709473), multiplicity: 51\",\"(0.0, 14.696938514709473), multiplicity: 51\",\"(0.0, 14.696938514709473), multiplicity: 51\",\"(0.0, 14.696938514709473), multiplicity: 51\",\"(0.0, 14.696938514709473), multiplicity: 51\",\"(0.0, 14.696938514709473), multiplicity: 51\",\"(0.0, 14.696938514709473), multiplicity: 51\",\"(0.0, 14.696938514709473), multiplicity: 51\",\"(0.0, 14.696938514709473), multiplicity: 51\",\"(0.0, 14.696938514709473), multiplicity: 51\",\"(0.0, 14.696938514709473), multiplicity: 51\",\"(0.0, 14.696938514709473), multiplicity: 51\",\"(0.0, 14.696938514709473), multiplicity: 51\",\"(0.0, 14.696938514709473), multiplicity: 51\",\"(0.0, 14.696938514709473), multiplicity: 51\",\"(0.0, 14.696938514709473), multiplicity: 51\",\"(0.0, 15.491933822631836)\",\"(0.0, 15.620499610900879)\",\"(0.0, 15.748015403747559)\",\"(0.0, 15.874507904052734)\",\"(0.0, 16.0)\",\"(0.0, 16.248077392578125)\",\"(0.0, 16.492422103881836)\",\"(0.0, 16.733200073242188)\",\"(0.0, 17.435596466064453)\",\"(0.0, 17.66352081298828)\",\"(0.0, 17.8885440826416)\",\"(0.0, 18.11077117919922)\",\"(0.0, 18.330303192138672)\",\"(0.0, 18.439088821411133)\",\"(0.0, 19.287302017211914)\",\"(0.0, 19.39072036743164), multiplicity: 5\",\"(0.0, 19.39072036743164), multiplicity: 5\",\"(0.0, 19.39072036743164), multiplicity: 5\",\"(0.0, 19.39072036743164), multiplicity: 5\",\"(0.0, 19.39072036743164), multiplicity: 5\",\"(0.0, 19.79899024963379)\",\"(0.0, 20.19900894165039)\",\"(0.0, 20.976177215576172)\",\"(0.0, 21.1660099029541)\",\"(0.0, 21.354156494140625)\",\"(0.0, 21.908903121948242)\",\"(0.0, 22.956480026245117)\",\"(0.0, 23.151674270629883)\",\"(0.0, 23.494680404663086)\",\"(0.0, 23.74868392944336)\",\"(0.0, 24.24871063232422)\",\"(0.0, 24.331050872802734)\",\"(0.0, 24.95996856689453)\",\"(0.0, 26.981475830078125)\",\"(0.0, 28.354894638061523)\",\"(0.0, 35.2136344909668)\",\"(0.0, 44.40720748901367)\",\"(0.0, 46.56178665161133)\",\"(0.0, 58.24087905883789)\",\"(0.0, 62.67375946044922)\",\"(0.0, 432.5008544921875)\"],\"mode\":\"markers\",\"name\":\"H0\",\"x\":[0.0,0.0,0.0,0.0,0.0,0.0,0.0,0.0,0.0,0.0,0.0,0.0,0.0,0.0,0.0,0.0,0.0,0.0,0.0,0.0,0.0,0.0,0.0,0.0,0.0,0.0,0.0,0.0,0.0,0.0,0.0,0.0,0.0,0.0,0.0,0.0,0.0,0.0,0.0,0.0,0.0,0.0,0.0,0.0,0.0,0.0,0.0,0.0,0.0,0.0,0.0,0.0,0.0,0.0,0.0,0.0,0.0,0.0,0.0,0.0,0.0,0.0,0.0,0.0,0.0,0.0,0.0,0.0,0.0,0.0,0.0,0.0,0.0,0.0,0.0,0.0,0.0,0.0,0.0,0.0,0.0,0.0,0.0,0.0,0.0,0.0,0.0,0.0,0.0,0.0,0.0,0.0,0.0,0.0,0.0,0.0,0.0,0.0,0.0,0.0,0.0,0.0,0.0,0.0,0.0,0.0,0.0,0.0,0.0,0.0,0.0,0.0,0.0,0.0],\"y\":[6.633249759674072,7.211102485656738,7.745966911315918,8.0,8.246211051940918,8.485280990600586,9.165151596069336,9.797959327697754,10.0,10.392304420471191,10.954451560974121,11.135528564453125,11.832159996032715,12.0,12.489995956420898,12.649110794067383,12.649110794067383,14.0,14.282856941223145,14.422204971313477,14.422204971313477,14.560219764709473,14.696938514709473,14.696938514709473,14.696938514709473,14.696938514709473,14.696938514709473,14.696938514709473,14.696938514709473,14.696938514709473,14.696938514709473,14.696938514709473,14.696938514709473,14.696938514709473,14.696938514709473,14.696938514709473,14.696938514709473,14.696938514709473,14.696938514709473,14.696938514709473,14.696938514709473,14.696938514709473,14.696938514709473,14.696938514709473,14.696938514709473,14.696938514709473,14.696938514709473,14.696938514709473,14.696938514709473,14.696938514709473,14.696938514709473,14.696938514709473,14.696938514709473,14.696938514709473,14.696938514709473,14.696938514709473,14.696938514709473,14.696938514709473,14.696938514709473,14.696938514709473,14.696938514709473,14.696938514709473,14.696938514709473,14.696938514709473,14.696938514709473,14.696938514709473,14.696938514709473,14.696938514709473,14.696938514709473,14.696938514709473,14.696938514709473,14.696938514709473,14.696938514709473,15.491933822631836,15.620499610900879,15.748015403747559,15.874507904052734,16.0,16.248077392578125,16.492422103881836,16.733200073242188,17.435596466064453,17.66352081298828,17.8885440826416,18.11077117919922,18.330303192138672,18.439088821411133,19.287302017211914,19.39072036743164,19.39072036743164,19.39072036743164,19.39072036743164,19.39072036743164,19.79899024963379,20.19900894165039,20.976177215576172,21.1660099029541,21.354156494140625,21.908903121948242,22.956480026245117,23.151674270629883,23.494680404663086,23.74868392944336,24.24871063232422,24.331050872802734,24.95996856689453,26.981475830078125,28.354894638061523,35.2136344909668,44.40720748901367,46.56178665161133,58.24087905883789,62.67375946044922,432.5008544921875],\"type\":\"scatter\"},{\"hoverinfo\":\"text\",\"hovertext\":[\"(37.93415451049805, 38.820098876953125)\",\"(37.41657257080078, 38.41874694824219)\",\"(34.75629425048828, 35.83294677734375)\",\"(31.74901580810547, 31.874753952026367)\",\"(30.331501007080078, 30.463092803955078)\",\"(29.664793014526367, 29.79932975769043)\",\"(28.635643005371094, 28.705400466918945)\",\"(28.56571388244629, 33.82307052612305)\",\"(26.229753494262695, 27.12932014465332)\",\"(26.153392791748047, 30.659420013427734)\",\"(26.057628631591797, 31.74901580810547)\",\"(25.768198013305664, 28.142494201660156)\",\"(25.377155303955078, 32.24903106689453)\",\"(24.331050872802734, 26.07680892944336)\",\"(23.916521072387695, 24.494897842407227)\",\"(23.151674270629883, 24.657655715942383)\",\"(22.97825050354004, 24.979991912841797)\",\"(22.803508758544922, 24.166091918945312)\",\"(22.090721130371094, 24.657655715942383)\",\"(21.908903121948242, 26.90724754333496)\",\"(21.908903121948242, 22.97825050354004)\",\"(21.817424774169922, 22.44994354248047)\",\"(21.725561141967773, 25.45584487915039)\",\"(21.540658950805664, 24.819347381591797)\",\"(21.354156494140625, 24.576412200927734)\",\"(21.354156494140625, 21.908903121948242)\",\"(21.1660099029541, 21.63330841064453)\",\"(20.976177215576172, 23.151674270629883)\",\"(20.976177215576172, 22.803508758544922), multiplicity: 2\",\"(20.976177215576172, 22.803508758544922), multiplicity: 2\",\"(20.880613327026367, 21.540658950805664)\",\"(20.880613327026367, 21.1660099029541)\",\"(20.880613327026367, 20.976177215576172)\",\"(20.784608840942383, 23.74868392944336)\",\"(20.099750518798828, 22.803508758544922)\",\"(20.0, 20.784608840942383)\",\"(19.79899024963379, 20.59126091003418)\",\"(19.79899024963379, 20.39607810974121)\",\"(19.595918655395508, 20.59126091003418)\",\"(19.595918655395508, 20.19900894165039)\",\"(19.39072036743164, 22.97825050354004)\",\"(19.287302017211914, 24.331050872802734)\",\"(19.183326721191406, 19.287302017211914)\",\"(18.973665237426758, 23.66431999206543)\",\"(18.330303192138672, 18.973665237426758)\",\"(17.8885440826416, 19.595918655395508)\",\"(17.66352081298828, 20.59126091003418)\",\"(17.435596466064453, 22.97825050354004)\",\"(16.492422103881836, 18.76166343688965)\",\"(16.0, 18.547237396240234)\",\"(14.696938514709473, 20.688159942626953)\",\"(14.696938514709473, 20.59126091003418)\",\"(14.696938514709473, 19.595918655395508)\",\"(14.696938514709473, 18.547237396240234)\",\"(14.696938514709473, 17.66352081298828)\"],\"mode\":\"markers\",\"name\":\"H1\",\"x\":[37.93415451049805,37.41657257080078,34.75629425048828,31.74901580810547,30.331501007080078,29.664793014526367,28.635643005371094,28.56571388244629,26.229753494262695,26.153392791748047,26.057628631591797,25.768198013305664,25.377155303955078,24.331050872802734,23.916521072387695,23.151674270629883,22.97825050354004,22.803508758544922,22.090721130371094,21.908903121948242,21.908903121948242,21.817424774169922,21.725561141967773,21.540658950805664,21.354156494140625,21.354156494140625,21.1660099029541,20.976177215576172,20.976177215576172,20.976177215576172,20.880613327026367,20.880613327026367,20.880613327026367,20.784608840942383,20.099750518798828,20.0,19.79899024963379,19.79899024963379,19.595918655395508,19.595918655395508,19.39072036743164,19.287302017211914,19.183326721191406,18.973665237426758,18.330303192138672,17.8885440826416,17.66352081298828,17.435596466064453,16.492422103881836,16.0,14.696938514709473,14.696938514709473,14.696938514709473,14.696938514709473,14.696938514709473],\"y\":[38.820098876953125,38.41874694824219,35.83294677734375,31.874753952026367,30.463092803955078,29.79932975769043,28.705400466918945,33.82307052612305,27.12932014465332,30.659420013427734,31.74901580810547,28.142494201660156,32.24903106689453,26.07680892944336,24.494897842407227,24.657655715942383,24.979991912841797,24.166091918945312,24.657655715942383,26.90724754333496,22.97825050354004,22.44994354248047,25.45584487915039,24.819347381591797,24.576412200927734,21.908903121948242,21.63330841064453,23.151674270629883,22.803508758544922,22.803508758544922,21.540658950805664,21.1660099029541,20.976177215576172,23.74868392944336,22.803508758544922,20.784608840942383,20.59126091003418,20.39607810974121,20.59126091003418,20.19900894165039,22.97825050354004,24.331050872802734,19.287302017211914,23.66431999206543,18.973665237426758,19.595918655395508,20.59126091003418,22.97825050354004,18.76166343688965,18.547237396240234,20.688159942626953,20.59126091003418,19.595918655395508,18.547237396240234,17.66352081298828],\"type\":\"scatter\"}],                        {\"template\":{\"data\":{\"histogram2dcontour\":[{\"type\":\"histogram2dcontour\",\"colorbar\":{\"outlinewidth\":0,\"ticks\":\"\"},\"colorscale\":[[0.0,\"#0d0887\"],[0.1111111111111111,\"#46039f\"],[0.2222222222222222,\"#7201a8\"],[0.3333333333333333,\"#9c179e\"],[0.4444444444444444,\"#bd3786\"],[0.5555555555555556,\"#d8576b\"],[0.6666666666666666,\"#ed7953\"],[0.7777777777777778,\"#fb9f3a\"],[0.8888888888888888,\"#fdca26\"],[1.0,\"#f0f921\"]]}],\"choropleth\":[{\"type\":\"choropleth\",\"colorbar\":{\"outlinewidth\":0,\"ticks\":\"\"}}],\"histogram2d\":[{\"type\":\"histogram2d\",\"colorbar\":{\"outlinewidth\":0,\"ticks\":\"\"},\"colorscale\":[[0.0,\"#0d0887\"],[0.1111111111111111,\"#46039f\"],[0.2222222222222222,\"#7201a8\"],[0.3333333333333333,\"#9c179e\"],[0.4444444444444444,\"#bd3786\"],[0.5555555555555556,\"#d8576b\"],[0.6666666666666666,\"#ed7953\"],[0.7777777777777778,\"#fb9f3a\"],[0.8888888888888888,\"#fdca26\"],[1.0,\"#f0f921\"]]}],\"heatmap\":[{\"type\":\"heatmap\",\"colorbar\":{\"outlinewidth\":0,\"ticks\":\"\"},\"colorscale\":[[0.0,\"#0d0887\"],[0.1111111111111111,\"#46039f\"],[0.2222222222222222,\"#7201a8\"],[0.3333333333333333,\"#9c179e\"],[0.4444444444444444,\"#bd3786\"],[0.5555555555555556,\"#d8576b\"],[0.6666666666666666,\"#ed7953\"],[0.7777777777777778,\"#fb9f3a\"],[0.8888888888888888,\"#fdca26\"],[1.0,\"#f0f921\"]]}],\"heatmapgl\":[{\"type\":\"heatmapgl\",\"colorbar\":{\"outlinewidth\":0,\"ticks\":\"\"},\"colorscale\":[[0.0,\"#0d0887\"],[0.1111111111111111,\"#46039f\"],[0.2222222222222222,\"#7201a8\"],[0.3333333333333333,\"#9c179e\"],[0.4444444444444444,\"#bd3786\"],[0.5555555555555556,\"#d8576b\"],[0.6666666666666666,\"#ed7953\"],[0.7777777777777778,\"#fb9f3a\"],[0.8888888888888888,\"#fdca26\"],[1.0,\"#f0f921\"]]}],\"contourcarpet\":[{\"type\":\"contourcarpet\",\"colorbar\":{\"outlinewidth\":0,\"ticks\":\"\"}}],\"contour\":[{\"type\":\"contour\",\"colorbar\":{\"outlinewidth\":0,\"ticks\":\"\"},\"colorscale\":[[0.0,\"#0d0887\"],[0.1111111111111111,\"#46039f\"],[0.2222222222222222,\"#7201a8\"],[0.3333333333333333,\"#9c179e\"],[0.4444444444444444,\"#bd3786\"],[0.5555555555555556,\"#d8576b\"],[0.6666666666666666,\"#ed7953\"],[0.7777777777777778,\"#fb9f3a\"],[0.8888888888888888,\"#fdca26\"],[1.0,\"#f0f921\"]]}],\"surface\":[{\"type\":\"surface\",\"colorbar\":{\"outlinewidth\":0,\"ticks\":\"\"},\"colorscale\":[[0.0,\"#0d0887\"],[0.1111111111111111,\"#46039f\"],[0.2222222222222222,\"#7201a8\"],[0.3333333333333333,\"#9c179e\"],[0.4444444444444444,\"#bd3786\"],[0.5555555555555556,\"#d8576b\"],[0.6666666666666666,\"#ed7953\"],[0.7777777777777778,\"#fb9f3a\"],[0.8888888888888888,\"#fdca26\"],[1.0,\"#f0f921\"]]}],\"mesh3d\":[{\"type\":\"mesh3d\",\"colorbar\":{\"outlinewidth\":0,\"ticks\":\"\"}}],\"scatter\":[{\"fillpattern\":{\"fillmode\":\"overlay\",\"size\":10,\"solidity\":0.2},\"type\":\"scatter\"}],\"parcoords\":[{\"type\":\"parcoords\",\"line\":{\"colorbar\":{\"outlinewidth\":0,\"ticks\":\"\"}}}],\"scatterpolargl\":[{\"type\":\"scatterpolargl\",\"marker\":{\"colorbar\":{\"outlinewidth\":0,\"ticks\":\"\"}}}],\"bar\":[{\"error_x\":{\"color\":\"#2a3f5f\"},\"error_y\":{\"color\":\"#2a3f5f\"},\"marker\":{\"line\":{\"color\":\"#E5ECF6\",\"width\":0.5},\"pattern\":{\"fillmode\":\"overlay\",\"size\":10,\"solidity\":0.2}},\"type\":\"bar\"}],\"scattergeo\":[{\"type\":\"scattergeo\",\"marker\":{\"colorbar\":{\"outlinewidth\":0,\"ticks\":\"\"}}}],\"scatterpolar\":[{\"type\":\"scatterpolar\",\"marker\":{\"colorbar\":{\"outlinewidth\":0,\"ticks\":\"\"}}}],\"histogram\":[{\"marker\":{\"pattern\":{\"fillmode\":\"overlay\",\"size\":10,\"solidity\":0.2}},\"type\":\"histogram\"}],\"scattergl\":[{\"type\":\"scattergl\",\"marker\":{\"colorbar\":{\"outlinewidth\":0,\"ticks\":\"\"}}}],\"scatter3d\":[{\"type\":\"scatter3d\",\"line\":{\"colorbar\":{\"outlinewidth\":0,\"ticks\":\"\"}},\"marker\":{\"colorbar\":{\"outlinewidth\":0,\"ticks\":\"\"}}}],\"scattermapbox\":[{\"type\":\"scattermapbox\",\"marker\":{\"colorbar\":{\"outlinewidth\":0,\"ticks\":\"\"}}}],\"scatterternary\":[{\"type\":\"scatterternary\",\"marker\":{\"colorbar\":{\"outlinewidth\":0,\"ticks\":\"\"}}}],\"scattercarpet\":[{\"type\":\"scattercarpet\",\"marker\":{\"colorbar\":{\"outlinewidth\":0,\"ticks\":\"\"}}}],\"carpet\":[{\"aaxis\":{\"endlinecolor\":\"#2a3f5f\",\"gridcolor\":\"white\",\"linecolor\":\"white\",\"minorgridcolor\":\"white\",\"startlinecolor\":\"#2a3f5f\"},\"baxis\":{\"endlinecolor\":\"#2a3f5f\",\"gridcolor\":\"white\",\"linecolor\":\"white\",\"minorgridcolor\":\"white\",\"startlinecolor\":\"#2a3f5f\"},\"type\":\"carpet\"}],\"table\":[{\"cells\":{\"fill\":{\"color\":\"#EBF0F8\"},\"line\":{\"color\":\"white\"}},\"header\":{\"fill\":{\"color\":\"#C8D4E3\"},\"line\":{\"color\":\"white\"}},\"type\":\"table\"}],\"barpolar\":[{\"marker\":{\"line\":{\"color\":\"#E5ECF6\",\"width\":0.5},\"pattern\":{\"fillmode\":\"overlay\",\"size\":10,\"solidity\":0.2}},\"type\":\"barpolar\"}],\"pie\":[{\"automargin\":true,\"type\":\"pie\"}]},\"layout\":{\"autotypenumbers\":\"strict\",\"colorway\":[\"#636efa\",\"#EF553B\",\"#00cc96\",\"#ab63fa\",\"#FFA15A\",\"#19d3f3\",\"#FF6692\",\"#B6E880\",\"#FF97FF\",\"#FECB52\"],\"font\":{\"color\":\"#2a3f5f\"},\"hovermode\":\"closest\",\"hoverlabel\":{\"align\":\"left\"},\"paper_bgcolor\":\"white\",\"plot_bgcolor\":\"#E5ECF6\",\"polar\":{\"bgcolor\":\"#E5ECF6\",\"angularaxis\":{\"gridcolor\":\"white\",\"linecolor\":\"white\",\"ticks\":\"\"},\"radialaxis\":{\"gridcolor\":\"white\",\"linecolor\":\"white\",\"ticks\":\"\"}},\"ternary\":{\"bgcolor\":\"#E5ECF6\",\"aaxis\":{\"gridcolor\":\"white\",\"linecolor\":\"white\",\"ticks\":\"\"},\"baxis\":{\"gridcolor\":\"white\",\"linecolor\":\"white\",\"ticks\":\"\"},\"caxis\":{\"gridcolor\":\"white\",\"linecolor\":\"white\",\"ticks\":\"\"}},\"coloraxis\":{\"colorbar\":{\"outlinewidth\":0,\"ticks\":\"\"}},\"colorscale\":{\"sequential\":[[0.0,\"#0d0887\"],[0.1111111111111111,\"#46039f\"],[0.2222222222222222,\"#7201a8\"],[0.3333333333333333,\"#9c179e\"],[0.4444444444444444,\"#bd3786\"],[0.5555555555555556,\"#d8576b\"],[0.6666666666666666,\"#ed7953\"],[0.7777777777777778,\"#fb9f3a\"],[0.8888888888888888,\"#fdca26\"],[1.0,\"#f0f921\"]],\"sequentialminus\":[[0.0,\"#0d0887\"],[0.1111111111111111,\"#46039f\"],[0.2222222222222222,\"#7201a8\"],[0.3333333333333333,\"#9c179e\"],[0.4444444444444444,\"#bd3786\"],[0.5555555555555556,\"#d8576b\"],[0.6666666666666666,\"#ed7953\"],[0.7777777777777778,\"#fb9f3a\"],[0.8888888888888888,\"#fdca26\"],[1.0,\"#f0f921\"]],\"diverging\":[[0,\"#8e0152\"],[0.1,\"#c51b7d\"],[0.2,\"#de77ae\"],[0.3,\"#f1b6da\"],[0.4,\"#fde0ef\"],[0.5,\"#f7f7f7\"],[0.6,\"#e6f5d0\"],[0.7,\"#b8e186\"],[0.8,\"#7fbc41\"],[0.9,\"#4d9221\"],[1,\"#276419\"]]},\"xaxis\":{\"gridcolor\":\"white\",\"linecolor\":\"white\",\"ticks\":\"\",\"title\":{\"standoff\":15},\"zerolinecolor\":\"white\",\"automargin\":true,\"zerolinewidth\":2},\"yaxis\":{\"gridcolor\":\"white\",\"linecolor\":\"white\",\"ticks\":\"\",\"title\":{\"standoff\":15},\"zerolinecolor\":\"white\",\"automargin\":true,\"zerolinewidth\":2},\"scene\":{\"xaxis\":{\"backgroundcolor\":\"#E5ECF6\",\"gridcolor\":\"white\",\"linecolor\":\"white\",\"showbackground\":true,\"ticks\":\"\",\"zerolinecolor\":\"white\",\"gridwidth\":2},\"yaxis\":{\"backgroundcolor\":\"#E5ECF6\",\"gridcolor\":\"white\",\"linecolor\":\"white\",\"showbackground\":true,\"ticks\":\"\",\"zerolinecolor\":\"white\",\"gridwidth\":2},\"zaxis\":{\"backgroundcolor\":\"#E5ECF6\",\"gridcolor\":\"white\",\"linecolor\":\"white\",\"showbackground\":true,\"ticks\":\"\",\"zerolinecolor\":\"white\",\"gridwidth\":2}},\"shapedefaults\":{\"line\":{\"color\":\"#2a3f5f\"}},\"annotationdefaults\":{\"arrowcolor\":\"#2a3f5f\",\"arrowhead\":0,\"arrowwidth\":1},\"geo\":{\"bgcolor\":\"white\",\"landcolor\":\"#E5ECF6\",\"subunitcolor\":\"white\",\"showland\":true,\"showlakes\":true,\"lakecolor\":\"white\"},\"title\":{\"x\":0.05},\"mapbox\":{\"style\":\"light\"}}},\"xaxis\":{\"title\":{\"text\":\"Birth\"},\"side\":\"bottom\",\"type\":\"linear\",\"range\":[-8.65001708984375,441.15087158203124],\"autorange\":false,\"ticks\":\"outside\",\"showline\":true,\"zeroline\":true,\"linewidth\":1,\"linecolor\":\"black\",\"mirror\":false,\"showexponent\":\"all\",\"exponentformat\":\"e\"},\"yaxis\":{\"title\":{\"text\":\"Death\"},\"side\":\"left\",\"type\":\"linear\",\"range\":[-8.65001708984375,441.15087158203124],\"autorange\":false,\"scaleanchor\":\"x\",\"scaleratio\":1,\"ticks\":\"outside\",\"showline\":true,\"zeroline\":true,\"linewidth\":1,\"linecolor\":\"black\",\"mirror\":false,\"showexponent\":\"all\",\"exponentformat\":\"e\"},\"width\":500,\"height\":500,\"plot_bgcolor\":\"white\"},                        {\"responsive\": true}                    ).then(function(){\n",
       "                            \n",
       "var gd = document.getElementById('182b0f02-9520-4684-a168-281b9eee990f');\n",
       "var x = new MutationObserver(function (mutations, observer) {{\n",
       "        var display = window.getComputedStyle(gd).display;\n",
       "        if (!display || display === 'none') {{\n",
       "            console.log([gd, 'removed!']);\n",
       "            Plotly.purge(gd);\n",
       "            observer.disconnect();\n",
       "        }}\n",
       "}});\n",
       "\n",
       "// Listen for the removal of the full notebook cells\n",
       "var notebookContainer = gd.closest('#notebook-container');\n",
       "if (notebookContainer) {{\n",
       "    x.observe(notebookContainer, {childList: true});\n",
       "}}\n",
       "\n",
       "// Listen for the clearing of the current output cell\n",
       "var outputEl = gd.closest('.output');\n",
       "if (outputEl) {{\n",
       "    x.observe(outputEl, {childList: true});\n",
       "}}\n",
       "\n",
       "                        })                };                });            </script>        </div>"
      ]
     },
     "metadata": {},
     "output_type": "display_data"
    },
    {
     "data": {
      "text/plain": [
       "array([[[  0.        ,   6.63324976,   0.        ],\n",
       "        [  0.        ,   7.21110249,   0.        ],\n",
       "        [  0.        ,   7.74596691,   0.        ],\n",
       "        [  0.        ,   8.        ,   0.        ],\n",
       "        [  0.        ,   8.24621105,   0.        ],\n",
       "        [  0.        ,   8.48528099,   0.        ],\n",
       "        [  0.        ,   9.1651516 ,   0.        ],\n",
       "        [  0.        ,   9.79795933,   0.        ],\n",
       "        [  0.        ,  10.        ,   0.        ],\n",
       "        [  0.        ,  10.39230442,   0.        ],\n",
       "        [  0.        ,  10.95445156,   0.        ],\n",
       "        [  0.        ,  11.13552856,   0.        ],\n",
       "        [  0.        ,  11.83216   ,   0.        ],\n",
       "        [  0.        ,  12.        ,   0.        ],\n",
       "        [  0.        ,  12.48999596,   0.        ],\n",
       "        [  0.        ,  12.64911079,   0.        ],\n",
       "        [  0.        ,  12.64911079,   0.        ],\n",
       "        [  0.        ,  14.        ,   0.        ],\n",
       "        [  0.        ,  14.28285694,   0.        ],\n",
       "        [  0.        ,  14.42220497,   0.        ],\n",
       "        [  0.        ,  14.42220497,   0.        ],\n",
       "        [  0.        ,  14.56021976,   0.        ],\n",
       "        [  0.        ,  14.69693851,   0.        ],\n",
       "        [  0.        ,  14.69693851,   0.        ],\n",
       "        [  0.        ,  14.69693851,   0.        ],\n",
       "        [  0.        ,  14.69693851,   0.        ],\n",
       "        [  0.        ,  14.69693851,   0.        ],\n",
       "        [  0.        ,  14.69693851,   0.        ],\n",
       "        [  0.        ,  14.69693851,   0.        ],\n",
       "        [  0.        ,  14.69693851,   0.        ],\n",
       "        [  0.        ,  14.69693851,   0.        ],\n",
       "        [  0.        ,  14.69693851,   0.        ],\n",
       "        [  0.        ,  14.69693851,   0.        ],\n",
       "        [  0.        ,  14.69693851,   0.        ],\n",
       "        [  0.        ,  14.69693851,   0.        ],\n",
       "        [  0.        ,  14.69693851,   0.        ],\n",
       "        [  0.        ,  14.69693851,   0.        ],\n",
       "        [  0.        ,  14.69693851,   0.        ],\n",
       "        [  0.        ,  14.69693851,   0.        ],\n",
       "        [  0.        ,  14.69693851,   0.        ],\n",
       "        [  0.        ,  14.69693851,   0.        ],\n",
       "        [  0.        ,  14.69693851,   0.        ],\n",
       "        [  0.        ,  14.69693851,   0.        ],\n",
       "        [  0.        ,  14.69693851,   0.        ],\n",
       "        [  0.        ,  14.69693851,   0.        ],\n",
       "        [  0.        ,  14.69693851,   0.        ],\n",
       "        [  0.        ,  14.69693851,   0.        ],\n",
       "        [  0.        ,  14.69693851,   0.        ],\n",
       "        [  0.        ,  14.69693851,   0.        ],\n",
       "        [  0.        ,  14.69693851,   0.        ],\n",
       "        [  0.        ,  14.69693851,   0.        ],\n",
       "        [  0.        ,  14.69693851,   0.        ],\n",
       "        [  0.        ,  14.69693851,   0.        ],\n",
       "        [  0.        ,  14.69693851,   0.        ],\n",
       "        [  0.        ,  14.69693851,   0.        ],\n",
       "        [  0.        ,  14.69693851,   0.        ],\n",
       "        [  0.        ,  14.69693851,   0.        ],\n",
       "        [  0.        ,  14.69693851,   0.        ],\n",
       "        [  0.        ,  14.69693851,   0.        ],\n",
       "        [  0.        ,  14.69693851,   0.        ],\n",
       "        [  0.        ,  14.69693851,   0.        ],\n",
       "        [  0.        ,  14.69693851,   0.        ],\n",
       "        [  0.        ,  14.69693851,   0.        ],\n",
       "        [  0.        ,  14.69693851,   0.        ],\n",
       "        [  0.        ,  14.69693851,   0.        ],\n",
       "        [  0.        ,  14.69693851,   0.        ],\n",
       "        [  0.        ,  14.69693851,   0.        ],\n",
       "        [  0.        ,  14.69693851,   0.        ],\n",
       "        [  0.        ,  14.69693851,   0.        ],\n",
       "        [  0.        ,  14.69693851,   0.        ],\n",
       "        [  0.        ,  14.69693851,   0.        ],\n",
       "        [  0.        ,  14.69693851,   0.        ],\n",
       "        [  0.        ,  14.69693851,   0.        ],\n",
       "        [  0.        ,  15.49193382,   0.        ],\n",
       "        [  0.        ,  15.62049961,   0.        ],\n",
       "        [  0.        ,  15.7480154 ,   0.        ],\n",
       "        [  0.        ,  15.8745079 ,   0.        ],\n",
       "        [  0.        ,  16.        ,   0.        ],\n",
       "        [  0.        ,  16.24807739,   0.        ],\n",
       "        [  0.        ,  16.4924221 ,   0.        ],\n",
       "        [  0.        ,  16.73320007,   0.        ],\n",
       "        [  0.        ,  17.43559647,   0.        ],\n",
       "        [  0.        ,  17.66352081,   0.        ],\n",
       "        [  0.        ,  17.88854408,   0.        ],\n",
       "        [  0.        ,  18.11077118,   0.        ],\n",
       "        [  0.        ,  18.33030319,   0.        ],\n",
       "        [  0.        ,  18.43908882,   0.        ],\n",
       "        [  0.        ,  19.28730202,   0.        ],\n",
       "        [  0.        ,  19.39072037,   0.        ],\n",
       "        [  0.        ,  19.39072037,   0.        ],\n",
       "        [  0.        ,  19.39072037,   0.        ],\n",
       "        [  0.        ,  19.39072037,   0.        ],\n",
       "        [  0.        ,  19.39072037,   0.        ],\n",
       "        [  0.        ,  19.79899025,   0.        ],\n",
       "        [  0.        ,  20.19900894,   0.        ],\n",
       "        [  0.        ,  20.97617722,   0.        ],\n",
       "        [  0.        ,  21.1660099 ,   0.        ],\n",
       "        [  0.        ,  21.35415649,   0.        ],\n",
       "        [  0.        ,  21.90890312,   0.        ],\n",
       "        [  0.        ,  22.95648003,   0.        ],\n",
       "        [  0.        ,  23.15167427,   0.        ],\n",
       "        [  0.        ,  23.4946804 ,   0.        ],\n",
       "        [  0.        ,  23.74868393,   0.        ],\n",
       "        [  0.        ,  24.24871063,   0.        ],\n",
       "        [  0.        ,  24.33105087,   0.        ],\n",
       "        [  0.        ,  24.95996857,   0.        ],\n",
       "        [  0.        ,  26.98147583,   0.        ],\n",
       "        [  0.        ,  28.35489464,   0.        ],\n",
       "        [  0.        ,  35.21363449,   0.        ],\n",
       "        [  0.        ,  44.40720749,   0.        ],\n",
       "        [  0.        ,  46.56178665,   0.        ],\n",
       "        [  0.        ,  58.24087906,   0.        ],\n",
       "        [  0.        ,  62.67375946,   0.        ],\n",
       "        [  0.        , 432.50085449,   0.        ],\n",
       "        [ 37.93415451,  38.82009888,   1.        ],\n",
       "        [ 37.41657257,  38.41874695,   1.        ],\n",
       "        [ 34.75629425,  35.83294678,   1.        ],\n",
       "        [ 31.74901581,  31.87475395,   1.        ],\n",
       "        [ 30.33150101,  30.4630928 ,   1.        ],\n",
       "        [ 29.66479301,  29.79932976,   1.        ],\n",
       "        [ 28.63564301,  28.70540047,   1.        ],\n",
       "        [ 28.56571388,  33.82307053,   1.        ],\n",
       "        [ 26.22975349,  27.12932014,   1.        ],\n",
       "        [ 26.15339279,  30.65942001,   1.        ],\n",
       "        [ 26.05762863,  31.74901581,   1.        ],\n",
       "        [ 25.76819801,  28.1424942 ,   1.        ],\n",
       "        [ 25.3771553 ,  32.24903107,   1.        ],\n",
       "        [ 24.33105087,  26.07680893,   1.        ],\n",
       "        [ 23.91652107,  24.49489784,   1.        ],\n",
       "        [ 23.15167427,  24.65765572,   1.        ],\n",
       "        [ 22.9782505 ,  24.97999191,   1.        ],\n",
       "        [ 22.80350876,  24.16609192,   1.        ],\n",
       "        [ 22.09072113,  24.65765572,   1.        ],\n",
       "        [ 21.90890312,  26.90724754,   1.        ],\n",
       "        [ 21.90890312,  22.9782505 ,   1.        ],\n",
       "        [ 21.81742477,  22.44994354,   1.        ],\n",
       "        [ 21.72556114,  25.45584488,   1.        ],\n",
       "        [ 21.54065895,  24.81934738,   1.        ],\n",
       "        [ 21.35415649,  24.5764122 ,   1.        ],\n",
       "        [ 21.35415649,  21.90890312,   1.        ],\n",
       "        [ 21.1660099 ,  21.63330841,   1.        ],\n",
       "        [ 20.97617722,  23.15167427,   1.        ],\n",
       "        [ 20.97617722,  22.80350876,   1.        ],\n",
       "        [ 20.97617722,  22.80350876,   1.        ],\n",
       "        [ 20.88061333,  21.54065895,   1.        ],\n",
       "        [ 20.88061333,  21.1660099 ,   1.        ],\n",
       "        [ 20.88061333,  20.97617722,   1.        ],\n",
       "        [ 20.78460884,  23.74868393,   1.        ],\n",
       "        [ 20.09975052,  22.80350876,   1.        ],\n",
       "        [ 20.        ,  20.78460884,   1.        ],\n",
       "        [ 19.79899025,  20.59126091,   1.        ],\n",
       "        [ 19.79899025,  20.39607811,   1.        ],\n",
       "        [ 19.59591866,  20.59126091,   1.        ],\n",
       "        [ 19.59591866,  20.19900894,   1.        ],\n",
       "        [ 19.39072037,  22.9782505 ,   1.        ],\n",
       "        [ 19.28730202,  24.33105087,   1.        ],\n",
       "        [ 19.18332672,  19.28730202,   1.        ],\n",
       "        [ 18.97366524,  23.66431999,   1.        ],\n",
       "        [ 18.33030319,  18.97366524,   1.        ],\n",
       "        [ 17.88854408,  19.59591866,   1.        ],\n",
       "        [ 17.66352081,  20.59126091,   1.        ],\n",
       "        [ 17.43559647,  22.9782505 ,   1.        ],\n",
       "        [ 16.4924221 ,  18.76166344,   1.        ],\n",
       "        [ 16.        ,  18.5472374 ,   1.        ],\n",
       "        [ 14.69693851,  20.68815994,   1.        ],\n",
       "        [ 14.69693851,  20.59126091,   1.        ],\n",
       "        [ 14.69693851,  19.59591866,   1.        ],\n",
       "        [ 14.69693851,  18.5472374 ,   1.        ],\n",
       "        [ 14.69693851,  17.66352081,   1.        ]]])"
      ]
     },
     "execution_count": 48,
     "metadata": {},
     "output_type": "execute_result"
    }
   ],
   "source": [
    "VR.fit_transform_plot(matriz_pseudo[None,:,:])"
   ]
  },
  {
   "cell_type": "code",
   "execution_count": null,
   "id": "256423f0",
   "metadata": {},
   "outputs": [],
   "source": [
    "VR = VietorisRipsPersistence(homology_dimensions=[0, 1, 2])  # Parameter explained in the text\n",
    "diagrams = VR.fit_transform(point_clouds)\n",
    "diagrams.shape"
   ]
  },
  {
   "cell_type": "code",
   "execution_count": 19,
   "id": "c3a7bda7",
   "metadata": {},
   "outputs": [
    {
     "data": {
      "text/plain": [
       "array([[[ 0,  8, 10, ...,  9,  9,  4],\n",
       "        [ 8,  0, 10, ...,  7,  7,  6],\n",
       "        [10, 10,  0, ...,  7, 11, 10],\n",
       "        ...,\n",
       "        [ 9,  7,  7, ...,  0,  8,  7],\n",
       "        [ 9,  7, 11, ...,  8,  0,  5],\n",
       "        [ 4,  6, 10, ...,  7,  5,  0]]])"
      ]
     },
     "execution_count": 19,
     "metadata": {},
     "output_type": "execute_result"
    }
   ],
   "source": [
    "matriz_pseudo[None,:,:]"
   ]
  },
  {
   "cell_type": "code",
   "execution_count": 22,
   "id": "f869b6ae",
   "metadata": {},
   "outputs": [
    {
     "data": {
      "text/plain": [
       "array([[ 0,  8, 10, ...,  9,  9,  4],\n",
       "       [ 8,  0, 10, ...,  7,  7,  6],\n",
       "       [10, 10,  0, ...,  7, 11, 10],\n",
       "       ...,\n",
       "       [ 9,  7,  7, ...,  0,  8,  7],\n",
       "       [ 9,  7, 11, ...,  8,  0,  5],\n",
       "       [ 4,  6, 10, ...,  7,  5,  0]])"
      ]
     },
     "execution_count": 22,
     "metadata": {},
     "output_type": "execute_result"
    }
   ],
   "source": [
    "matriz_pseudo"
   ]
  },
  {
   "cell_type": "code",
   "execution_count": 71,
   "id": "7b2a5a64",
   "metadata": {},
   "outputs": [],
   "source": [
    "a=[1,2,3,0]"
   ]
  },
  {
   "cell_type": "code",
   "execution_count": 72,
   "id": "d5912d77",
   "metadata": {},
   "outputs": [],
   "source": [
    "a.sort()"
   ]
  },
  {
   "cell_type": "code",
   "execution_count": 73,
   "id": "4d4bcddc",
   "metadata": {},
   "outputs": [
    {
     "data": {
      "text/plain": [
       "[0, 1, 2, 3]"
      ]
     },
     "execution_count": 73,
     "metadata": {},
     "output_type": "execute_result"
    }
   ],
   "source": [
    "a"
   ]
  },
  {
   "cell_type": "code",
   "execution_count": null,
   "id": "98bb9721",
   "metadata": {},
   "outputs": [],
   "source": []
  }
 ],
 "metadata": {
  "kernelspec": {
   "display_name": "Python 3 (ipykernel)",
   "language": "python",
   "name": "python3"
  },
  "language_info": {
   "codemirror_mode": {
    "name": "ipython",
    "version": 3
   },
   "file_extension": ".py",
   "mimetype": "text/x-python",
   "name": "python",
   "nbconvert_exporter": "python",
   "pygments_lexer": "ipython3",
   "version": "3.10.10"
  }
 },
 "nbformat": 4,
 "nbformat_minor": 5
}
