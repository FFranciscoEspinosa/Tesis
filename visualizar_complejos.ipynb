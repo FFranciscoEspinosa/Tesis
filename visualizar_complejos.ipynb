{
 "cells": [
  {
   "cell_type": "code",
   "execution_count": 1,
   "id": "1efe622f",
   "metadata": {},
   "outputs": [],
   "source": [
    "import pandas as pd\n",
    "import numpy as np\n",
    "from scipy.spatial.distance import hamming\n",
    "import gudhi as gd\n",
    "import seaborn as sns"
   ]
  },
  {
   "cell_type": "markdown",
   "id": "84be2c16",
   "metadata": {},
   "source": [
    "<h3>Se cargan los datos</h3>"
   ]
  },
  {
   "cell_type": "code",
   "execution_count": 2,
   "id": "3d3bdc4c",
   "metadata": {},
   "outputs": [],
   "source": [
    "# Let's assume that \"population\" is a numpy ndarray with your genomes as rows.\n",
    "def calculate_hamming_matrix(population):\n",
    "    # Number of genomes\n",
    "    num_genomes = population.shape[0]\n",
    "    # Create an empty matrix for Hamming distances\n",
    "    hamming_matrix = np.zeros((num_genomes, num_genomes), dtype=int)\n",
    "   # Calculate the Hamming distance between each pair of genomes\n",
    "    for i in range(num_genomes):\n",
    "        for j in range(i+1, num_genomes):  # j=i+1 to avoid calculating the same distance twice\n",
    "            # The Hamming distance is multiplied by the number of genes to convert it into an absolute distance\n",
    "            distance = hamming(population[i], population[j]) * len(population[i])\n",
    "            hamming_matrix[i, j] = distance\n",
    "            hamming_matrix[j, i] = distance  # The matrix is symmetric\n",
    "    \n",
    "    return hamming_matrix"
   ]
  },
  {
   "cell_type": "code",
   "execution_count": 3,
   "id": "3e242ef2",
   "metadata": {},
   "outputs": [],
   "source": [
    "def create_complex(distance_matrix2):\n",
    "    # Create the Rips simplicial complex from the distance matrix\n",
    "    rips_complex = gd.RipsComplex(distance_matrix=distance_matrix2)\n",
    "    # Create the simplex tree from the Rips complex with a maximum dimension of 3\n",
    "    simplex_tree = rips_complex.create_simplex_tree(max_dimension=2)\n",
    "    # Compute the persistence of the simplicial complex\n",
    "    persistence = simplex_tree.persistence()\n",
    "    # Return the persistence diagram or barcode\n",
    "    return persistence, simplex_tree\n"
   ]
  },
  {
   "cell_type": "code",
   "execution_count": 4,
   "id": "23f61b2d",
   "metadata": {},
   "outputs": [],
   "source": [
    "import matplotlib.pyplot as plt\n",
    "from scipy.cluster.hierarchy import dendrogram, linkage\n",
    "import gudhi as gd\n",
    "from scipy.spatial.distance import hamming\n",
    "import plotly.graph_objs as go\n",
    "import networkx as nx\n",
    "import plotly.graph_objects as go\n",
    "import plotly.io as pio"
   ]
  },
  {
   "cell_type": "code",
   "execution_count": 5,
   "id": "f45bc7ad",
   "metadata": {},
   "outputs": [],
   "source": [
    "def visualize_simplicial_complex(simplex_tree, filtration_value, vertex_names=None, save_filename=None, plot_size=1, dpi=600, pos=None):\n",
    "    G = nx.Graph()\n",
    "    triangles = []  # List to store triangles (3-nodes simplices)\n",
    "    \n",
    "    for simplex, filt in simplex_tree.get_filtration():\n",
    "        if filt <= filtration_value:\n",
    "            if len(simplex) == 2:\n",
    "                G.add_edge(simplex[0], simplex[1])\n",
    "            elif len(simplex) == 1:\n",
    "                G.add_node(simplex[0])\n",
    "            elif len(simplex) == 3:\n",
    "                triangles.append(simplex)\n",
    "    \n",
    "    # Calculate node positions if not provided\n",
    "    if pos is None:\n",
    "        pos = nx.spring_layout(G)\n",
    "    \n",
    "    # Node trace\n",
    "    x_values, y_values = zip(*[pos[node] for node in G.nodes()])\n",
    "    node_labels = [vertex_names[node] if vertex_names else str(node) for node in G.nodes()]\n",
    "    node_trace = go.Scatter(x=x_values, y=y_values, mode='markers+text', hoverinfo='text', marker=dict(size=14), text=node_labels, textposition='top center', textfont=dict(size=14))\n",
    "    \n",
    "    # Edge traces\n",
    "    edge_traces = []\n",
    "    for edge in G.edges():\n",
    "        x0, y0 = pos[edge[0]]\n",
    "        x1, y1 = pos[edge[1]]\n",
    "        edge_trace = go.Scatter(x=[x0, x1, None], y=[y0, y1, None], mode='lines', line=dict(width=3, color='rgba(0,0,0,0.5)'))\n",
    "        edge_traces.append(edge_trace)\n",
    "    \n",
    "    # Triangle traces\n",
    "    triangle_traces = []\n",
    "    for triangle in triangles:\n",
    "        x0, y0 = pos[triangle[0]]\n",
    "        x1, y1 = pos[triangle[1]]\n",
    "        x2, y2 = pos[triangle[2]]\n",
    "        triangle_trace = go.Scatter(x=[x0, x1, x2, x0, None], y=[y0, y1, y2, y0, None], fill='toself', mode='lines+markers', line=dict(width=2), fillcolor='rgba(255,0,0,0.2)')\n",
    "        triangle_traces.append(triangle_trace)\n",
    "    \n",
    "    # Configure the layout of the plot\n",
    "    layout = go.Layout(showlegend=False, hovermode='closest', xaxis=dict(showgrid=False, zeroline=False, tickfont=dict(size=16, family='Arial, sans-serif')), yaxis=dict(showgrid=False, zeroline=False, tickfont=dict(size=16, family='Arial, sans-serif')))\n",
    "    \n",
    "    fig = go.Figure(data=edge_traces + triangle_traces + [node_trace], layout=layout)\n",
    "    \n",
    "    # Set the figure size\n",
    "    fig.update_layout(width=plot_size * dpi, height=plot_size * dpi)\n",
    "    \n",
    "    # Save the figure if a filename is provided\n",
    "    if save_filename:\n",
    "        pio.write_image(fig, save_filename, width=plot_size * dpi, height=plot_size * dpi, scale=1)\n",
    "    \n",
    "    # Show the figure\n",
    "    fig.show()\n",
    "\n",
    "    \n",
    "    \n",
    "\n",
    "    return G"
   ]
  },
  {
   "cell_type": "markdown",
   "id": "e73e59b0-9c00-456b-8391-6716a27b44a6",
   "metadata": {},
   "source": [
    "<h1> EJEMPLO</h1>"
   ]
  },
  {
   "cell_type": "code",
   "execution_count": 6,
   "id": "a781ba3d",
   "metadata": {},
   "outputs": [],
   "source": [
    "link=\"https://raw.githubusercontent.com/shadayguerrero/TDA_Horizontal_Genes_Transfer/main/data/BVBRC_protein_families_all_final.csv\"\n",
    "short=pd.read_csv(link,index_col=0)\n",
    "short\n",
    "# Re-index for the Strain\n",
    "df_reindexed = short.set_index('Strain', inplace=False)"
   ]
  },
  {
   "cell_type": "code",
   "execution_count": 7,
   "id": "ff38a193-b33b-45e4-a810-6d2b3ec4e3e1",
   "metadata": {},
   "outputs": [
    {
     "data": {
      "text/plain": [
       "123"
      ]
     },
     "execution_count": 7,
     "metadata": {},
     "output_type": "execute_result"
    }
   ],
   "source": [
    "names_to_search = [\n",
    "    \"PGF_04886779\", \"PGF_04370656\", \"PGF_07342234\", \"PGF_03299821\", \"PGF_05419346\",\n",
    "    \"PGF_03084064\", \"PGF_04563108\", \"PGF_00414310\", \"PGF_00022105\", \"PGF_05419346\",\n",
    "    \"PGF_06607596\", \"PGF_00047661\", \"PGF_00216543\", \"PGF_08225224\", \"PGF_08225224\",\n",
    "    \"PGF_00110526\", \"PGF_00355535\", \"PGF_01650562\", \"PGF_04243824\", \"PGF_02333019\",\n",
    "    \"PGF_08225224\", \"PGF_03145724\", \"PGF_06495825\", \"PGF_00452501\", \"PGF_05493974\",\n",
    "    \"PGF_00020282\", \"PGF_06958254\", \"PGF_09224510\", \"PGF_07563198\", \"PGF_01000105\",\n",
    "    \"PGF_01031760\", \"PGF_01569843\", \"PGF_01077017\", \"PGF_01000105\", \"PGF_02752571\",\n",
    "    \"PGF_00410347\", \"PGF_01958521\", \"PGF_08225224\", \"PGF_07207755\", \"PGF_00010376\",\n",
    "    \"PGF_03543440\", \"PGF_05156704\", \"PGF_01000105\", \"PGF_01000105\", \"PGF_02932429\",\n",
    "    \"PGF_06674747\", \"PGF_07498135\", \"PGF_10469466\", \"PGF_08225224\", \"PGF_01958554\",\n",
    "    \"PGF_05971953\", \"PGF_00904239\", \"PGF_00424315\", \"PGF_08238808\", \"PGF_08225224\",\n",
    "    \"PGF_08238808\", \"PGF_08225224\", \"PGF_00013862\", \"PGF_00013864\", \"PGF_10387734\",\n",
    "    \"PGF_09290469\", \"PGF_08225224\", \"PGF_00013946\", \"PGF_01949998\", \"PGF_00013916\",\n",
    "    \"PGF_08972330\", \"PGF_08225224\", \"PGF_00013925\", \"PGF_00013923\", \"PGF_03830470\",\n",
    "    \"PGF_00326234\", \"PGF_00163448\", \"PGF_00013943\", \"PGF_02913871\", \"PGF_00013942\",\n",
    "    \"PGF_00615364\", \"PGF_00335754\", \"PGF_07717077\", \"PGF_00013945\", \"PGF_00013871\",\n",
    "    \"PGF_03332290\", \"PGF_08225224\", \"PGF_06611914\", \"PGF_00089171\", \"PGF_06560088\",\n",
    "    \"PGF_00106691\", \"PGF_04419840\", \"PGF_00467825\", \"PGF_00013893\", \"PGF_00013875\",\n",
    "    \"PGF_01246464\", \"PGF_00013866\", \"PGF_08225224\", \"PGF_00859415\", \"PGF_00013863\",\n",
    "    \"PGF_00411196\", \"PGF_00326542\", \"PGF_00064344\", \"PGF_07396822\", \"PGF_07978541\",\n",
    "    \"PGF_01595863\", \"PGF_06275535\", \"PGF_06275535\", \"PGF_01950491\", \"PGF_01958592\",\n",
    "    \"PGF_01009331\", \"PGF_00038929\", \"PGF_00038932\", \"PGF_05682743\", \"PGF_00064362\",\n",
    "    \"PGF_02142873\", \"PGF_04180579\", \"PGF_00072490\", \"PGF_07517035\", \"PGF_00324174\",\n",
    "    \"PGF_00106708\", \"PGF_10494469\", \"PGF_08970263\", \"PGF_08225224\", \"PGF_00060224\", \n",
    "    \"PGF_00415171\", \"PGF_07518314\", \"PGF_00424726\"]\n",
    "selected_columns = [col for col in df_reindexed.columns if any(word in col for word in names_to_search)]\n",
    "column_index = [df_reindexed.columns.get_loc(col) for col in selected_columns]\n",
    "\n",
    "# Create a new DataFrame with only the selected columns\n",
    "df_filtered = df_reindexed[selected_columns]\n",
    "\n",
    "len(names_to_search)"
   ]
  },
  {
   "cell_type": "code",
   "execution_count": 8,
   "id": "1ee77bdc-4fc2-4187-9d10-b3909e3f8327",
   "metadata": {},
   "outputs": [],
   "source": [
    "strain_names=list(df_reindexed.index)"
   ]
  },
  {
   "cell_type": "code",
   "execution_count": 9,
   "id": "806d80f1-cba1-4dc5-871e-15907ab38213",
   "metadata": {},
   "outputs": [
    {
     "data": {
      "text/plain": [
       "array([[0, 1, 1, ..., 0, 2, 0],\n",
       "       [1, 1, 1, ..., 0, 3, 0],\n",
       "       [0, 1, 1, ..., 0, 1, 0],\n",
       "       ...,\n",
       "       [0, 1, 1, ..., 0, 0, 0],\n",
       "       [0, 1, 1, ..., 0, 2, 2],\n",
       "       [0, 1, 1, ..., 0, 0, 0]])"
      ]
     },
     "execution_count": 9,
     "metadata": {},
     "output_type": "execute_result"
    }
   ],
   "source": [
    "#PatientA_B=all.iloc[:,4438:4520].values\n",
    "PatientA_B=df_reindexed.iloc[:,4020:4520].values\n",
    "PatientA_B"
   ]
  },
  {
   "cell_type": "code",
   "execution_count": 10,
   "id": "a8654dd6-300f-4dc7-8f2c-0705bcd2e0eb",
   "metadata": {},
   "outputs": [
    {
     "data": {
      "text/plain": [
       "[(1, (118.0, 145.0)),\n",
       " (1, (88.0, 112.0)),\n",
       " (0, (0.0, inf)),\n",
       " (0, (0.0, 108.0)),\n",
       " (0, (0.0, 85.0)),\n",
       " (0, (0.0, 72.0)),\n",
       " (0, (0.0, 61.0)),\n",
       " (0, (0.0, 53.0)),\n",
       " (0, (0.0, 43.0)),\n",
       " (0, (0.0, 31.0)),\n",
       " (0, (0.0, 30.0)),\n",
       " (0, (0.0, 18.0)),\n",
       " (0, (0.0, 18.0)),\n",
       " (0, (0.0, 18.0))]"
      ]
     },
     "execution_count": 10,
     "metadata": {},
     "output_type": "execute_result"
    }
   ],
   "source": [
    "hamming_matrix_3 = calculate_hamming_matrix(PatientA_B)\n",
    "persistence3, simplex_tree3 = create_complex(hamming_matrix_3)\n",
    "persistence3"
   ]
  },
  {
   "cell_type": "code",
   "execution_count": 11,
   "id": "39a80661-dbff-44de-a394-e5cd7174c7f5",
   "metadata": {},
   "outputs": [
    {
     "name": "stderr",
     "output_type": "stream",
     "text": [
      "usetex mode requires TeX.\n"
     ]
    },
    {
     "data": {
      "text/plain": [
       "<AxesSubplot:title={'center':'Persistence barcode'}>"
      ]
     },
     "execution_count": 11,
     "metadata": {},
     "output_type": "execute_result"
    },
    {
     "data": {
      "text/plain": [
       "<Figure size 100x100 with 0 Axes>"
      ]
     },
     "metadata": {},
     "output_type": "display_data"
    },
    {
     "data": {
      "image/png": "[encoded data removed]",
      "text/plain": [
       "<Figure size 640x480 with 1 Axes>"
      ]
     },
     "metadata": {},
     "output_type": "display_data"
    }
   ],
   "source": [
    "# Adjusting the size of the plot\n",
    "plt.figure(figsize=(1, 1))  # You can adjust these numbers as per your needs\n",
    "# Adjusting the layout\n",
    "plt.tight_layout()\n",
    "gd.plot_persistence_barcode(persistence3, legend=True)\n"
   ]
  },
  {
   "cell_type": "code",
   "execution_count": 13,
   "id": "a5691869-1d65-4932-b56b-80534e1494e1",
   "metadata": {},
   "outputs": [
    {
     "data": {
      "application/vnd.plotly.v1+json": {
       "config": {
        "plotlyServerURL": "https://plot.ly"
       },
       "data": [
        {
         "line": {
          "color": "rgba(0,0,0,0.5)",
          "width": 3
         },
         "mode": "lines",
         "type": "scatter",
         "x": [
          -0.8233988448419245,
          -1,
          null
         ],
         "y": [
          -0.5198467908245304,
          -0.3869892705881588,
          null
         ]
        },
        {
         "line": {
          "color": "rgba(0,0,0,0.5)",
          "width": 3
         },
         "mode": "lines",
         "type": "scatter",
         "x": [
          -0.8233988448419245,
          -0.971575070134898,
          null
         ],
         "y": [
          -0.5198467908245304,
          -0.5660939461405502,
          null
         ]
        },
        {
         "line": {
          "color": "rgba(0,0,0,0.5)",
          "width": 3
         },
         "mode": "lines",
         "type": "scatter",
         "x": [
          -0.8233988448419245,
          -0.7533857350127501,
          null
         ],
         "y": [
          -0.5198467908245304,
          -0.7440591441150881,
          null
         ]
        },
        {
         "line": {
          "color": "rgba(0,0,0,0.5)",
          "width": 3
         },
         "mode": "lines",
         "type": "scatter",
         "x": [
          -0.971575070134898,
          -1,
          null
         ],
         "y": [
          -0.5660939461405502,
          -0.3869892705881588,
          null
         ]
        },
        {
         "line": {
          "color": "rgba(0,0,0,0.5)",
          "width": 3
         },
         "mode": "lines",
         "type": "scatter",
         "x": [
          -0.971575070134898,
          -0.9298915798831702,
          null
         ],
         "y": [
          -0.5660939461405502,
          -0.7874835527144484,
          null
         ]
        },
        {
         "line": {
          "color": "rgba(0,0,0,0.5)",
          "width": 3
         },
         "mode": "lines",
         "type": "scatter",
         "x": [
          -0.7533857350127501,
          -0.9298915798831702,
          null
         ],
         "y": [
          -0.7440591441150881,
          -0.7874835527144484,
          null
         ]
        },
        {
         "line": {
          "color": "rgba(0,0,0,0.5)",
          "width": 3
         },
         "mode": "lines",
         "type": "scatter",
         "x": [
          0.5573467448837565,
          0.612974611005679,
          null
         ],
         "y": [
          0.3410865306317212,
          0.5435565460109114,
          null
         ]
        },
        {
         "line": {
          "color": "rgba(0,0,0,0.5)",
          "width": 3
         },
         "mode": "lines",
         "type": "scatter",
         "x": [
          0.5573467448837565,
          0.679130059390005,
          null
         ],
         "y": [
          0.3410865306317212,
          0.3171713769281757,
          null
         ]
        },
        {
         "line": {
          "color": "rgba(0,0,0,0.5)",
          "width": 3
         },
         "mode": "lines",
         "type": "scatter",
         "x": [
          0.5573467448837565,
          0.5253823205020389,
          null
         ],
         "y": [
          0.3410865306317212,
          0.46444420115801793,
          null
         ]
        },
        {
         "line": {
          "color": "rgba(0,0,0,0.5)",
          "width": 3
         },
         "mode": "lines",
         "type": "scatter",
         "x": [
          0.5573467448837565,
          0.6275497833335015,
          null
         ],
         "y": [
          0.3410865306317212,
          0.4217993172857343,
          null
         ]
        },
        {
         "line": {
          "color": "rgba(0,0,0,0.5)",
          "width": 3
         },
         "mode": "lines",
         "type": "scatter",
         "x": [
          0.5573467448837565,
          0.7532881599553028,
          null
         ],
         "y": [
          0.3410865306317212,
          0.40412992640513895,
          null
         ]
        },
        {
         "line": {
          "color": "rgba(0,0,0,0.5)",
          "width": 3
         },
         "mode": "lines",
         "type": "scatter",
         "x": [
          0.5573467448837565,
          0.7225795508024588,
          null
         ],
         "y": [
          0.3410865306317212,
          0.5122848059630762,
          null
         ]
        },
        {
         "line": {
          "color": "rgba(0,0,0,0.5)",
          "width": 3
         },
         "mode": "lines",
         "type": "scatter",
         "x": [
          0.612974611005679,
          0.5253823205020389,
          null
         ],
         "y": [
          0.5435565460109114,
          0.46444420115801793,
          null
         ]
        },
        {
         "line": {
          "color": "rgba(0,0,0,0.5)",
          "width": 3
         },
         "mode": "lines",
         "type": "scatter",
         "x": [
          0.612974611005679,
          0.7532881599553028,
          null
         ],
         "y": [
          0.5435565460109114,
          0.40412992640513895,
          null
         ]
        },
        {
         "line": {
          "color": "rgba(0,0,0,0.5)",
          "width": 3
         },
         "mode": "lines",
         "type": "scatter",
         "x": [
          0.612974611005679,
          0.6275497833335015,
          null
         ],
         "y": [
          0.5435565460109114,
          0.4217993172857343,
          null
         ]
        },
        {
         "line": {
          "color": "rgba(0,0,0,0.5)",
          "width": 3
         },
         "mode": "lines",
         "type": "scatter",
         "x": [
          0.612974611005679,
          0.679130059390005,
          null
         ],
         "y": [
          0.5435565460109114,
          0.3171713769281757,
          null
         ]
        },
        {
         "line": {
          "color": "rgba(0,0,0,0.5)",
          "width": 3
         },
         "mode": "lines",
         "type": "scatter",
         "x": [
          0.612974611005679,
          0.7225795508024588,
          null
         ],
         "y": [
          0.5435565460109114,
          0.5122848059630762,
          null
         ]
        },
        {
         "line": {
          "color": "rgba(0,0,0,0.5)",
          "width": 3
         },
         "mode": "lines",
         "type": "scatter",
         "x": [
          0.6275497833335015,
          0.5253823205020389,
          null
         ],
         "y": [
          0.4217993172857343,
          0.46444420115801793,
          null
         ]
        },
        {
         "line": {
          "color": "rgba(0,0,0,0.5)",
          "width": 3
         },
         "mode": "lines",
         "type": "scatter",
         "x": [
          0.6275497833335015,
          0.7532881599553028,
          null
         ],
         "y": [
          0.4217993172857343,
          0.40412992640513895,
          null
         ]
        },
        {
         "line": {
          "color": "rgba(0,0,0,0.5)",
          "width": 3
         },
         "mode": "lines",
         "type": "scatter",
         "x": [
          0.6275497833335015,
          0.7225795508024588,
          null
         ],
         "y": [
          0.4217993172857343,
          0.5122848059630762,
          null
         ]
        },
        {
         "line": {
          "color": "rgba(0,0,0,0.5)",
          "width": 3
         },
         "mode": "lines",
         "type": "scatter",
         "x": [
          0.6275497833335015,
          0.679130059390005,
          null
         ],
         "y": [
          0.4217993172857343,
          0.3171713769281757,
          null
         ]
        },
        {
         "line": {
          "color": "rgba(0,0,0,0.5)",
          "width": 3
         },
         "mode": "lines",
         "type": "scatter",
         "x": [
          0.5253823205020389,
          0.7532881599553028,
          null
         ],
         "y": [
          0.46444420115801793,
          0.40412992640513895,
          null
         ]
        },
        {
         "line": {
          "color": "rgba(0,0,0,0.5)",
          "width": 3
         },
         "mode": "lines",
         "type": "scatter",
         "x": [
          0.5253823205020389,
          0.7225795508024588,
          null
         ],
         "y": [
          0.46444420115801793,
          0.5122848059630762,
          null
         ]
        },
        {
         "line": {
          "color": "rgba(0,0,0,0.5)",
          "width": 3
         },
         "mode": "lines",
         "type": "scatter",
         "x": [
          0.5253823205020389,
          0.679130059390005,
          null
         ],
         "y": [
          0.46444420115801793,
          0.3171713769281757,
          null
         ]
        },
        {
         "line": {
          "color": "rgba(0,0,0,0.5)",
          "width": 3
         },
         "mode": "lines",
         "type": "scatter",
         "x": [
          0.7532881599553028,
          0.7225795508024588,
          null
         ],
         "y": [
          0.40412992640513895,
          0.5122848059630762,
          null
         ]
        },
        {
         "line": {
          "color": "rgba(0,0,0,0.5)",
          "width": 3
         },
         "mode": "lines",
         "type": "scatter",
         "x": [
          0.7532881599553028,
          0.679130059390005,
          null
         ],
         "y": [
          0.40412992640513895,
          0.3171713769281757,
          null
         ]
        },
        {
         "line": {
          "color": "rgba(0,0,0,0.5)",
          "width": 3
         },
         "mode": "lines",
         "type": "scatter",
         "x": [
          0.679130059390005,
          0.7225795508024588,
          null
         ],
         "y": [
          0.3171713769281757,
          0.5122848059630762,
          null
         ]
        },
        {
         "fill": "toself",
         "fillcolor": "rgba(255,0,0,0.2)",
         "line": {
          "width": 2
         },
         "mode": "lines+markers",
         "type": "scatter",
         "x": [
          0.612974611005679,
          0.5253823205020389,
          0.7532881599553028,
          0.612974611005679,
          null
         ],
         "y": [
          0.5435565460109114,
          0.46444420115801793,
          0.40412992640513895,
          0.5435565460109114,
          null
         ]
        },
        {
         "fill": "toself",
         "fillcolor": "rgba(255,0,0,0.2)",
         "line": {
          "width": 2
         },
         "mode": "lines+markers",
         "type": "scatter",
         "x": [
          0.612974611005679,
          0.6275497833335015,
          0.5253823205020389,
          0.612974611005679,
          null
         ],
         "y": [
          0.5435565460109114,
          0.4217993172857343,
          0.46444420115801793,
          0.5435565460109114,
          null
         ]
        },
        {
         "fill": "toself",
         "fillcolor": "rgba(255,0,0,0.2)",
         "line": {
          "width": 2
         },
         "mode": "lines+markers",
         "type": "scatter",
         "x": [
          0.612974611005679,
          0.6275497833335015,
          0.7532881599553028,
          0.612974611005679,
          null
         ],
         "y": [
          0.5435565460109114,
          0.4217993172857343,
          0.40412992640513895,
          0.5435565460109114,
          null
         ]
        },
        {
         "fill": "toself",
         "fillcolor": "rgba(255,0,0,0.2)",
         "line": {
          "width": 2
         },
         "mode": "lines+markers",
         "type": "scatter",
         "x": [
          0.6275497833335015,
          0.5253823205020389,
          0.7532881599553028,
          0.6275497833335015,
          null
         ],
         "y": [
          0.4217993172857343,
          0.46444420115801793,
          0.40412992640513895,
          0.4217993172857343,
          null
         ]
        },
        {
         "fill": "toself",
         "fillcolor": "rgba(255,0,0,0.2)",
         "line": {
          "width": 2
         },
         "mode": "lines+markers",
         "type": "scatter",
         "x": [
          0.5253823205020389,
          0.7532881599553028,
          0.7225795508024588,
          0.5253823205020389,
          null
         ],
         "y": [
          0.46444420115801793,
          0.40412992640513895,
          0.5122848059630762,
          0.46444420115801793,
          null
         ]
        },
        {
         "fill": "toself",
         "fillcolor": "rgba(255,0,0,0.2)",
         "line": {
          "width": 2
         },
         "mode": "lines+markers",
         "type": "scatter",
         "x": [
          0.6275497833335015,
          0.5253823205020389,
          0.7225795508024588,
          0.6275497833335015,
          null
         ],
         "y": [
          0.4217993172857343,
          0.46444420115801793,
          0.5122848059630762,
          0.4217993172857343,
          null
         ]
        },
        {
         "fill": "toself",
         "fillcolor": "rgba(255,0,0,0.2)",
         "line": {
          "width": 2
         },
         "mode": "lines+markers",
         "type": "scatter",
         "x": [
          0.6275497833335015,
          0.7532881599553028,
          0.7225795508024588,
          0.6275497833335015,
          null
         ],
         "y": [
          0.4217993172857343,
          0.40412992640513895,
          0.5122848059630762,
          0.4217993172857343,
          null
         ]
        },
        {
         "fill": "toself",
         "fillcolor": "rgba(255,0,0,0.2)",
         "line": {
          "width": 2
         },
         "mode": "lines+markers",
         "type": "scatter",
         "x": [
          0.612974611005679,
          0.6275497833335015,
          0.679130059390005,
          0.612974611005679,
          null
         ],
         "y": [
          0.5435565460109114,
          0.4217993172857343,
          0.3171713769281757,
          0.5435565460109114,
          null
         ]
        },
        {
         "fill": "toself",
         "fillcolor": "rgba(255,0,0,0.2)",
         "line": {
          "width": 2
         },
         "mode": "lines+markers",
         "type": "scatter",
         "x": [
          0.612974611005679,
          0.6275497833335015,
          0.7225795508024588,
          0.612974611005679,
          null
         ],
         "y": [
          0.5435565460109114,
          0.4217993172857343,
          0.5122848059630762,
          0.5435565460109114,
          null
         ]
        },
        {
         "fill": "toself",
         "fillcolor": "rgba(255,0,0,0.2)",
         "line": {
          "width": 2
         },
         "mode": "lines+markers",
         "type": "scatter",
         "x": [
          0.612974611005679,
          0.5253823205020389,
          0.7225795508024588,
          0.612974611005679,
          null
         ],
         "y": [
          0.5435565460109114,
          0.46444420115801793,
          0.5122848059630762,
          0.5435565460109114,
          null
         ]
        },
        {
         "fill": "toself",
         "fillcolor": "rgba(255,0,0,0.2)",
         "line": {
          "width": 2
         },
         "mode": "lines+markers",
         "type": "scatter",
         "x": [
          0.612974611005679,
          0.7532881599553028,
          0.7225795508024588,
          0.612974611005679,
          null
         ],
         "y": [
          0.5435565460109114,
          0.40412992640513895,
          0.5122848059630762,
          0.5435565460109114,
          null
         ]
        },
        {
         "fill": "toself",
         "fillcolor": "rgba(255,0,0,0.2)",
         "line": {
          "width": 2
         },
         "mode": "lines+markers",
         "type": "scatter",
         "x": [
          0.612974611005679,
          0.5253823205020389,
          0.679130059390005,
          0.612974611005679,
          null
         ],
         "y": [
          0.5435565460109114,
          0.46444420115801793,
          0.3171713769281757,
          0.5435565460109114,
          null
         ]
        },
        {
         "fill": "toself",
         "fillcolor": "rgba(255,0,0,0.2)",
         "line": {
          "width": 2
         },
         "mode": "lines+markers",
         "type": "scatter",
         "x": [
          0.6275497833335015,
          0.5253823205020389,
          0.679130059390005,
          0.6275497833335015,
          null
         ],
         "y": [
          0.4217993172857343,
          0.46444420115801793,
          0.3171713769281757,
          0.4217993172857343,
          null
         ]
        },
        {
         "fill": "toself",
         "fillcolor": "rgba(255,0,0,0.2)",
         "line": {
          "width": 2
         },
         "mode": "lines+markers",
         "type": "scatter",
         "x": [
          0.612974611005679,
          0.679130059390005,
          0.7225795508024588,
          0.612974611005679,
          null
         ],
         "y": [
          0.5435565460109114,
          0.3171713769281757,
          0.5122848059630762,
          0.5435565460109114,
          null
         ]
        },
        {
         "fill": "toself",
         "fillcolor": "rgba(255,0,0,0.2)",
         "line": {
          "width": 2
         },
         "mode": "lines+markers",
         "type": "scatter",
         "x": [
          0.6275497833335015,
          0.679130059390005,
          0.7225795508024588,
          0.6275497833335015,
          null
         ],
         "y": [
          0.4217993172857343,
          0.3171713769281757,
          0.5122848059630762,
          0.4217993172857343,
          null
         ]
        },
        {
         "fill": "toself",
         "fillcolor": "rgba(255,0,0,0.2)",
         "line": {
          "width": 2
         },
         "mode": "lines+markers",
         "type": "scatter",
         "x": [
          0.5253823205020389,
          0.679130059390005,
          0.7225795508024588,
          0.5253823205020389,
          null
         ],
         "y": [
          0.46444420115801793,
          0.3171713769281757,
          0.5122848059630762,
          0.46444420115801793,
          null
         ]
        },
        {
         "fill": "toself",
         "fillcolor": "rgba(255,0,0,0.2)",
         "line": {
          "width": 2
         },
         "mode": "lines+markers",
         "type": "scatter",
         "x": [
          0.612974611005679,
          0.7532881599553028,
          0.679130059390005,
          0.612974611005679,
          null
         ],
         "y": [
          0.5435565460109114,
          0.40412992640513895,
          0.3171713769281757,
          0.5435565460109114,
          null
         ]
        },
        {
         "fill": "toself",
         "fillcolor": "rgba(255,0,0,0.2)",
         "line": {
          "width": 2
         },
         "mode": "lines+markers",
         "type": "scatter",
         "x": [
          0.6275497833335015,
          0.7532881599553028,
          0.679130059390005,
          0.6275497833335015,
          null
         ],
         "y": [
          0.4217993172857343,
          0.40412992640513895,
          0.3171713769281757,
          0.4217993172857343,
          null
         ]
        },
        {
         "fill": "toself",
         "fillcolor": "rgba(255,0,0,0.2)",
         "line": {
          "width": 2
         },
         "mode": "lines+markers",
         "type": "scatter",
         "x": [
          0.5253823205020389,
          0.7532881599553028,
          0.679130059390005,
          0.5253823205020389,
          null
         ],
         "y": [
          0.46444420115801793,
          0.40412992640513895,
          0.3171713769281757,
          0.46444420115801793,
          null
         ]
        },
        {
         "fill": "toself",
         "fillcolor": "rgba(255,0,0,0.2)",
         "line": {
          "width": 2
         },
         "mode": "lines+markers",
         "type": "scatter",
         "x": [
          0.7532881599553028,
          0.679130059390005,
          0.7225795508024588,
          0.7532881599553028,
          null
         ],
         "y": [
          0.40412992640513895,
          0.3171713769281757,
          0.5122848059630762,
          0.40412992640513895,
          null
         ]
        },
        {
         "fill": "toself",
         "fillcolor": "rgba(255,0,0,0.2)",
         "line": {
          "width": 2
         },
         "mode": "lines+markers",
         "type": "scatter",
         "x": [
          0.5573467448837565,
          0.612974611005679,
          0.679130059390005,
          0.5573467448837565,
          null
         ],
         "y": [
          0.3410865306317212,
          0.5435565460109114,
          0.3171713769281757,
          0.3410865306317212,
          null
         ]
        },
        {
         "fill": "toself",
         "fillcolor": "rgba(255,0,0,0.2)",
         "line": {
          "width": 2
         },
         "mode": "lines+markers",
         "type": "scatter",
         "x": [
          0.5573467448837565,
          0.612974611005679,
          0.5253823205020389,
          0.5573467448837565,
          null
         ],
         "y": [
          0.3410865306317212,
          0.5435565460109114,
          0.46444420115801793,
          0.3410865306317212,
          null
         ]
        },
        {
         "fill": "toself",
         "fillcolor": "rgba(255,0,0,0.2)",
         "line": {
          "width": 2
         },
         "mode": "lines+markers",
         "type": "scatter",
         "x": [
          0.5573467448837565,
          0.5253823205020389,
          0.679130059390005,
          0.5573467448837565,
          null
         ],
         "y": [
          0.3410865306317212,
          0.46444420115801793,
          0.3171713769281757,
          0.3410865306317212,
          null
         ]
        },
        {
         "fill": "toself",
         "fillcolor": "rgba(255,0,0,0.2)",
         "line": {
          "width": 2
         },
         "mode": "lines+markers",
         "type": "scatter",
         "x": [
          0.5573467448837565,
          0.612974611005679,
          0.6275497833335015,
          0.5573467448837565,
          null
         ],
         "y": [
          0.3410865306317212,
          0.5435565460109114,
          0.4217993172857343,
          0.3410865306317212,
          null
         ]
        },
        {
         "fill": "toself",
         "fillcolor": "rgba(255,0,0,0.2)",
         "line": {
          "width": 2
         },
         "mode": "lines+markers",
         "type": "scatter",
         "x": [
          0.5573467448837565,
          0.6275497833335015,
          0.5253823205020389,
          0.5573467448837565,
          null
         ],
         "y": [
          0.3410865306317212,
          0.4217993172857343,
          0.46444420115801793,
          0.3410865306317212,
          null
         ]
        },
        {
         "fill": "toself",
         "fillcolor": "rgba(255,0,0,0.2)",
         "line": {
          "width": 2
         },
         "mode": "lines+markers",
         "type": "scatter",
         "x": [
          0.5573467448837565,
          0.6275497833335015,
          0.679130059390005,
          0.5573467448837565,
          null
         ],
         "y": [
          0.3410865306317212,
          0.4217993172857343,
          0.3171713769281757,
          0.3410865306317212,
          null
         ]
        },
        {
         "fill": "toself",
         "fillcolor": "rgba(255,0,0,0.2)",
         "line": {
          "width": 2
         },
         "mode": "lines+markers",
         "type": "scatter",
         "x": [
          0.5573467448837565,
          0.612974611005679,
          0.7532881599553028,
          0.5573467448837565,
          null
         ],
         "y": [
          0.3410865306317212,
          0.5435565460109114,
          0.40412992640513895,
          0.3410865306317212,
          null
         ]
        },
        {
         "fill": "toself",
         "fillcolor": "rgba(255,0,0,0.2)",
         "line": {
          "width": 2
         },
         "mode": "lines+markers",
         "type": "scatter",
         "x": [
          0.5573467448837565,
          0.6275497833335015,
          0.7532881599553028,
          0.5573467448837565,
          null
         ],
         "y": [
          0.3410865306317212,
          0.4217993172857343,
          0.40412992640513895,
          0.3410865306317212,
          null
         ]
        },
        {
         "fill": "toself",
         "fillcolor": "rgba(255,0,0,0.2)",
         "line": {
          "width": 2
         },
         "mode": "lines+markers",
         "type": "scatter",
         "x": [
          0.5573467448837565,
          0.5253823205020389,
          0.7532881599553028,
          0.5573467448837565,
          null
         ],
         "y": [
          0.3410865306317212,
          0.46444420115801793,
          0.40412992640513895,
          0.3410865306317212,
          null
         ]
        },
        {
         "fill": "toself",
         "fillcolor": "rgba(255,0,0,0.2)",
         "line": {
          "width": 2
         },
         "mode": "lines+markers",
         "type": "scatter",
         "x": [
          0.5573467448837565,
          0.7532881599553028,
          0.679130059390005,
          0.5573467448837565,
          null
         ],
         "y": [
          0.3410865306317212,
          0.40412992640513895,
          0.3171713769281757,
          0.3410865306317212,
          null
         ]
        },
        {
         "fill": "toself",
         "fillcolor": "rgba(255,0,0,0.2)",
         "line": {
          "width": 2
         },
         "mode": "lines+markers",
         "type": "scatter",
         "x": [
          0.5573467448837565,
          0.612974611005679,
          0.7225795508024588,
          0.5573467448837565,
          null
         ],
         "y": [
          0.3410865306317212,
          0.5435565460109114,
          0.5122848059630762,
          0.3410865306317212,
          null
         ]
        },
        {
         "fill": "toself",
         "fillcolor": "rgba(255,0,0,0.2)",
         "line": {
          "width": 2
         },
         "mode": "lines+markers",
         "type": "scatter",
         "x": [
          0.5573467448837565,
          0.6275497833335015,
          0.7225795508024588,
          0.5573467448837565,
          null
         ],
         "y": [
          0.3410865306317212,
          0.4217993172857343,
          0.5122848059630762,
          0.3410865306317212,
          null
         ]
        },
        {
         "fill": "toself",
         "fillcolor": "rgba(255,0,0,0.2)",
         "line": {
          "width": 2
         },
         "mode": "lines+markers",
         "type": "scatter",
         "x": [
          0.5573467448837565,
          0.5253823205020389,
          0.7225795508024588,
          0.5573467448837565,
          null
         ],
         "y": [
          0.3410865306317212,
          0.46444420115801793,
          0.5122848059630762,
          0.3410865306317212,
          null
         ]
        },
        {
         "fill": "toself",
         "fillcolor": "rgba(255,0,0,0.2)",
         "line": {
          "width": 2
         },
         "mode": "lines+markers",
         "type": "scatter",
         "x": [
          0.5573467448837565,
          0.7532881599553028,
          0.7225795508024588,
          0.5573467448837565,
          null
         ],
         "y": [
          0.3410865306317212,
          0.40412992640513895,
          0.5122848059630762,
          0.3410865306317212,
          null
         ]
        },
        {
         "fill": "toself",
         "fillcolor": "rgba(255,0,0,0.2)",
         "line": {
          "width": 2
         },
         "mode": "lines+markers",
         "type": "scatter",
         "x": [
          0.5573467448837565,
          0.679130059390005,
          0.7225795508024588,
          0.5573467448837565,
          null
         ],
         "y": [
          0.3410865306317212,
          0.3171713769281757,
          0.5122848059630762,
          0.3410865306317212,
          null
         ]
        },
        {
         "fill": "toself",
         "fillcolor": "rgba(255,0,0,0.2)",
         "line": {
          "width": 2
         },
         "mode": "lines+markers",
         "type": "scatter",
         "x": [
          -0.8233988448419245,
          -0.971575070134898,
          -1,
          -0.8233988448419245,
          null
         ],
         "y": [
          -0.5198467908245304,
          -0.5660939461405502,
          -0.3869892705881588,
          -0.5198467908245304,
          null
         ]
        },
        {
         "hoverinfo": "text",
         "marker": {
          "size": 14
         },
         "mode": "markers+text",
         "text": [
          "0",
          "1",
          "2",
          "3",
          "4",
          "5",
          "6",
          "7",
          "8",
          "9",
          "10",
          "11"
         ],
         "textfont": {
          "size": 14
         },
         "textposition": "top center",
         "type": "scatter",
         "x": [
          -0.8233988448419245,
          -0.971575070134898,
          -1,
          -0.7533857350127501,
          -0.9298915798831702,
          0.5573467448837565,
          0.612974611005679,
          0.6275497833335015,
          0.5253823205020389,
          0.7532881599553028,
          0.679130059390005,
          0.7225795508024588
         ],
         "y": [
          -0.5198467908245304,
          -0.5660939461405502,
          -0.3869892705881588,
          -0.7440591441150881,
          -0.7874835527144484,
          0.3410865306317212,
          0.5435565460109114,
          0.4217993172857343,
          0.46444420115801793,
          0.40412992640513895,
          0.3171713769281757,
          0.5122848059630762
         ]
        }
       ],
       "layout": {
        "height": 600,
        "hovermode": "closest",
        "showlegend": false,
        "template": {
         "data": {
          "bar": [
           {
            "error_x": {
             "color": "#2a3f5f"
            },
            "error_y": {
             "color": "#2a3f5f"
            },
            "marker": {
             "line": {
              "color": "#E5ECF6",
              "width": 0.5
             },
             "pattern": {
              "fillmode": "overlay",
              "size": 10,
              "solidity": 0.2
             }
            },
            "type": "bar"
           }
          ],
          "barpolar": [
           {
            "marker": {
             "line": {
              "color": "#E5ECF6",
              "width": 0.5
             },
             "pattern": {
              "fillmode": "overlay",
              "size": 10,
              "solidity": 0.2
             }
            },
            "type": "barpolar"
           }
          ],
          "carpet": [
           {
            "aaxis": {
             "endlinecolor": "#2a3f5f",
             "gridcolor": "white",
             "linecolor": "white",
             "minorgridcolor": "white",
             "startlinecolor": "#2a3f5f"
            },
            "baxis": {
             "endlinecolor": "#2a3f5f",
             "gridcolor": "white",
             "linecolor": "white",
             "minorgridcolor": "white",
             "startlinecolor": "#2a3f5f"
            },
            "type": "carpet"
           }
          ],
          "choropleth": [
           {
            "colorbar": {
             "outlinewidth": 0,
             "ticks": ""
            },
            "type": "choropleth"
           }
          ],
          "contour": [
           {
            "colorbar": {
             "outlinewidth": 0,
             "ticks": ""
            },
            "colorscale": [
             [
              0,
              "#0d0887"
             ],
             [
              0.1111111111111111,
              "#46039f"
             ],
             [
              0.2222222222222222,
              "#7201a8"
             ],
             [
              0.3333333333333333,
              "#9c179e"
             ],
             [
              0.4444444444444444,
              "#bd3786"
             ],
             [
              0.5555555555555556,
              "#d8576b"
             ],
             [
              0.6666666666666666,
              "#ed7953"
             ],
             [
              0.7777777777777778,
              "#fb9f3a"
             ],
             [
              0.8888888888888888,
              "#fdca26"
             ],
             [
              1,
              "#f0f921"
             ]
            ],
            "type": "contour"
           }
          ],
          "contourcarpet": [
           {
            "colorbar": {
             "outlinewidth": 0,
             "ticks": ""
            },
            "type": "contourcarpet"
           }
          ],
          "heatmap": [
           {
            "colorbar": {
             "outlinewidth": 0,
             "ticks": ""
            },
            "colorscale": [
             [
              0,
              "#0d0887"
             ],
             [
              0.1111111111111111,
              "#46039f"
             ],
             [
              0.2222222222222222,
              "#7201a8"
             ],
             [
              0.3333333333333333,
              "#9c179e"
             ],
             [
              0.4444444444444444,
              "#bd3786"
             ],
             [
              0.5555555555555556,
              "#d8576b"
             ],
             [
              0.6666666666666666,
              "#ed7953"
             ],
             [
              0.7777777777777778,
              "#fb9f3a"
             ],
             [
              0.8888888888888888,
              "#fdca26"
             ],
             [
              1,
              "#f0f921"
             ]
            ],
            "type": "heatmap"
           }
          ],
          "heatmapgl": [
           {
            "colorbar": {
             "outlinewidth": 0,
             "ticks": ""
            },
            "colorscale": [
             [
              0,
              "#0d0887"
             ],
             [
              0.1111111111111111,
              "#46039f"
             ],
             [
              0.2222222222222222,
              "#7201a8"
             ],
             [
              0.3333333333333333,
              "#9c179e"
             ],
             [
              0.4444444444444444,
              "#bd3786"
             ],
             [
              0.5555555555555556,
              "#d8576b"
             ],
             [
              0.6666666666666666,
              "#ed7953"
             ],
             [
              0.7777777777777778,
              "#fb9f3a"
             ],
             [
              0.8888888888888888,
              "#fdca26"
             ],
             [
              1,
              "#f0f921"
             ]
            ],
            "type": "heatmapgl"
           }
          ],
          "histogram": [
           {
            "marker": {
             "pattern": {
              "fillmode": "overlay",
              "size": 10,
              "solidity": 0.2
             }
            },
            "type": "histogram"
           }
          ],
          "histogram2d": [
           {
            "colorbar": {
             "outlinewidth": 0,
             "ticks": ""
            },
            "colorscale": [
             [
              0,
              "#0d0887"
             ],
             [
              0.1111111111111111,
              "#46039f"
             ],
             [
              0.2222222222222222,
              "#7201a8"
             ],
             [
              0.3333333333333333,
              "#9c179e"
             ],
             [
              0.4444444444444444,
              "#bd3786"
             ],
             [
              0.5555555555555556,
              "#d8576b"
             ],
             [
              0.6666666666666666,
              "#ed7953"
             ],
             [
              0.7777777777777778,
              "#fb9f3a"
             ],
             [
              0.8888888888888888,
              "#fdca26"
             ],
             [
              1,
              "#f0f921"
             ]
            ],
            "type": "histogram2d"
           }
          ],
          "histogram2dcontour": [
           {
            "colorbar": {
             "outlinewidth": 0,
             "ticks": ""
            },
            "colorscale": [
             [
              0,
              "#0d0887"
             ],
             [
              0.1111111111111111,
              "#46039f"
             ],
             [
              0.2222222222222222,
              "#7201a8"
             ],
             [
              0.3333333333333333,
              "#9c179e"
             ],
             [
              0.4444444444444444,
              "#bd3786"
             ],
             [
              0.5555555555555556,
              "#d8576b"
             ],
             [
              0.6666666666666666,
              "#ed7953"
             ],
             [
              0.7777777777777778,
              "#fb9f3a"
             ],
             [
              0.8888888888888888,
              "#fdca26"
             ],
             [
              1,
              "#f0f921"
             ]
            ],
            "type": "histogram2dcontour"
           }
          ],
          "mesh3d": [
           {
            "colorbar": {
             "outlinewidth": 0,
             "ticks": ""
            },
            "type": "mesh3d"
           }
          ],
          "parcoords": [
           {
            "line": {
             "colorbar": {
              "outlinewidth": 0,
              "ticks": ""
             }
            },
            "type": "parcoords"
           }
          ],
          "pie": [
           {
            "automargin": true,
            "type": "pie"
           }
          ],
          "scatter": [
           {
            "fillpattern": {
             "fillmode": "overlay",
             "size": 10,
             "solidity": 0.2
            },
            "type": "scatter"
           }
          ],
          "scatter3d": [
           {
            "line": {
             "colorbar": {
              "outlinewidth": 0,
              "ticks": ""
             }
            },
            "marker": {
             "colorbar": {
              "outlinewidth": 0,
              "ticks": ""
             }
            },
            "type": "scatter3d"
           }
          ],
          "scattercarpet": [
           {
            "marker": {
             "colorbar": {
              "outlinewidth": 0,
              "ticks": ""
             }
            },
            "type": "scattercarpet"
           }
          ],
          "scattergeo": [
           {
            "marker": {
             "colorbar": {
              "outlinewidth": 0,
              "ticks": ""
             }
            },
            "type": "scattergeo"
           }
          ],
          "scattergl": [
           {
            "marker": {
             "colorbar": {
              "outlinewidth": 0,
              "ticks": ""
             }
            },
            "type": "scattergl"
           }
          ],
          "scattermapbox": [
           {
            "marker": {
             "colorbar": {
              "outlinewidth": 0,
              "ticks": ""
             }
            },
            "type": "scattermapbox"
           }
          ],
          "scatterpolar": [
           {
            "marker": {
             "colorbar": {
              "outlinewidth": 0,
              "ticks": ""
             }
            },
            "type": "scatterpolar"
           }
          ],
          "scatterpolargl": [
           {
            "marker": {
             "colorbar": {
              "outlinewidth": 0,
              "ticks": ""
             }
            },
            "type": "scatterpolargl"
           }
          ],
          "scatterternary": [
           {
            "marker": {
             "colorbar": {
              "outlinewidth": 0,
              "ticks": ""
             }
            },
            "type": "scatterternary"
           }
          ],
          "surface": [
           {
            "colorbar": {
             "outlinewidth": 0,
             "ticks": ""
            },
            "colorscale": [
             [
              0,
              "#0d0887"
             ],
             [
              0.1111111111111111,
              "#46039f"
             ],
             [
              0.2222222222222222,
              "#7201a8"
             ],
             [
              0.3333333333333333,
              "#9c179e"
             ],
             [
              0.4444444444444444,
              "#bd3786"
             ],
             [
              0.5555555555555556,
              "#d8576b"
             ],
             [
              0.6666666666666666,
              "#ed7953"
             ],
             [
              0.7777777777777778,
              "#fb9f3a"
             ],
             [
              0.8888888888888888,
              "#fdca26"
             ],
             [
              1,
              "#f0f921"
             ]
            ],
            "type": "surface"
           }
          ],
          "table": [
           {
            "cells": {
             "fill": {
              "color": "#EBF0F8"
             },
             "line": {
              "color": "white"
             }
            },
            "header": {
             "fill": {
              "color": "#C8D4E3"
             },
             "line": {
              "color": "white"
             }
            },
            "type": "table"
           }
          ]
         },
         "layout": {
          "annotationdefaults": {
           "arrowcolor": "#2a3f5f",
           "arrowhead": 0,
           "arrowwidth": 1
          },
          "autotypenumbers": "strict",
          "coloraxis": {
           "colorbar": {
            "outlinewidth": 0,
            "ticks": ""
           }
          },
          "colorscale": {
           "diverging": [
            [
             0,
             "#8e0152"
            ],
            [
             0.1,
             "#c51b7d"
            ],
            [
             0.2,
             "#de77ae"
            ],
            [
             0.3,
             "#f1b6da"
            ],
            [
             0.4,
             "#fde0ef"
            ],
            [
             0.5,
             "#f7f7f7"
            ],
            [
             0.6,
             "#e6f5d0"
            ],
            [
             0.7,
             "#b8e186"
            ],
            [
             0.8,
             "#7fbc41"
            ],
            [
             0.9,
             "#4d9221"
            ],
            [
             1,
             "#276419"
            ]
           ],
           "sequential": [
            [
             0,
             "#0d0887"
            ],
            [
             0.1111111111111111,
             "#46039f"
            ],
            [
             0.2222222222222222,
             "#7201a8"
            ],
            [
             0.3333333333333333,
             "#9c179e"
            ],
            [
             0.4444444444444444,
             "#bd3786"
            ],
            [
             0.5555555555555556,
             "#d8576b"
            ],
            [
             0.6666666666666666,
             "#ed7953"
            ],
            [
             0.7777777777777778,
             "#fb9f3a"
            ],
            [
             0.8888888888888888,
             "#fdca26"
            ],
            [
             1,
             "#f0f921"
            ]
           ],
           "sequentialminus": [
            [
             0,
             "#0d0887"
            ],
            [
             0.1111111111111111,
             "#46039f"
            ],
            [
             0.2222222222222222,
             "#7201a8"
            ],
            [
             0.3333333333333333,
             "#9c179e"
            ],
            [
             0.4444444444444444,
             "#bd3786"
            ],
            [
             0.5555555555555556,
             "#d8576b"
            ],
            [
             0.6666666666666666,
             "#ed7953"
            ],
            [
             0.7777777777777778,
             "#fb9f3a"
            ],
            [
             0.8888888888888888,
             "#fdca26"
            ],
            [
             1,
             "#f0f921"
            ]
           ]
          },
          "colorway": [
           "#636efa",
           "#EF553B",
           "#00cc96",
           "#ab63fa",
           "#FFA15A",
           "#19d3f3",
           "#FF6692",
           "#B6E880",
           "#FF97FF",
           "#FECB52"
          ],
          "font": {
           "color": "#2a3f5f"
          },
          "geo": {
           "bgcolor": "white",
           "lakecolor": "white",
           "landcolor": "#E5ECF6",
           "showlakes": true,
           "showland": true,
           "subunitcolor": "white"
          },
          "hoverlabel": {
           "align": "left"
          },
          "hovermode": "closest",
          "mapbox": {
           "style": "light"
          },
          "paper_bgcolor": "white",
          "plot_bgcolor": "#E5ECF6",
          "polar": {
           "angularaxis": {
            "gridcolor": "white",
            "linecolor": "white",
            "ticks": ""
           },
           "bgcolor": "#E5ECF6",
           "radialaxis": {
            "gridcolor": "white",
            "linecolor": "white",
            "ticks": ""
           }
          },
          "scene": {
           "xaxis": {
            "backgroundcolor": "#E5ECF6",
            "gridcolor": "white",
            "gridwidth": 2,
            "linecolor": "white",
            "showbackground": true,
            "ticks": "",
            "zerolinecolor": "white"
           },
           "yaxis": {
            "backgroundcolor": "#E5ECF6",
            "gridcolor": "white",
            "gridwidth": 2,
            "linecolor": "white",
            "showbackground": true,
            "ticks": "",
            "zerolinecolor": "white"
           },
           "zaxis": {
            "backgroundcolor": "#E5ECF6",
            "gridcolor": "white",
            "gridwidth": 2,
            "linecolor": "white",
            "showbackground": true,
            "ticks": "",
            "zerolinecolor": "white"
           }
          },
          "shapedefaults": {
           "line": {
            "color": "#2a3f5f"
           }
          },
          "ternary": {
           "aaxis": {
            "gridcolor": "white",
            "linecolor": "white",
            "ticks": ""
           },
           "baxis": {
            "gridcolor": "white",
            "linecolor": "white",
            "ticks": ""
           },
           "bgcolor": "#E5ECF6",
           "caxis": {
            "gridcolor": "white",
            "linecolor": "white",
            "ticks": ""
           }
          },
          "title": {
           "x": 0.05
          },
          "xaxis": {
           "automargin": true,
           "gridcolor": "white",
           "linecolor": "white",
           "ticks": "",
           "title": {
            "standoff": 15
           },
           "zerolinecolor": "white",
           "zerolinewidth": 2
          },
          "yaxis": {
           "automargin": true,
           "gridcolor": "white",
           "linecolor": "white",
           "ticks": "",
           "title": {
            "standoff": 15
           },
           "zerolinecolor": "white",
           "zerolinewidth": 2
          }
         }
        },
        "width": 600,
        "xaxis": {
         "showgrid": false,
         "tickfont": {
          "family": "Arial, sans-serif",
          "size": 16
         },
         "zeroline": false
        },
        "yaxis": {
         "showgrid": false,
         "tickfont": {
          "family": "Arial, sans-serif",
          "size": 16
         },
         "zeroline": false
        }
       }
      },
      "text/html": [
       "<div>                            <div id=\"fd19a30a-a638-4988-aa28-b36af66f1591\" class=\"plotly-graph-div\" style=\"height:600px; width:600px;\"></div>            <script type=\"text/javascript\">                require([\"plotly\"], function(Plotly) {                    window.PLOTLYENV=window.PLOTLYENV || {};                                    if (document.getElementById(\"fd19a30a-a638-4988-aa28-b36af66f1591\")) {                    Plotly.newPlot(                        \"fd19a30a-a638-4988-aa28-b36af66f1591\",                        [{\"line\":{\"color\":\"rgba(0,0,0,0.5)\",\"width\":3},\"mode\":\"lines\",\"x\":[-0.8233988448419245,-1.0,null],\"y\":[-0.5198467908245304,-0.3869892705881588,null],\"type\":\"scatter\"},{\"line\":{\"color\":\"rgba(0,0,0,0.5)\",\"width\":3},\"mode\":\"lines\",\"x\":[-0.8233988448419245,-0.971575070134898,null],\"y\":[-0.5198467908245304,-0.5660939461405502,null],\"type\":\"scatter\"},{\"line\":{\"color\":\"rgba(0,0,0,0.5)\",\"width\":3},\"mode\":\"lines\",\"x\":[-0.8233988448419245,-0.7533857350127501,null],\"y\":[-0.5198467908245304,-0.7440591441150881,null],\"type\":\"scatter\"},{\"line\":{\"color\":\"rgba(0,0,0,0.5)\",\"width\":3},\"mode\":\"lines\",\"x\":[-0.971575070134898,-1.0,null],\"y\":[-0.5660939461405502,-0.3869892705881588,null],\"type\":\"scatter\"},{\"line\":{\"color\":\"rgba(0,0,0,0.5)\",\"width\":3},\"mode\":\"lines\",\"x\":[-0.971575070134898,-0.9298915798831702,null],\"y\":[-0.5660939461405502,-0.7874835527144484,null],\"type\":\"scatter\"},{\"line\":{\"color\":\"rgba(0,0,0,0.5)\",\"width\":3},\"mode\":\"lines\",\"x\":[-0.7533857350127501,-0.9298915798831702,null],\"y\":[-0.7440591441150881,-0.7874835527144484,null],\"type\":\"scatter\"},{\"line\":{\"color\":\"rgba(0,0,0,0.5)\",\"width\":3},\"mode\":\"lines\",\"x\":[0.5573467448837565,0.612974611005679,null],\"y\":[0.3410865306317212,0.5435565460109114,null],\"type\":\"scatter\"},{\"line\":{\"color\":\"rgba(0,0,0,0.5)\",\"width\":3},\"mode\":\"lines\",\"x\":[0.5573467448837565,0.679130059390005,null],\"y\":[0.3410865306317212,0.3171713769281757,null],\"type\":\"scatter\"},{\"line\":{\"color\":\"rgba(0,0,0,0.5)\",\"width\":3},\"mode\":\"lines\",\"x\":[0.5573467448837565,0.5253823205020389,null],\"y\":[0.3410865306317212,0.46444420115801793,null],\"type\":\"scatter\"},{\"line\":{\"color\":\"rgba(0,0,0,0.5)\",\"width\":3},\"mode\":\"lines\",\"x\":[0.5573467448837565,0.6275497833335015,null],\"y\":[0.3410865306317212,0.4217993172857343,null],\"type\":\"scatter\"},{\"line\":{\"color\":\"rgba(0,0,0,0.5)\",\"width\":3},\"mode\":\"lines\",\"x\":[0.5573467448837565,0.7532881599553028,null],\"y\":[0.3410865306317212,0.40412992640513895,null],\"type\":\"scatter\"},{\"line\":{\"color\":\"rgba(0,0,0,0.5)\",\"width\":3},\"mode\":\"lines\",\"x\":[0.5573467448837565,0.7225795508024588,null],\"y\":[0.3410865306317212,0.5122848059630762,null],\"type\":\"scatter\"},{\"line\":{\"color\":\"rgba(0,0,0,0.5)\",\"width\":3},\"mode\":\"lines\",\"x\":[0.612974611005679,0.5253823205020389,null],\"y\":[0.5435565460109114,0.46444420115801793,null],\"type\":\"scatter\"},{\"line\":{\"color\":\"rgba(0,0,0,0.5)\",\"width\":3},\"mode\":\"lines\",\"x\":[0.612974611005679,0.7532881599553028,null],\"y\":[0.5435565460109114,0.40412992640513895,null],\"type\":\"scatter\"},{\"line\":{\"color\":\"rgba(0,0,0,0.5)\",\"width\":3},\"mode\":\"lines\",\"x\":[0.612974611005679,0.6275497833335015,null],\"y\":[0.5435565460109114,0.4217993172857343,null],\"type\":\"scatter\"},{\"line\":{\"color\":\"rgba(0,0,0,0.5)\",\"width\":3},\"mode\":\"lines\",\"x\":[0.612974611005679,0.679130059390005,null],\"y\":[0.5435565460109114,0.3171713769281757,null],\"type\":\"scatter\"},{\"line\":{\"color\":\"rgba(0,0,0,0.5)\",\"width\":3},\"mode\":\"lines\",\"x\":[0.612974611005679,0.7225795508024588,null],\"y\":[0.5435565460109114,0.5122848059630762,null],\"type\":\"scatter\"},{\"line\":{\"color\":\"rgba(0,0,0,0.5)\",\"width\":3},\"mode\":\"lines\",\"x\":[0.6275497833335015,0.5253823205020389,null],\"y\":[0.4217993172857343,0.46444420115801793,null],\"type\":\"scatter\"},{\"line\":{\"color\":\"rgba(0,0,0,0.5)\",\"width\":3},\"mode\":\"lines\",\"x\":[0.6275497833335015,0.7532881599553028,null],\"y\":[0.4217993172857343,0.40412992640513895,null],\"type\":\"scatter\"},{\"line\":{\"color\":\"rgba(0,0,0,0.5)\",\"width\":3},\"mode\":\"lines\",\"x\":[0.6275497833335015,0.7225795508024588,null],\"y\":[0.4217993172857343,0.5122848059630762,null],\"type\":\"scatter\"},{\"line\":{\"color\":\"rgba(0,0,0,0.5)\",\"width\":3},\"mode\":\"lines\",\"x\":[0.6275497833335015,0.679130059390005,null],\"y\":[0.4217993172857343,0.3171713769281757,null],\"type\":\"scatter\"},{\"line\":{\"color\":\"rgba(0,0,0,0.5)\",\"width\":3},\"mode\":\"lines\",\"x\":[0.5253823205020389,0.7532881599553028,null],\"y\":[0.46444420115801793,0.40412992640513895,null],\"type\":\"scatter\"},{\"line\":{\"color\":\"rgba(0,0,0,0.5)\",\"width\":3},\"mode\":\"lines\",\"x\":[0.5253823205020389,0.7225795508024588,null],\"y\":[0.46444420115801793,0.5122848059630762,null],\"type\":\"scatter\"},{\"line\":{\"color\":\"rgba(0,0,0,0.5)\",\"width\":3},\"mode\":\"lines\",\"x\":[0.5253823205020389,0.679130059390005,null],\"y\":[0.46444420115801793,0.3171713769281757,null],\"type\":\"scatter\"},{\"line\":{\"color\":\"rgba(0,0,0,0.5)\",\"width\":3},\"mode\":\"lines\",\"x\":[0.7532881599553028,0.7225795508024588,null],\"y\":[0.40412992640513895,0.5122848059630762,null],\"type\":\"scatter\"},{\"line\":{\"color\":\"rgba(0,0,0,0.5)\",\"width\":3},\"mode\":\"lines\",\"x\":[0.7532881599553028,0.679130059390005,null],\"y\":[0.40412992640513895,0.3171713769281757,null],\"type\":\"scatter\"},{\"line\":{\"color\":\"rgba(0,0,0,0.5)\",\"width\":3},\"mode\":\"lines\",\"x\":[0.679130059390005,0.7225795508024588,null],\"y\":[0.3171713769281757,0.5122848059630762,null],\"type\":\"scatter\"},{\"fill\":\"toself\",\"fillcolor\":\"rgba(255,0,0,0.2)\",\"line\":{\"width\":2},\"mode\":\"lines+markers\",\"x\":[0.612974611005679,0.5253823205020389,0.7532881599553028,0.612974611005679,null],\"y\":[0.5435565460109114,0.46444420115801793,0.40412992640513895,0.5435565460109114,null],\"type\":\"scatter\"},{\"fill\":\"toself\",\"fillcolor\":\"rgba(255,0,0,0.2)\",\"line\":{\"width\":2},\"mode\":\"lines+markers\",\"x\":[0.612974611005679,0.6275497833335015,0.5253823205020389,0.612974611005679,null],\"y\":[0.5435565460109114,0.4217993172857343,0.46444420115801793,0.5435565460109114,null],\"type\":\"scatter\"},{\"fill\":\"toself\",\"fillcolor\":\"rgba(255,0,0,0.2)\",\"line\":{\"width\":2},\"mode\":\"lines+markers\",\"x\":[0.612974611005679,0.6275497833335015,0.7532881599553028,0.612974611005679,null],\"y\":[0.5435565460109114,0.4217993172857343,0.40412992640513895,0.5435565460109114,null],\"type\":\"scatter\"},{\"fill\":\"toself\",\"fillcolor\":\"rgba(255,0,0,0.2)\",\"line\":{\"width\":2},\"mode\":\"lines+markers\",\"x\":[0.6275497833335015,0.5253823205020389,0.7532881599553028,0.6275497833335015,null],\"y\":[0.4217993172857343,0.46444420115801793,0.40412992640513895,0.4217993172857343,null],\"type\":\"scatter\"},{\"fill\":\"toself\",\"fillcolor\":\"rgba(255,0,0,0.2)\",\"line\":{\"width\":2},\"mode\":\"lines+markers\",\"x\":[0.5253823205020389,0.7532881599553028,0.7225795508024588,0.5253823205020389,null],\"y\":[0.46444420115801793,0.40412992640513895,0.5122848059630762,0.46444420115801793,null],\"type\":\"scatter\"},{\"fill\":\"toself\",\"fillcolor\":\"rgba(255,0,0,0.2)\",\"line\":{\"width\":2},\"mode\":\"lines+markers\",\"x\":[0.6275497833335015,0.5253823205020389,0.7225795508024588,0.6275497833335015,null],\"y\":[0.4217993172857343,0.46444420115801793,0.5122848059630762,0.4217993172857343,null],\"type\":\"scatter\"},{\"fill\":\"toself\",\"fillcolor\":\"rgba(255,0,0,0.2)\",\"line\":{\"width\":2},\"mode\":\"lines+markers\",\"x\":[0.6275497833335015,0.7532881599553028,0.7225795508024588,0.6275497833335015,null],\"y\":[0.4217993172857343,0.40412992640513895,0.5122848059630762,0.4217993172857343,null],\"type\":\"scatter\"},{\"fill\":\"toself\",\"fillcolor\":\"rgba(255,0,0,0.2)\",\"line\":{\"width\":2},\"mode\":\"lines+markers\",\"x\":[0.612974611005679,0.6275497833335015,0.679130059390005,0.612974611005679,null],\"y\":[0.5435565460109114,0.4217993172857343,0.3171713769281757,0.5435565460109114,null],\"type\":\"scatter\"},{\"fill\":\"toself\",\"fillcolor\":\"rgba(255,0,0,0.2)\",\"line\":{\"width\":2},\"mode\":\"lines+markers\",\"x\":[0.612974611005679,0.6275497833335015,0.7225795508024588,0.612974611005679,null],\"y\":[0.5435565460109114,0.4217993172857343,0.5122848059630762,0.5435565460109114,null],\"type\":\"scatter\"},{\"fill\":\"toself\",\"fillcolor\":\"rgba(255,0,0,0.2)\",\"line\":{\"width\":2},\"mode\":\"lines+markers\",\"x\":[0.612974611005679,0.5253823205020389,0.7225795508024588,0.612974611005679,null],\"y\":[0.5435565460109114,0.46444420115801793,0.5122848059630762,0.5435565460109114,null],\"type\":\"scatter\"},{\"fill\":\"toself\",\"fillcolor\":\"rgba(255,0,0,0.2)\",\"line\":{\"width\":2},\"mode\":\"lines+markers\",\"x\":[0.612974611005679,0.7532881599553028,0.7225795508024588,0.612974611005679,null],\"y\":[0.5435565460109114,0.40412992640513895,0.5122848059630762,0.5435565460109114,null],\"type\":\"scatter\"},{\"fill\":\"toself\",\"fillcolor\":\"rgba(255,0,0,0.2)\",\"line\":{\"width\":2},\"mode\":\"lines+markers\",\"x\":[0.612974611005679,0.5253823205020389,0.679130059390005,0.612974611005679,null],\"y\":[0.5435565460109114,0.46444420115801793,0.3171713769281757,0.5435565460109114,null],\"type\":\"scatter\"},{\"fill\":\"toself\",\"fillcolor\":\"rgba(255,0,0,0.2)\",\"line\":{\"width\":2},\"mode\":\"lines+markers\",\"x\":[0.6275497833335015,0.5253823205020389,0.679130059390005,0.6275497833335015,null],\"y\":[0.4217993172857343,0.46444420115801793,0.3171713769281757,0.4217993172857343,null],\"type\":\"scatter\"},{\"fill\":\"toself\",\"fillcolor\":\"rgba(255,0,0,0.2)\",\"line\":{\"width\":2},\"mode\":\"lines+markers\",\"x\":[0.612974611005679,0.679130059390005,0.7225795508024588,0.612974611005679,null],\"y\":[0.5435565460109114,0.3171713769281757,0.5122848059630762,0.5435565460109114,null],\"type\":\"scatter\"},{\"fill\":\"toself\",\"fillcolor\":\"rgba(255,0,0,0.2)\",\"line\":{\"width\":2},\"mode\":\"lines+markers\",\"x\":[0.6275497833335015,0.679130059390005,0.7225795508024588,0.6275497833335015,null],\"y\":[0.4217993172857343,0.3171713769281757,0.5122848059630762,0.4217993172857343,null],\"type\":\"scatter\"},{\"fill\":\"toself\",\"fillcolor\":\"rgba(255,0,0,0.2)\",\"line\":{\"width\":2},\"mode\":\"lines+markers\",\"x\":[0.5253823205020389,0.679130059390005,0.7225795508024588,0.5253823205020389,null],\"y\":[0.46444420115801793,0.3171713769281757,0.5122848059630762,0.46444420115801793,null],\"type\":\"scatter\"},{\"fill\":\"toself\",\"fillcolor\":\"rgba(255,0,0,0.2)\",\"line\":{\"width\":2},\"mode\":\"lines+markers\",\"x\":[0.612974611005679,0.7532881599553028,0.679130059390005,0.612974611005679,null],\"y\":[0.5435565460109114,0.40412992640513895,0.3171713769281757,0.5435565460109114,null],\"type\":\"scatter\"},{\"fill\":\"toself\",\"fillcolor\":\"rgba(255,0,0,0.2)\",\"line\":{\"width\":2},\"mode\":\"lines+markers\",\"x\":[0.6275497833335015,0.7532881599553028,0.679130059390005,0.6275497833335015,null],\"y\":[0.4217993172857343,0.40412992640513895,0.3171713769281757,0.4217993172857343,null],\"type\":\"scatter\"},{\"fill\":\"toself\",\"fillcolor\":\"rgba(255,0,0,0.2)\",\"line\":{\"width\":2},\"mode\":\"lines+markers\",\"x\":[0.5253823205020389,0.7532881599553028,0.679130059390005,0.5253823205020389,null],\"y\":[0.46444420115801793,0.40412992640513895,0.3171713769281757,0.46444420115801793,null],\"type\":\"scatter\"},{\"fill\":\"toself\",\"fillcolor\":\"rgba(255,0,0,0.2)\",\"line\":{\"width\":2},\"mode\":\"lines+markers\",\"x\":[0.7532881599553028,0.679130059390005,0.7225795508024588,0.7532881599553028,null],\"y\":[0.40412992640513895,0.3171713769281757,0.5122848059630762,0.40412992640513895,null],\"type\":\"scatter\"},{\"fill\":\"toself\",\"fillcolor\":\"rgba(255,0,0,0.2)\",\"line\":{\"width\":2},\"mode\":\"lines+markers\",\"x\":[0.5573467448837565,0.612974611005679,0.679130059390005,0.5573467448837565,null],\"y\":[0.3410865306317212,0.5435565460109114,0.3171713769281757,0.3410865306317212,null],\"type\":\"scatter\"},{\"fill\":\"toself\",\"fillcolor\":\"rgba(255,0,0,0.2)\",\"line\":{\"width\":2},\"mode\":\"lines+markers\",\"x\":[0.5573467448837565,0.612974611005679,0.5253823205020389,0.5573467448837565,null],\"y\":[0.3410865306317212,0.5435565460109114,0.46444420115801793,0.3410865306317212,null],\"type\":\"scatter\"},{\"fill\":\"toself\",\"fillcolor\":\"rgba(255,0,0,0.2)\",\"line\":{\"width\":2},\"mode\":\"lines+markers\",\"x\":[0.5573467448837565,0.5253823205020389,0.679130059390005,0.5573467448837565,null],\"y\":[0.3410865306317212,0.46444420115801793,0.3171713769281757,0.3410865306317212,null],\"type\":\"scatter\"},{\"fill\":\"toself\",\"fillcolor\":\"rgba(255,0,0,0.2)\",\"line\":{\"width\":2},\"mode\":\"lines+markers\",\"x\":[0.5573467448837565,0.612974611005679,0.6275497833335015,0.5573467448837565,null],\"y\":[0.3410865306317212,0.5435565460109114,0.4217993172857343,0.3410865306317212,null],\"type\":\"scatter\"},{\"fill\":\"toself\",\"fillcolor\":\"rgba(255,0,0,0.2)\",\"line\":{\"width\":2},\"mode\":\"lines+markers\",\"x\":[0.5573467448837565,0.6275497833335015,0.5253823205020389,0.5573467448837565,null],\"y\":[0.3410865306317212,0.4217993172857343,0.46444420115801793,0.3410865306317212,null],\"type\":\"scatter\"},{\"fill\":\"toself\",\"fillcolor\":\"rgba(255,0,0,0.2)\",\"line\":{\"width\":2},\"mode\":\"lines+markers\",\"x\":[0.5573467448837565,0.6275497833335015,0.679130059390005,0.5573467448837565,null],\"y\":[0.3410865306317212,0.4217993172857343,0.3171713769281757,0.3410865306317212,null],\"type\":\"scatter\"},{\"fill\":\"toself\",\"fillcolor\":\"rgba(255,0,0,0.2)\",\"line\":{\"width\":2},\"mode\":\"lines+markers\",\"x\":[0.5573467448837565,0.612974611005679,0.7532881599553028,0.5573467448837565,null],\"y\":[0.3410865306317212,0.5435565460109114,0.40412992640513895,0.3410865306317212,null],\"type\":\"scatter\"},{\"fill\":\"toself\",\"fillcolor\":\"rgba(255,0,0,0.2)\",\"line\":{\"width\":2},\"mode\":\"lines+markers\",\"x\":[0.5573467448837565,0.6275497833335015,0.7532881599553028,0.5573467448837565,null],\"y\":[0.3410865306317212,0.4217993172857343,0.40412992640513895,0.3410865306317212,null],\"type\":\"scatter\"},{\"fill\":\"toself\",\"fillcolor\":\"rgba(255,0,0,0.2)\",\"line\":{\"width\":2},\"mode\":\"lines+markers\",\"x\":[0.5573467448837565,0.5253823205020389,0.7532881599553028,0.5573467448837565,null],\"y\":[0.3410865306317212,0.46444420115801793,0.40412992640513895,0.3410865306317212,null],\"type\":\"scatter\"},{\"fill\":\"toself\",\"fillcolor\":\"rgba(255,0,0,0.2)\",\"line\":{\"width\":2},\"mode\":\"lines+markers\",\"x\":[0.5573467448837565,0.7532881599553028,0.679130059390005,0.5573467448837565,null],\"y\":[0.3410865306317212,0.40412992640513895,0.3171713769281757,0.3410865306317212,null],\"type\":\"scatter\"},{\"fill\":\"toself\",\"fillcolor\":\"rgba(255,0,0,0.2)\",\"line\":{\"width\":2},\"mode\":\"lines+markers\",\"x\":[0.5573467448837565,0.612974611005679,0.7225795508024588,0.5573467448837565,null],\"y\":[0.3410865306317212,0.5435565460109114,0.5122848059630762,0.3410865306317212,null],\"type\":\"scatter\"},{\"fill\":\"toself\",\"fillcolor\":\"rgba(255,0,0,0.2)\",\"line\":{\"width\":2},\"mode\":\"lines+markers\",\"x\":[0.5573467448837565,0.6275497833335015,0.7225795508024588,0.5573467448837565,null],\"y\":[0.3410865306317212,0.4217993172857343,0.5122848059630762,0.3410865306317212,null],\"type\":\"scatter\"},{\"fill\":\"toself\",\"fillcolor\":\"rgba(255,0,0,0.2)\",\"line\":{\"width\":2},\"mode\":\"lines+markers\",\"x\":[0.5573467448837565,0.5253823205020389,0.7225795508024588,0.5573467448837565,null],\"y\":[0.3410865306317212,0.46444420115801793,0.5122848059630762,0.3410865306317212,null],\"type\":\"scatter\"},{\"fill\":\"toself\",\"fillcolor\":\"rgba(255,0,0,0.2)\",\"line\":{\"width\":2},\"mode\":\"lines+markers\",\"x\":[0.5573467448837565,0.7532881599553028,0.7225795508024588,0.5573467448837565,null],\"y\":[0.3410865306317212,0.40412992640513895,0.5122848059630762,0.3410865306317212,null],\"type\":\"scatter\"},{\"fill\":\"toself\",\"fillcolor\":\"rgba(255,0,0,0.2)\",\"line\":{\"width\":2},\"mode\":\"lines+markers\",\"x\":[0.5573467448837565,0.679130059390005,0.7225795508024588,0.5573467448837565,null],\"y\":[0.3410865306317212,0.3171713769281757,0.5122848059630762,0.3410865306317212,null],\"type\":\"scatter\"},{\"fill\":\"toself\",\"fillcolor\":\"rgba(255,0,0,0.2)\",\"line\":{\"width\":2},\"mode\":\"lines+markers\",\"x\":[-0.8233988448419245,-0.971575070134898,-1.0,-0.8233988448419245,null],\"y\":[-0.5198467908245304,-0.5660939461405502,-0.3869892705881588,-0.5198467908245304,null],\"type\":\"scatter\"},{\"hoverinfo\":\"text\",\"marker\":{\"size\":14},\"mode\":\"markers+text\",\"text\":[\"0\",\"1\",\"2\",\"3\",\"4\",\"5\",\"6\",\"7\",\"8\",\"9\",\"10\",\"11\"],\"textfont\":{\"size\":14},\"textposition\":\"top center\",\"x\":[-0.8233988448419245,-0.971575070134898,-1.0,-0.7533857350127501,-0.9298915798831702,0.5573467448837565,0.612974611005679,0.6275497833335015,0.5253823205020389,0.7532881599553028,0.679130059390005,0.7225795508024588],\"y\":[-0.5198467908245304,-0.5660939461405502,-0.3869892705881588,-0.7440591441150881,-0.7874835527144484,0.3410865306317212,0.5435565460109114,0.4217993172857343,0.46444420115801793,0.40412992640513895,0.3171713769281757,0.5122848059630762],\"type\":\"scatter\"}],                        {\"hovermode\":\"closest\",\"showlegend\":false,\"xaxis\":{\"showgrid\":false,\"tickfont\":{\"family\":\"Arial, sans-serif\",\"size\":16},\"zeroline\":false},\"yaxis\":{\"showgrid\":false,\"tickfont\":{\"family\":\"Arial, sans-serif\",\"size\":16},\"zeroline\":false},\"template\":{\"data\":{\"histogram2dcontour\":[{\"type\":\"histogram2dcontour\",\"colorbar\":{\"outlinewidth\":0,\"ticks\":\"\"},\"colorscale\":[[0.0,\"#0d0887\"],[0.1111111111111111,\"#46039f\"],[0.2222222222222222,\"#7201a8\"],[0.3333333333333333,\"#9c179e\"],[0.4444444444444444,\"#bd3786\"],[0.5555555555555556,\"#d8576b\"],[0.6666666666666666,\"#ed7953\"],[0.7777777777777778,\"#fb9f3a\"],[0.8888888888888888,\"#fdca26\"],[1.0,\"#f0f921\"]]}],\"choropleth\":[{\"type\":\"choropleth\",\"colorbar\":{\"outlinewidth\":0,\"ticks\":\"\"}}],\"histogram2d\":[{\"type\":\"histogram2d\",\"colorbar\":{\"outlinewidth\":0,\"ticks\":\"\"},\"colorscale\":[[0.0,\"#0d0887\"],[0.1111111111111111,\"#46039f\"],[0.2222222222222222,\"#7201a8\"],[0.3333333333333333,\"#9c179e\"],[0.4444444444444444,\"#bd3786\"],[0.5555555555555556,\"#d8576b\"],[0.6666666666666666,\"#ed7953\"],[0.7777777777777778,\"#fb9f3a\"],[0.8888888888888888,\"#fdca26\"],[1.0,\"#f0f921\"]]}],\"heatmap\":[{\"type\":\"heatmap\",\"colorbar\":{\"outlinewidth\":0,\"ticks\":\"\"},\"colorscale\":[[0.0,\"#0d0887\"],[0.1111111111111111,\"#46039f\"],[0.2222222222222222,\"#7201a8\"],[0.3333333333333333,\"#9c179e\"],[0.4444444444444444,\"#bd3786\"],[0.5555555555555556,\"#d8576b\"],[0.6666666666666666,\"#ed7953\"],[0.7777777777777778,\"#fb9f3a\"],[0.8888888888888888,\"#fdca26\"],[1.0,\"#f0f921\"]]}],\"heatmapgl\":[{\"type\":\"heatmapgl\",\"colorbar\":{\"outlinewidth\":0,\"ticks\":\"\"},\"colorscale\":[[0.0,\"#0d0887\"],[0.1111111111111111,\"#46039f\"],[0.2222222222222222,\"#7201a8\"],[0.3333333333333333,\"#9c179e\"],[0.4444444444444444,\"#bd3786\"],[0.5555555555555556,\"#d8576b\"],[0.6666666666666666,\"#ed7953\"],[0.7777777777777778,\"#fb9f3a\"],[0.8888888888888888,\"#fdca26\"],[1.0,\"#f0f921\"]]}],\"contourcarpet\":[{\"type\":\"contourcarpet\",\"colorbar\":{\"outlinewidth\":0,\"ticks\":\"\"}}],\"contour\":[{\"type\":\"contour\",\"colorbar\":{\"outlinewidth\":0,\"ticks\":\"\"},\"colorscale\":[[0.0,\"#0d0887\"],[0.1111111111111111,\"#46039f\"],[0.2222222222222222,\"#7201a8\"],[0.3333333333333333,\"#9c179e\"],[0.4444444444444444,\"#bd3786\"],[0.5555555555555556,\"#d8576b\"],[0.6666666666666666,\"#ed7953\"],[0.7777777777777778,\"#fb9f3a\"],[0.8888888888888888,\"#fdca26\"],[1.0,\"#f0f921\"]]}],\"surface\":[{\"type\":\"surface\",\"colorbar\":{\"outlinewidth\":0,\"ticks\":\"\"},\"colorscale\":[[0.0,\"#0d0887\"],[0.1111111111111111,\"#46039f\"],[0.2222222222222222,\"#7201a8\"],[0.3333333333333333,\"#9c179e\"],[0.4444444444444444,\"#bd3786\"],[0.5555555555555556,\"#d8576b\"],[0.6666666666666666,\"#ed7953\"],[0.7777777777777778,\"#fb9f3a\"],[0.8888888888888888,\"#fdca26\"],[1.0,\"#f0f921\"]]}],\"mesh3d\":[{\"type\":\"mesh3d\",\"colorbar\":{\"outlinewidth\":0,\"ticks\":\"\"}}],\"scatter\":[{\"fillpattern\":{\"fillmode\":\"overlay\",\"size\":10,\"solidity\":0.2},\"type\":\"scatter\"}],\"parcoords\":[{\"type\":\"parcoords\",\"line\":{\"colorbar\":{\"outlinewidth\":0,\"ticks\":\"\"}}}],\"scatterpolargl\":[{\"type\":\"scatterpolargl\",\"marker\":{\"colorbar\":{\"outlinewidth\":0,\"ticks\":\"\"}}}],\"bar\":[{\"error_x\":{\"color\":\"#2a3f5f\"},\"error_y\":{\"color\":\"#2a3f5f\"},\"marker\":{\"line\":{\"color\":\"#E5ECF6\",\"width\":0.5},\"pattern\":{\"fillmode\":\"overlay\",\"size\":10,\"solidity\":0.2}},\"type\":\"bar\"}],\"scattergeo\":[{\"type\":\"scattergeo\",\"marker\":{\"colorbar\":{\"outlinewidth\":0,\"ticks\":\"\"}}}],\"scatterpolar\":[{\"type\":\"scatterpolar\",\"marker\":{\"colorbar\":{\"outlinewidth\":0,\"ticks\":\"\"}}}],\"histogram\":[{\"marker\":{\"pattern\":{\"fillmode\":\"overlay\",\"size\":10,\"solidity\":0.2}},\"type\":\"histogram\"}],\"scattergl\":[{\"type\":\"scattergl\",\"marker\":{\"colorbar\":{\"outlinewidth\":0,\"ticks\":\"\"}}}],\"scatter3d\":[{\"type\":\"scatter3d\",\"line\":{\"colorbar\":{\"outlinewidth\":0,\"ticks\":\"\"}},\"marker\":{\"colorbar\":{\"outlinewidth\":0,\"ticks\":\"\"}}}],\"scattermapbox\":[{\"type\":\"scattermapbox\",\"marker\":{\"colorbar\":{\"outlinewidth\":0,\"ticks\":\"\"}}}],\"scatterternary\":[{\"type\":\"scatterternary\",\"marker\":{\"colorbar\":{\"outlinewidth\":0,\"ticks\":\"\"}}}],\"scattercarpet\":[{\"type\":\"scattercarpet\",\"marker\":{\"colorbar\":{\"outlinewidth\":0,\"ticks\":\"\"}}}],\"carpet\":[{\"aaxis\":{\"endlinecolor\":\"#2a3f5f\",\"gridcolor\":\"white\",\"linecolor\":\"white\",\"minorgridcolor\":\"white\",\"startlinecolor\":\"#2a3f5f\"},\"baxis\":{\"endlinecolor\":\"#2a3f5f\",\"gridcolor\":\"white\",\"linecolor\":\"white\",\"minorgridcolor\":\"white\",\"startlinecolor\":\"#2a3f5f\"},\"type\":\"carpet\"}],\"table\":[{\"cells\":{\"fill\":{\"color\":\"#EBF0F8\"},\"line\":{\"color\":\"white\"}},\"header\":{\"fill\":{\"color\":\"#C8D4E3\"},\"line\":{\"color\":\"white\"}},\"type\":\"table\"}],\"barpolar\":[{\"marker\":{\"line\":{\"color\":\"#E5ECF6\",\"width\":0.5},\"pattern\":{\"fillmode\":\"overlay\",\"size\":10,\"solidity\":0.2}},\"type\":\"barpolar\"}],\"pie\":[{\"automargin\":true,\"type\":\"pie\"}]},\"layout\":{\"autotypenumbers\":\"strict\",\"colorway\":[\"#636efa\",\"#EF553B\",\"#00cc96\",\"#ab63fa\",\"#FFA15A\",\"#19d3f3\",\"#FF6692\",\"#B6E880\",\"#FF97FF\",\"#FECB52\"],\"font\":{\"color\":\"#2a3f5f\"},\"hovermode\":\"closest\",\"hoverlabel\":{\"align\":\"left\"},\"paper_bgcolor\":\"white\",\"plot_bgcolor\":\"#E5ECF6\",\"polar\":{\"bgcolor\":\"#E5ECF6\",\"angularaxis\":{\"gridcolor\":\"white\",\"linecolor\":\"white\",\"ticks\":\"\"},\"radialaxis\":{\"gridcolor\":\"white\",\"linecolor\":\"white\",\"ticks\":\"\"}},\"ternary\":{\"bgcolor\":\"#E5ECF6\",\"aaxis\":{\"gridcolor\":\"white\",\"linecolor\":\"white\",\"ticks\":\"\"},\"baxis\":{\"gridcolor\":\"white\",\"linecolor\":\"white\",\"ticks\":\"\"},\"caxis\":{\"gridcolor\":\"white\",\"linecolor\":\"white\",\"ticks\":\"\"}},\"coloraxis\":{\"colorbar\":{\"outlinewidth\":0,\"ticks\":\"\"}},\"colorscale\":{\"sequential\":[[0.0,\"#0d0887\"],[0.1111111111111111,\"#46039f\"],[0.2222222222222222,\"#7201a8\"],[0.3333333333333333,\"#9c179e\"],[0.4444444444444444,\"#bd3786\"],[0.5555555555555556,\"#d8576b\"],[0.6666666666666666,\"#ed7953\"],[0.7777777777777778,\"#fb9f3a\"],[0.8888888888888888,\"#fdca26\"],[1.0,\"#f0f921\"]],\"sequentialminus\":[[0.0,\"#0d0887\"],[0.1111111111111111,\"#46039f\"],[0.2222222222222222,\"#7201a8\"],[0.3333333333333333,\"#9c179e\"],[0.4444444444444444,\"#bd3786\"],[0.5555555555555556,\"#d8576b\"],[0.6666666666666666,\"#ed7953\"],[0.7777777777777778,\"#fb9f3a\"],[0.8888888888888888,\"#fdca26\"],[1.0,\"#f0f921\"]],\"diverging\":[[0,\"#8e0152\"],[0.1,\"#c51b7d\"],[0.2,\"#de77ae\"],[0.3,\"#f1b6da\"],[0.4,\"#fde0ef\"],[0.5,\"#f7f7f7\"],[0.6,\"#e6f5d0\"],[0.7,\"#b8e186\"],[0.8,\"#7fbc41\"],[0.9,\"#4d9221\"],[1,\"#276419\"]]},\"xaxis\":{\"gridcolor\":\"white\",\"linecolor\":\"white\",\"ticks\":\"\",\"title\":{\"standoff\":15},\"zerolinecolor\":\"white\",\"automargin\":true,\"zerolinewidth\":2},\"yaxis\":{\"gridcolor\":\"white\",\"linecolor\":\"white\",\"ticks\":\"\",\"title\":{\"standoff\":15},\"zerolinecolor\":\"white\",\"automargin\":true,\"zerolinewidth\":2},\"scene\":{\"xaxis\":{\"backgroundcolor\":\"#E5ECF6\",\"gridcolor\":\"white\",\"linecolor\":\"white\",\"showbackground\":true,\"ticks\":\"\",\"zerolinecolor\":\"white\",\"gridwidth\":2},\"yaxis\":{\"backgroundcolor\":\"#E5ECF6\",\"gridcolor\":\"white\",\"linecolor\":\"white\",\"showbackground\":true,\"ticks\":\"\",\"zerolinecolor\":\"white\",\"gridwidth\":2},\"zaxis\":{\"backgroundcolor\":\"#E5ECF6\",\"gridcolor\":\"white\",\"linecolor\":\"white\",\"showbackground\":true,\"ticks\":\"\",\"zerolinecolor\":\"white\",\"gridwidth\":2}},\"shapedefaults\":{\"line\":{\"color\":\"#2a3f5f\"}},\"annotationdefaults\":{\"arrowcolor\":\"#2a3f5f\",\"arrowhead\":0,\"arrowwidth\":1},\"geo\":{\"bgcolor\":\"white\",\"landcolor\":\"#E5ECF6\",\"subunitcolor\":\"white\",\"showland\":true,\"showlakes\":true,\"lakecolor\":\"white\"},\"title\":{\"x\":0.05},\"mapbox\":{\"style\":\"light\"}}},\"width\":600,\"height\":600},                        {\"responsive\": true}                    ).then(function(){\n",
       "                            \n",
       "var gd = document.getElementById('fd19a30a-a638-4988-aa28-b36af66f1591');\n",
       "var x = new MutationObserver(function (mutations, observer) {{\n",
       "        var display = window.getComputedStyle(gd).display;\n",
       "        if (!display || display === 'none') {{\n",
       "            console.log([gd, 'removed!']);\n",
       "            Plotly.purge(gd);\n",
       "            observer.disconnect();\n",
       "        }}\n",
       "}});\n",
       "\n",
       "// Listen for the removal of the full notebook cells\n",
       "var notebookContainer = gd.closest('#notebook-container');\n",
       "if (notebookContainer) {{\n",
       "    x.observe(notebookContainer, {childList: true});\n",
       "}}\n",
       "\n",
       "// Listen for the clearing of the current output cell\n",
       "var outputEl = gd.closest('.output');\n",
       "if (outputEl) {{\n",
       "    x.observe(outputEl, {childList: true});\n",
       "}}\n",
       "\n",
       "                        })                };                });            </script>        </div>"
      ]
     },
     "metadata": {},
     "output_type": "display_data"
    },
    {
     "data": {
      "text/plain": [
       "<networkx.classes.graph.Graph at 0x77ce331f4b10>"
      ]
     },
     "execution_count": 13,
     "metadata": {},
     "output_type": "execute_result"
    }
   ],
   "source": [
    "visualize_simplicial_complex(simplex_tree3,100)"
   ]
  }
 ],
 "metadata": {
  "kernelspec": {
   "display_name": "TDA",
   "language": "python",
   "name": "tda"
  },
  "language_info": {
   "codemirror_mode": {
    "name": "ipython",
    "version": 3
   },
   "file_extension": ".py",
   "mimetype": "text/x-python",
   "name": "python",
   "nbconvert_exporter": "python",
   "pygments_lexer": "ipython3",
   "version": "3.7.12"
  }
 },
 "nbformat": 4,
 "nbformat_minor": 5
}
